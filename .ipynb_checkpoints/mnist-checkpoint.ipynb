{
 "cells": [
  {
   "cell_type": "code",
   "execution_count": null,
   "id": "aA45nGKK7UrB",
   "metadata": {
    "colab": {
     "base_uri": "https://localhost:8080/"
    },
    "executionInfo": {
     "elapsed": 30697,
     "status": "ok",
     "timestamp": 1677512118664,
     "user": {
      "displayName": "Ivan Ivanov",
      "userId": "10248411662243150405"
     },
     "user_tz": 300
    },
    "id": "aA45nGKK7UrB",
    "outputId": "8143244b-87e8-41bc-ffb0-12fc0ab62235"
   },
   "outputs": [],
   "source": [
    "# Install jax if necessary\n",
    "# !pip install --upgrade -q \"jax[cuda]\" -f https://storage.googleapis.com/jax-releases/jax_cuda_releases.html"
   ]
  },
  {
   "cell_type": "code",
   "execution_count": null,
   "id": "T_DwoezGrlt-",
   "metadata": {
    "colab": {
     "base_uri": "https://localhost:8080/"
    },
    "executionInfo": {
     "elapsed": 19906,
     "status": "ok",
     "timestamp": 1677512142181,
     "user": {
      "displayName": "Ivan Ivanov",
      "userId": "10248411662243150405"
     },
     "user_tz": 300
    },
    "id": "T_DwoezGrlt-",
    "outputId": "42982b18-6a64-482c-cee6-0bb660801f2f"
   },
   "outputs": [],
   "source": [
    "# Install flax if necessary\n",
    "# !pip install -q git+https://github.com/google/flax"
   ]
  },
  {
   "cell_type": "code",
   "execution_count": null,
   "id": "ING7DlZvsfUx",
   "metadata": {
    "colab": {
     "base_uri": "https://localhost:8080/"
    },
    "executionInfo": {
     "elapsed": 6882,
     "status": "ok",
     "timestamp": 1677512153667,
     "user": {
      "displayName": "Ivan Ivanov",
      "userId": "10248411662243150405"
     },
     "user_tz": 300
    },
    "id": "ING7DlZvsfUx",
    "outputId": "679c6e56-234c-40b9-c29e-e30e471b98b9"
   },
   "outputs": [],
   "source": [
    "# Install clu and upgrade jaxlib if necessary\n",
    "# !pip install --upgrade -q jaxlib clu"
   ]
  },
  {
   "cell_type": "code",
   "execution_count": null,
   "id": "eebc8dad",
   "metadata": {
    "executionInfo": {
     "elapsed": 8841,
     "status": "ok",
     "timestamp": 1677512181324,
     "user": {
      "displayName": "Ivan Ivanov",
      "userId": "10248411662243150405"
     },
     "user_tz": 300
    },
    "id": "eebc8dad"
   },
   "outputs": [],
   "source": [
    "import jax\n",
    "import jax.numpy as jnp\n",
    "\n",
    "from flax import linen as nn\n",
    "import optax\n",
    "from matplotlib import pyplot as plt\n",
    "\n",
    "import tensorflow as tf\n",
    "import tensorflow_datasets as tfds"
   ]
  },
  {
   "cell_type": "code",
   "execution_count": null,
   "id": "b3fbcd53",
   "metadata": {},
   "outputs": [],
   "source": [
    "# There is no need for tensorflow to use the gpu; it is only dataloading\n",
    "tf.config.experimental.set_visible_devices([], \"GPU\")"
   ]
  },
  {
   "cell_type": "code",
   "execution_count": null,
   "id": "f024da5b",
   "metadata": {
    "executionInfo": {
     "elapsed": 397,
     "status": "ok",
     "timestamp": 1677512203791,
     "user": {
      "displayName": "Ivan Ivanov",
      "userId": "10248411662243150405"
     },
     "user_tz": 300
    },
    "id": "f024da5b"
   },
   "outputs": [],
   "source": [
    "# This finction loads the MNIST dataset into memory\n",
    "\n",
    "def get_datasets(num_epochs, batch_size):\n",
    "  train_ds = tfds.load('mnist', split='train') # 60,000 images (28x28)\n",
    "  test_ds = tfds.load('mnist', split='test') # 10,000 images (28x28)\n",
    "  \n",
    "  # Let's cast the pixel values into floats and normalize them\n",
    "  train_ds = train_ds.map(lambda sample: {'image': tf.cast(sample['image'], tf.float32) / 255.,\n",
    "                                          'label': sample['label']})\n",
    "  test_ds = test_ds.map(lambda sample: {'image': tf.cast(sample['image'], tf.float32) / 255.,\n",
    "                                        'label': sample['label']})\n",
    "\n",
    "  train_ds = train_ds.repeat(num_epochs).shuffle(10*batch_size) # allocating a buffer to randomly draw elements from\n",
    "  train_ds = train_ds.batch(batch_size, drop_remainder=True).prefetch(1) # group into batches of batch_size and skip incomplete batch, prefetch the next sample to improve latency\n",
    "  test_ds = test_ds.shuffle(10*batch_size) # allocating a buffer to randomly draw elements from\n",
    "  test_ds = test_ds.batch(batch_size, drop_remainder=True).prefetch(1) # group into batches of batch_size and skip incomplete batch, prefetch the next sample to improve latency\n",
    "\n",
    "  return train_ds, test_ds"
   ]
  },
  {
   "cell_type": "code",
   "execution_count": null,
   "id": "036c74fa",
   "metadata": {
    "executionInfo": {
     "elapsed": 342,
     "status": "ok",
     "timestamp": 1677512224715,
     "user": {
      "displayName": "Ivan Ivanov",
      "userId": "10248411662243150405"
     },
     "user_tz": 300
    },
    "id": "036c74fa"
   },
   "outputs": [],
   "source": [
    "# Setting up a template; the parameters (kernels, biases, etc.) are a separate object\n",
    "class CNN(nn.Module):\n",
    "    \n",
    "  # __call__ subsumes __init__  \n",
    "  @nn.compact\n",
    "  def __call__(self, x, training):\n",
    "    # Shape is (1, 28, 28, 1)\n",
    "    x = nn.Conv(features=4, kernel_size=(3, 3))(x)\n",
    "    # Shape is (1, 28, 28, 32)\n",
    "    x = nn.gelu(x)\n",
    "    x = nn.avg_pool(x, window_shape=(2, 2), strides=(2, 2))\n",
    "    # Shape is (1, 14, 14, 32)\n",
    "    x = nn.Conv(features=8, kernel_size=(3, 3))(x)\n",
    "    # Shape is (1, 14, 14, 64)\n",
    "    x = nn.gelu(x)\n",
    "    x = nn.avg_pool(x, window_shape=(2, 2), strides=(2, 2))\n",
    "    # Shape is (1, 7, 7, 64)\n",
    "    x = x.reshape((x.shape[0], -1))  # flatten but keep batch dimension\n",
    "    # Shape is (1, 3136 = 7x7x64)\n",
    "    x = nn.Dense(features=64)(x)\n",
    "    x = nn.Dropout(rate=0.3, deterministic=not training)(x)\n",
    "    # Shape is (1, 256)\n",
    "    x = nn.gelu(x)\n",
    "    x = nn.Dense(features=10)(x)\n",
    "    # Shape is (1, 10)\n",
    "    return x"
   ]
  },
  {
   "cell_type": "code",
   "execution_count": null,
   "id": "7d8a7952",
   "metadata": {
    "colab": {
     "base_uri": "https://localhost:8080/"
    },
    "executionInfo": {
     "elapsed": 5839,
     "status": "ok",
     "timestamp": 1677512237176,
     "user": {
      "displayName": "Ivan Ivanov",
      "userId": "10248411662243150405"
     },
     "user_tz": 300
    },
    "id": "7d8a7952",
    "outputId": "cfd7ba97-fb48-48a7-cf99-3181b835e65e"
   },
   "outputs": [],
   "source": [
    "# To create a summary for the Module instantiate with template data\n",
    "print(CNN().tabulate(jax.random.PRNGKey(0), jnp.ones((1, 28, 28, 1)), training=False))"
   ]
  },
  {
   "cell_type": "markdown",
   "id": "773ebfc3",
   "metadata": {
    "id": "773ebfc3"
   },
   "source": [
    "Let's create a single dataclass that represents the entire training state, including step number, parameters, and optimizer state. This class will subclass flax.training.train_state.TrainState \n",
    "\n",
    "The clu library contains utils for common ML training loops. Here we will use it for evaluation metrics."
   ]
  },
  {
   "cell_type": "code",
   "execution_count": null,
   "id": "057dc7bb",
   "metadata": {
    "executionInfo": {
     "elapsed": 1232,
     "status": "ok",
     "timestamp": 1677512295950,
     "user": {
      "displayName": "Ivan Ivanov",
      "userId": "10248411662243150405"
     },
     "user_tz": 300
    },
    "id": "057dc7bb"
   },
   "outputs": [],
   "source": [
    "from clu import metrics\n",
    "from flax.training import train_state  # Useful dataclass to keep train state\n",
    "from flax import struct                # Flax dataclasses which could be safely processed with JAX "
   ]
  },
  {
   "cell_type": "code",
   "execution_count": null,
   "id": "caaa60b0",
   "metadata": {
    "executionInfo": {
     "elapsed": 4,
     "status": "ok",
     "timestamp": 1677512307624,
     "user": {
      "displayName": "Ivan Ivanov",
      "userId": "10248411662243150405"
     },
     "user_tz": 300
    },
    "id": "caaa60b0"
   },
   "outputs": [],
   "source": [
    "# A set of metrics in a safe dataclass\n",
    "@struct.dataclass\n",
    "class Metrics(metrics.Collection):\n",
    "  accuracy: metrics.Accuracy\n",
    "  loss: metrics.Average.from_output('loss')"
   ]
  },
  {
   "cell_type": "code",
   "execution_count": null,
   "id": "3b764774",
   "metadata": {
    "executionInfo": {
     "elapsed": 859,
     "status": "ok",
     "timestamp": 1677512353729,
     "user": {
      "displayName": "Ivan Ivanov",
      "userId": "10248411662243150405"
     },
     "user_tz": 300
    },
    "id": "3b764774"
   },
   "outputs": [],
   "source": [
    "class TrainState(train_state.TrainState):\n",
    "  # Our train state will have metrics attribute\n",
    "  metrics: Metrics\n",
    "  # It will also have a dropout key\n",
    "  key: jax.random.KeyArray"
   ]
  },
  {
   "cell_type": "code",
   "execution_count": null,
   "id": "fb80a306",
   "metadata": {},
   "outputs": [],
   "source": [
    "# We also need JAX PRNGKey for the parameter initialization\n",
    "root_key = jax.random.PRNGKey(42)\n",
    "main_key, params_key, dropout_key = jax.random.split(key=root_key, num=3)"
   ]
  },
  {
   "cell_type": "code",
   "execution_count": null,
   "id": "e386828a",
   "metadata": {},
   "outputs": [],
   "source": [
    "# Initialize the model\n",
    "cnn = CNN()\n",
    "# initialize parameters by passing a template image\n",
    "params = cnn.init(params_key, \n",
    "                jnp.ones([1, 28, 28, 1]), \n",
    "                training=False)['params']"
   ]
  },
  {
   "cell_type": "code",
   "execution_count": null,
   "id": "65e19548",
   "metadata": {
    "executionInfo": {
     "elapsed": 363,
     "status": "ok",
     "timestamp": 1677513432401,
     "user": {
      "displayName": "Ivan Ivanov",
      "userId": "10248411662243150405"
     },
     "user_tz": 300
    },
    "id": "65e19548"
   },
   "outputs": [],
   "source": [
    "# The optimizer parameters\n",
    "learning_rate = 0.001"
   ]
  },
  {
   "cell_type": "code",
   "execution_count": null,
   "id": "eb90336e",
   "metadata": {
    "executionInfo": {
     "elapsed": 434,
     "status": "ok",
     "timestamp": 1677512583391,
     "user": {
      "displayName": "Ivan Ivanov",
      "userId": "10248411662243150405"
     },
     "user_tz": 300
    },
    "id": "eb90336e"
   },
   "outputs": [],
   "source": [
    "# Lets create the training state\n",
    "# The Module foward pass will be in the TrainState apply function. \n",
    "state = TrainState.create(\n",
    "      apply_fn=cnn.apply, \n",
    "      params=params, \n",
    "      key=dropout_key, \n",
    "      tx=optax.adam(learning_rate),\n",
    "      metrics=Metrics.empty())"
   ]
  },
  {
   "cell_type": "markdown",
   "id": "2a0ac6ea",
   "metadata": {
    "id": "2a0ac6ea"
   },
   "source": [
    "The training step takes the following actions on a batch:\n",
    "    \n",
    "    1. Takes a forward pass with the current state parameters.\n",
    "    2. Evaluates cross entropy loss.\n",
    "    3. Evaluates the gradient of the loss function with jax.grad\n",
    "    4. Applies a pytree of gradients to update the model parameters.\n",
    "    \n",
    "We trace the entire train_step function and just-in-time compile it with XLA."
   ]
  },
  {
   "cell_type": "code",
   "execution_count": null,
   "id": "ee95c8a0",
   "metadata": {
    "executionInfo": {
     "elapsed": 822,
     "status": "ok",
     "timestamp": 1677512712717,
     "user": {
      "displayName": "Ivan Ivanov",
      "userId": "10248411662243150405"
     },
     "user_tz": 300
    },
    "id": "ee95c8a0"
   },
   "outputs": [],
   "source": [
    "@jax.jit\n",
    "def train_step(state, batch, dropout_key):\n",
    "  # New PRNG key for the dropout  \n",
    "  dropout_train_key = jax.random.fold_in(key=dropout_key, data=state.step)\n",
    "  #Below the loss function will be evaluated with the current state parameters\n",
    "  def loss_fn(params):\n",
    "    logits = state.apply_fn({'params': params}, \n",
    "                batch['image'],\n",
    "                training=True, \n",
    "                rngs={'dropout': dropout_train_key}) #Log(prob_i)\n",
    "    loss = optax.softmax_cross_entropy_with_integer_labels(\n",
    "        logits=logits, labels=batch['label']).mean()\n",
    "    return loss\n",
    "  grad_fn = jax.grad(loss_fn)\n",
    "  grads = grad_fn(state.params)\n",
    "  state = state.apply_gradients(grads=grads)\n",
    "  return state"
   ]
  },
  {
   "cell_type": "markdown",
   "id": "7a1fdf45",
   "metadata": {
    "id": "7a1fdf45"
   },
   "source": [
    "We want to compute metrics during validation and testing, so their computation will be in a separate function. The lone * indicates that all following arguments are keyword-only arguments, that is, they can only be provided using their name, not as positional argument."
   ]
  },
  {
   "cell_type": "code",
   "execution_count": null,
   "id": "af2ea162",
   "metadata": {
    "executionInfo": {
     "elapsed": 506,
     "status": "ok",
     "timestamp": 1677513371574,
     "user": {
      "displayName": "Ivan Ivanov",
      "userId": "10248411662243150405"
     },
     "user_tz": 300
    },
    "id": "af2ea162"
   },
   "outputs": [],
   "source": [
    "@jax.jit\n",
    "def compute_metrics(*, state, batch):\n",
    "  logits = state.apply_fn({'params': state.params}, batch['image'],\n",
    "                training=False)\n",
    "  loss = optax.softmax_cross_entropy_with_integer_labels(\n",
    "        logits=logits, labels=batch['label']).mean()\n",
    "  metric_updates = state.metrics.single_from_model_output(\n",
    "    logits=logits, labels=batch['label'], loss=loss)\n",
    "  metrics = state.metrics.merge(metric_updates)\n",
    "  state = state.replace(metrics=metrics)\n",
    "  return state"
   ]
  },
  {
   "cell_type": "code",
   "execution_count": null,
   "id": "b4d75810",
   "metadata": {
    "executionInfo": {
     "elapsed": 5,
     "status": "ok",
     "timestamp": 1677513373539,
     "user": {
      "displayName": "Ivan Ivanov",
      "userId": "10248411662243150405"
     },
     "user_tz": 300
    },
    "id": "b4d75810"
   },
   "outputs": [],
   "source": [
    "# Let's assure tfds shuffles are reproducible\n",
    "tf.random.set_seed(42)"
   ]
  },
  {
   "cell_type": "code",
   "execution_count": null,
   "id": "6d9645cc",
   "metadata": {
    "colab": {
     "base_uri": "https://localhost:8080/",
     "height": 156,
     "referenced_widgets": [
      "75c464aa667444e394beddb31de17a43",
      "6934bf313cb24bceb84eccacc43302af",
      "1843f9dac55e45b1978aa098af538d3b",
      "b097d41074bb481793ae78f009242acf",
      "837c73d46ae74b83bbccc3cefccf3635",
      "d233c8210de14774be05697432b6397d",
      "b1737a5b77f24ab18663cb0c15d89804",
      "36da01e8eb76440fa4c21f6506a27a98",
      "220a60481cbe4cfeb83b1fda895b46a7",
      "282bea1d25044ca69d850f266e765ad0",
      "ac137390162049b1bba1c31d58157b8b"
     ]
    },
    "executionInfo": {
     "elapsed": 14757,
     "status": "ok",
     "timestamp": 1677513405787,
     "user": {
      "displayName": "Ivan Ivanov",
      "userId": "10248411662243150405"
     },
     "user_tz": 300
    },
    "id": "6d9645cc",
    "outputId": "1bff9456-1c4a-41e1-ce0b-cb4476b26483"
   },
   "outputs": [],
   "source": [
    "num_epochs = 32\n",
    "batch_size = 32\n",
    "\n",
    "# Download, shuffle, batch the data with the function we defined\n",
    "train_ds, test_ds = get_datasets(num_epochs, batch_size)"
   ]
  },
  {
   "cell_type": "code",
   "execution_count": null,
   "id": "9719c18f",
   "metadata": {
    "colab": {
     "base_uri": "https://localhost:8080/"
    },
    "executionInfo": {
     "elapsed": 460,
     "status": "ok",
     "timestamp": 1677513409977,
     "user": {
      "displayName": "Ivan Ivanov",
      "userId": "10248411662243150405"
     },
     "user_tz": 300
    },
    "id": "9719c18f",
    "outputId": "4b687b08-0118-4517-e9c0-be6d062b2e3e"
   },
   "outputs": [],
   "source": [
    "len(train_ds), len(test_ds)\n",
    "# (60000/32*10, 10000/32)"
   ]
  },
  {
   "cell_type": "code",
   "execution_count": null,
   "id": "58b4ad6a",
   "metadata": {
    "executionInfo": {
     "elapsed": 9,
     "status": "ok",
     "timestamp": 1677513446640,
     "user": {
      "displayName": "Ivan Ivanov",
      "userId": "10248411662243150405"
     },
     "user_tz": 300
    },
    "id": "58b4ad6a"
   },
   "outputs": [],
   "source": [
    "# since train_ds is replicated num_epochs times in get_datasets(), we divide by num_epochs\n",
    "num_steps_per_epoch = train_ds.cardinality().numpy() // num_epochs"
   ]
  },
  {
   "cell_type": "code",
   "execution_count": null,
   "id": "n0cImvkb4y5m",
   "metadata": {
    "executionInfo": {
     "elapsed": 1,
     "status": "ok",
     "timestamp": 1677513448577,
     "user": {
      "displayName": "Ivan Ivanov",
      "userId": "10248411662243150405"
     },
     "user_tz": 300
    },
    "id": "n0cImvkb4y5m"
   },
   "outputs": [],
   "source": [
    "metrics_history = {'train_loss': [],\n",
    "                   'train_accuracy': [],\n",
    "                   'test_loss': [],\n",
    "                   'test_accuracy': []}"
   ]
  },
  {
   "cell_type": "markdown",
   "id": "EOlseJ_74-VQ",
   "metadata": {
    "id": "EOlseJ_74-VQ"
   },
   "source": [
    "Finally we are ready to run training"
   ]
  },
  {
   "cell_type": "code",
   "execution_count": null,
   "id": "fjTHMoyt42FE",
   "metadata": {
    "colab": {
     "base_uri": "https://localhost:8080/"
    },
    "executionInfo": {
     "elapsed": 74654,
     "status": "ok",
     "timestamp": 1677513814266,
     "user": {
      "displayName": "Ivan Ivanov",
      "userId": "10248411662243150405"
     },
     "user_tz": 300
    },
    "id": "fjTHMoyt42FE",
    "outputId": "a039ea60-1c89-4ba9-e650-94301e482941"
   },
   "outputs": [],
   "source": [
    "for step,batch in enumerate(train_ds.as_numpy_iterator()):\n",
    "\n",
    "  # Run optimization steps over training batches and compute batch metrics\n",
    "  state = train_step(state, batch, dropout_key) # get updated train state (which contains the updated parameters)\n",
    "  state = compute_metrics(state=state, batch=batch) # aggregate batch metrics\n",
    "\n",
    "  if (step+1) % num_steps_per_epoch == 0: # one training epoch has passed\n",
    "    for metric,value in state.metrics.compute().items(): # compute metrics\n",
    "      metrics_history[f'train_{metric}'].append(value) # record metrics\n",
    "    state = state.replace(metrics=state.metrics.empty()) # reset train_metrics for next training epoch\n",
    "\n",
    "    # Compute metrics on the test set after each training epoch\n",
    "    test_state = state\n",
    "    for test_batch in test_ds.as_numpy_iterator():\n",
    "      test_state = compute_metrics(state=test_state, batch=test_batch)\n",
    "\n",
    "    for metric,value in test_state.metrics.compute().items():\n",
    "      metrics_history[f'test_{metric}'].append(value)\n",
    "\n",
    "    print(f\"train epoch: {(step+1) // num_steps_per_epoch}, \"\n",
    "          f\"loss: {metrics_history['train_loss'][-1]}, \"\n",
    "          f\"accuracy: {metrics_history['train_accuracy'][-1] * 100}\")\n",
    "    print(f\"test epoch: {(step+1) // num_steps_per_epoch}, \"\n",
    "          f\"loss: {metrics_history['test_loss'][-1]}, \"\n",
    "          f\"accuracy: {metrics_history['test_accuracy'][-1] * 100}\")"
   ]
  },
  {
   "cell_type": "markdown",
   "id": "STvYstZF8he_",
   "metadata": {
    "id": "STvYstZF8he_"
   },
   "source": [
    "Let's visualize the metrics during training"
   ]
  },
  {
   "cell_type": "code",
   "execution_count": null,
   "id": "aUeM_xMu7zor",
   "metadata": {
    "colab": {
     "base_uri": "https://localhost:8080/",
     "height": 353
    },
    "executionInfo": {
     "elapsed": 15,
     "status": "ok",
     "timestamp": 1677513937406,
     "user": {
      "displayName": "Ivan Ivanov",
      "userId": "10248411662243150405"
     },
     "user_tz": 300
    },
    "id": "aUeM_xMu7zor",
    "outputId": "80e56976-8cfa-4e36-b263-a0bf3389c48c"
   },
   "outputs": [],
   "source": [
    "import matplotlib.pyplot as plt  # Visualization\n",
    "\n",
    "# Plot loss and accuracy in subplots\n",
    "fig, (ax1, ax2) = plt.subplots(1, 2, figsize=(15, 5))\n",
    "ax1.set_title('Loss')\n",
    "ax2.set_title('Accuracy')\n",
    "for dataset in ('train','test'):\n",
    "  ax1.plot(metrics_history[f'{dataset}_loss'], label=f'{dataset}_loss')\n",
    "  ax2.plot(metrics_history[f'{dataset}_accuracy'], label=f'{dataset}_accuracy')\n",
    "ax1.legend()\n",
    "ax2.legend()\n",
    "plt.show()\n",
    "plt.clf()"
   ]
  },
  {
   "cell_type": "markdown",
   "id": "xguU89_P9AGL",
   "metadata": {
    "id": "xguU89_P9AGL"
   },
   "source": [
    "And we can do inference on a test set."
   ]
  },
  {
   "cell_type": "code",
   "execution_count": null,
   "id": "-gn2sDO28qMy",
   "metadata": {
    "executionInfo": {
     "elapsed": 346,
     "status": "ok",
     "timestamp": 1677513942711,
     "user": {
      "displayName": "Ivan Ivanov",
      "userId": "10248411662243150405"
     },
     "user_tz": 300
    },
    "id": "-gn2sDO28qMy"
   },
   "outputs": [],
   "source": [
    "@jax.jit\n",
    "def pred_step(state, batch):\n",
    "  logits = state.apply_fn({'params': state.params}, test_batch['image'], training=False)\n",
    "  return logits.argmax(axis=1)\n",
    "\n",
    "test_batch = test_ds.as_numpy_iterator().next()\n",
    "pred = pred_step(state, test_batch)"
   ]
  },
  {
   "cell_type": "code",
   "execution_count": null,
   "id": "y0Qfu7-D9LHH",
   "metadata": {
    "colab": {
     "base_uri": "https://localhost:8080/",
     "height": 699
    },
    "executionInfo": {
     "elapsed": 1240,
     "status": "ok",
     "timestamp": 1677513944832,
     "user": {
      "displayName": "Ivan Ivanov",
      "userId": "10248411662243150405"
     },
     "user_tz": 300
    },
    "id": "y0Qfu7-D9LHH",
    "outputId": "f646435b-788c-43fd-ee15-51e0a5bdf7b2"
   },
   "outputs": [],
   "source": [
    "fig, axs = plt.subplots(5, 5, figsize=(12, 12))\n",
    "for i, ax in enumerate(axs.flatten()):\n",
    "    ax.imshow(test_batch['image'][i, ..., 0], cmap='gray')\n",
    "    ax.set_title(f\"label={pred[i]}\")\n",
    "    ax.axis('off')"
   ]
  },
  {
   "cell_type": "markdown",
   "id": "MWRMdyOQnTcQ",
   "metadata": {
    "id": "MWRMdyOQnTcQ"
   },
   "source": [
    "Homework: Play with the layers of the Model, the activation function and the hyperparameters to achieve Test accuracy over 99.5%\n",
    "\n",
    "Push your code to GitHub on branch carrying your name."
   ]
  },
  {
   "cell_type": "code",
   "execution_count": null,
   "id": "851cc433",
   "metadata": {},
   "outputs": [],
   "source": []
  }
 ],
 "metadata": {
  "accelerator": "GPU",
  "colab": {
   "provenance": []
  },
  "gpuClass": "standard",
  "kernelspec": {
   "display_name": "Python 3 (ipykernel)",
   "language": "python",
   "name": "python3"
  },
  "language_info": {
   "codemirror_mode": {
    "name": "ipython",
    "version": 3
   },
   "file_extension": ".py",
   "mimetype": "text/x-python",
   "name": "python",
   "nbconvert_exporter": "python",
   "pygments_lexer": "ipython3",
   "version": "3.10.6"
  },
  "widgets": {
   "application/vnd.jupyter.widget-state+json": {
    "1843f9dac55e45b1978aa098af538d3b": {
     "model_module": "@jupyter-widgets/controls",
     "model_module_version": "1.5.0",
     "model_name": "FloatProgressModel",
     "state": {
      "_dom_classes": [],
      "_model_module": "@jupyter-widgets/controls",
      "_model_module_version": "1.5.0",
      "_model_name": "FloatProgressModel",
      "_view_count": null,
      "_view_module": "@jupyter-widgets/controls",
      "_view_module_version": "1.5.0",
      "_view_name": "ProgressView",
      "bar_style": "success",
      "description": "",
      "description_tooltip": null,
      "layout": "IPY_MODEL_36da01e8eb76440fa4c21f6506a27a98",
      "max": 5,
      "min": 0,
      "orientation": "horizontal",
      "style": "IPY_MODEL_220a60481cbe4cfeb83b1fda895b46a7",
      "value": 5
     }
    },
    "220a60481cbe4cfeb83b1fda895b46a7": {
     "model_module": "@jupyter-widgets/controls",
     "model_module_version": "1.5.0",
     "model_name": "ProgressStyleModel",
     "state": {
      "_model_module": "@jupyter-widgets/controls",
      "_model_module_version": "1.5.0",
      "_model_name": "ProgressStyleModel",
      "_view_count": null,
      "_view_module": "@jupyter-widgets/base",
      "_view_module_version": "1.2.0",
      "_view_name": "StyleView",
      "bar_color": null,
      "description_width": ""
     }
    },
    "282bea1d25044ca69d850f266e765ad0": {
     "model_module": "@jupyter-widgets/base",
     "model_module_version": "1.2.0",
     "model_name": "LayoutModel",
     "state": {
      "_model_module": "@jupyter-widgets/base",
      "_model_module_version": "1.2.0",
      "_model_name": "LayoutModel",
      "_view_count": null,
      "_view_module": "@jupyter-widgets/base",
      "_view_module_version": "1.2.0",
      "_view_name": "LayoutView",
      "align_content": null,
      "align_items": null,
      "align_self": null,
      "border": null,
      "bottom": null,
      "display": null,
      "flex": null,
      "flex_flow": null,
      "grid_area": null,
      "grid_auto_columns": null,
      "grid_auto_flow": null,
      "grid_auto_rows": null,
      "grid_column": null,
      "grid_gap": null,
      "grid_row": null,
      "grid_template_areas": null,
      "grid_template_columns": null,
      "grid_template_rows": null,
      "height": null,
      "justify_content": null,
      "justify_items": null,
      "left": null,
      "margin": null,
      "max_height": null,
      "max_width": null,
      "min_height": null,
      "min_width": null,
      "object_fit": null,
      "object_position": null,
      "order": null,
      "overflow": null,
      "overflow_x": null,
      "overflow_y": null,
      "padding": null,
      "right": null,
      "top": null,
      "visibility": null,
      "width": null
     }
    },
    "36da01e8eb76440fa4c21f6506a27a98": {
     "model_module": "@jupyter-widgets/base",
     "model_module_version": "1.2.0",
     "model_name": "LayoutModel",
     "state": {
      "_model_module": "@jupyter-widgets/base",
      "_model_module_version": "1.2.0",
      "_model_name": "LayoutModel",
      "_view_count": null,
      "_view_module": "@jupyter-widgets/base",
      "_view_module_version": "1.2.0",
      "_view_name": "LayoutView",
      "align_content": null,
      "align_items": null,
      "align_self": null,
      "border": null,
      "bottom": null,
      "display": null,
      "flex": null,
      "flex_flow": null,
      "grid_area": null,
      "grid_auto_columns": null,
      "grid_auto_flow": null,
      "grid_auto_rows": null,
      "grid_column": null,
      "grid_gap": null,
      "grid_row": null,
      "grid_template_areas": null,
      "grid_template_columns": null,
      "grid_template_rows": null,
      "height": null,
      "justify_content": null,
      "justify_items": null,
      "left": null,
      "margin": null,
      "max_height": null,
      "max_width": null,
      "min_height": null,
      "min_width": null,
      "object_fit": null,
      "object_position": null,
      "order": null,
      "overflow": null,
      "overflow_x": null,
      "overflow_y": null,
      "padding": null,
      "right": null,
      "top": null,
      "visibility": null,
      "width": null
     }
    },
    "6934bf313cb24bceb84eccacc43302af": {
     "model_module": "@jupyter-widgets/controls",
     "model_module_version": "1.5.0",
     "model_name": "HTMLModel",
     "state": {
      "_dom_classes": [],
      "_model_module": "@jupyter-widgets/controls",
      "_model_module_version": "1.5.0",
      "_model_name": "HTMLModel",
      "_view_count": null,
      "_view_module": "@jupyter-widgets/controls",
      "_view_module_version": "1.5.0",
      "_view_name": "HTMLView",
      "description": "",
      "description_tooltip": null,
      "layout": "IPY_MODEL_d233c8210de14774be05697432b6397d",
      "placeholder": "​",
      "style": "IPY_MODEL_b1737a5b77f24ab18663cb0c15d89804",
      "value": "Dl Completed...: 100%"
     }
    },
    "75c464aa667444e394beddb31de17a43": {
     "model_module": "@jupyter-widgets/controls",
     "model_module_version": "1.5.0",
     "model_name": "HBoxModel",
     "state": {
      "_dom_classes": [],
      "_model_module": "@jupyter-widgets/controls",
      "_model_module_version": "1.5.0",
      "_model_name": "HBoxModel",
      "_view_count": null,
      "_view_module": "@jupyter-widgets/controls",
      "_view_module_version": "1.5.0",
      "_view_name": "HBoxView",
      "box_style": "",
      "children": [
       "IPY_MODEL_6934bf313cb24bceb84eccacc43302af",
       "IPY_MODEL_1843f9dac55e45b1978aa098af538d3b",
       "IPY_MODEL_b097d41074bb481793ae78f009242acf"
      ],
      "layout": "IPY_MODEL_837c73d46ae74b83bbccc3cefccf3635"
     }
    },
    "837c73d46ae74b83bbccc3cefccf3635": {
     "model_module": "@jupyter-widgets/base",
     "model_module_version": "1.2.0",
     "model_name": "LayoutModel",
     "state": {
      "_model_module": "@jupyter-widgets/base",
      "_model_module_version": "1.2.0",
      "_model_name": "LayoutModel",
      "_view_count": null,
      "_view_module": "@jupyter-widgets/base",
      "_view_module_version": "1.2.0",
      "_view_name": "LayoutView",
      "align_content": null,
      "align_items": null,
      "align_self": null,
      "border": null,
      "bottom": null,
      "display": null,
      "flex": null,
      "flex_flow": null,
      "grid_area": null,
      "grid_auto_columns": null,
      "grid_auto_flow": null,
      "grid_auto_rows": null,
      "grid_column": null,
      "grid_gap": null,
      "grid_row": null,
      "grid_template_areas": null,
      "grid_template_columns": null,
      "grid_template_rows": null,
      "height": null,
      "justify_content": null,
      "justify_items": null,
      "left": null,
      "margin": null,
      "max_height": null,
      "max_width": null,
      "min_height": null,
      "min_width": null,
      "object_fit": null,
      "object_position": null,
      "order": null,
      "overflow": null,
      "overflow_x": null,
      "overflow_y": null,
      "padding": null,
      "right": null,
      "top": null,
      "visibility": null,
      "width": null
     }
    },
    "ac137390162049b1bba1c31d58157b8b": {
     "model_module": "@jupyter-widgets/controls",
     "model_module_version": "1.5.0",
     "model_name": "DescriptionStyleModel",
     "state": {
      "_model_module": "@jupyter-widgets/controls",
      "_model_module_version": "1.5.0",
      "_model_name": "DescriptionStyleModel",
      "_view_count": null,
      "_view_module": "@jupyter-widgets/base",
      "_view_module_version": "1.2.0",
      "_view_name": "StyleView",
      "description_width": ""
     }
    },
    "b097d41074bb481793ae78f009242acf": {
     "model_module": "@jupyter-widgets/controls",
     "model_module_version": "1.5.0",
     "model_name": "HTMLModel",
     "state": {
      "_dom_classes": [],
      "_model_module": "@jupyter-widgets/controls",
      "_model_module_version": "1.5.0",
      "_model_name": "HTMLModel",
      "_view_count": null,
      "_view_module": "@jupyter-widgets/controls",
      "_view_module_version": "1.5.0",
      "_view_name": "HTMLView",
      "description": "",
      "description_tooltip": null,
      "layout": "IPY_MODEL_282bea1d25044ca69d850f266e765ad0",
      "placeholder": "​",
      "style": "IPY_MODEL_ac137390162049b1bba1c31d58157b8b",
      "value": " 5/5 [00:04&lt;00:00,  1.21s/ file]"
     }
    },
    "b1737a5b77f24ab18663cb0c15d89804": {
     "model_module": "@jupyter-widgets/controls",
     "model_module_version": "1.5.0",
     "model_name": "DescriptionStyleModel",
     "state": {
      "_model_module": "@jupyter-widgets/controls",
      "_model_module_version": "1.5.0",
      "_model_name": "DescriptionStyleModel",
      "_view_count": null,
      "_view_module": "@jupyter-widgets/base",
      "_view_module_version": "1.2.0",
      "_view_name": "StyleView",
      "description_width": ""
     }
    },
    "d233c8210de14774be05697432b6397d": {
     "model_module": "@jupyter-widgets/base",
     "model_module_version": "1.2.0",
     "model_name": "LayoutModel",
     "state": {
      "_model_module": "@jupyter-widgets/base",
      "_model_module_version": "1.2.0",
      "_model_name": "LayoutModel",
      "_view_count": null,
      "_view_module": "@jupyter-widgets/base",
      "_view_module_version": "1.2.0",
      "_view_name": "LayoutView",
      "align_content": null,
      "align_items": null,
      "align_self": null,
      "border": null,
      "bottom": null,
      "display": null,
      "flex": null,
      "flex_flow": null,
      "grid_area": null,
      "grid_auto_columns": null,
      "grid_auto_flow": null,
      "grid_auto_rows": null,
      "grid_column": null,
      "grid_gap": null,
      "grid_row": null,
      "grid_template_areas": null,
      "grid_template_columns": null,
      "grid_template_rows": null,
      "height": null,
      "justify_content": null,
      "justify_items": null,
      "left": null,
      "margin": null,
      "max_height": null,
      "max_width": null,
      "min_height": null,
      "min_width": null,
      "object_fit": null,
      "object_position": null,
      "order": null,
      "overflow": null,
      "overflow_x": null,
      "overflow_y": null,
      "padding": null,
      "right": null,
      "top": null,
      "visibility": null,
      "width": null
     }
    }
   }
  }
 },
 "nbformat": 4,
 "nbformat_minor": 5
}
