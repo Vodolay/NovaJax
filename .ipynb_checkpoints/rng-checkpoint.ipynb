{
 "cells": [
  {
   "cell_type": "code",
   "execution_count": null,
   "metadata": {
    "executionInfo": {
     "elapsed": 433,
     "status": "ok",
     "timestamp": 1677511256398,
     "user": {
      "displayName": "Ivan Ivanov",
      "userId": "10248411662243150405"
     },
     "user_tz": 300
    },
    "id": "5XDNcHfGQHUC"
   },
   "outputs": [],
   "source": [
    "import numpy as np\n",
    "from numpy.random import default_rng\n",
    "import scipy.stats as st\n",
    "import matplotlib.pyplot as plt"
   ]
  },
  {
   "cell_type": "code",
   "execution_count": null,
   "metadata": {
    "executionInfo": {
     "elapsed": 13,
     "status": "ok",
     "timestamp": 1677511256400,
     "user": {
      "displayName": "Ivan Ivanov",
      "userId": "10248411662243150405"
     },
     "user_tz": 300
    },
    "id": "3JudOcyiQHUH"
   },
   "outputs": [],
   "source": [
    "# Let's start with a home made RNG\n",
    "# It will be of the linear congruential generator variety "
   ]
  },
  {
   "cell_type": "code",
   "execution_count": null,
   "metadata": {
    "executionInfo": {
     "elapsed": 13,
     "status": "ok",
     "timestamp": 1677511256401,
     "user": {
      "displayName": "Ivan Ivanov",
      "userId": "10248411662243150405"
     },
     "user_tz": 300
    },
    "id": "GBK9Orw0QHUI"
   },
   "outputs": [],
   "source": [
    "def rng(size = 10, seed = 1, m = 2**32, a = 1664525, c = 1013904223):\n",
    "    rng_current = seed\n",
    "    uni_rns = np.zeros((size))\n",
    "    for i in range(size):\n",
    "        rng_current = (a * rng_current + c) % m\n",
    "        uni_rns[i] = rng_current/m\n",
    "    return uni_rns"
   ]
  },
  {
   "cell_type": "code",
   "execution_count": null,
   "metadata": {
    "executionInfo": {
     "elapsed": 12,
     "status": "ok",
     "timestamp": 1677511256402,
     "user": {
      "displayName": "Ivan Ivanov",
      "userId": "10248411662243150405"
     },
     "user_tz": 300
    },
    "id": "q94HAfx9QHUI"
   },
   "outputs": [],
   "source": [
    "# lets get us a 10000 samples from Uniform(0,1). The seed is 42\n",
    "u = rng(10000, 42)"
   ]
  },
  {
   "cell_type": "code",
   "execution_count": null,
   "metadata": {
    "colab": {
     "base_uri": "https://localhost:8080/",
     "height": 281
    },
    "executionInfo": {
     "elapsed": 1124,
     "status": "ok",
     "timestamp": 1677511257515,
     "user": {
      "displayName": "Ivan Ivanov",
      "userId": "10248411662243150405"
     },
     "user_tz": 300
    },
    "id": "SmppMT0RQHUJ",
    "outputId": "ea041024-c0bf-44a4-b1b1-0ee326bac909",
    "scrolled": true
   },
   "outputs": [],
   "source": [
    "fig, ax = plt.subplots(1, 1)\n",
    "ax.hist(u, bins=100)\n",
    "ax.set_ylabel('Bin counts')\n",
    "ax.set_title(\"Histogram\");"
   ]
  },
  {
   "cell_type": "code",
   "execution_count": null,
   "metadata": {
    "executionInfo": {
     "elapsed": 31,
     "status": "ok",
     "timestamp": 1677511257516,
     "user": {
      "displayName": "Ivan Ivanov",
      "userId": "10248411662243150405"
     },
     "user_tz": 300
    },
    "id": "mWiKdRe2QHUL"
   },
   "outputs": [],
   "source": [
    "# Lets use the Python built in generator "
   ]
  },
  {
   "cell_type": "code",
   "execution_count": null,
   "metadata": {
    "executionInfo": {
     "elapsed": 30,
     "status": "ok",
     "timestamp": 1677511257517,
     "user": {
      "displayName": "Ivan Ivanov",
      "userId": "10248411662243150405"
     },
     "user_tz": 300
    },
    "id": "clLYm4nxQHUL"
   },
   "outputs": [],
   "source": [
    "bi_rng = default_rng(42)\n",
    "w = bi_rng.random(10000)"
   ]
  },
  {
   "cell_type": "code",
   "execution_count": null,
   "metadata": {
    "colab": {
     "base_uri": "https://localhost:8080/",
     "height": 281
    },
    "executionInfo": {
     "elapsed": 30,
     "status": "ok",
     "timestamp": 1677511257518,
     "user": {
      "displayName": "Ivan Ivanov",
      "userId": "10248411662243150405"
     },
     "user_tz": 300
    },
    "id": "NlMvH5OGQHUM",
    "outputId": "d89b04b6-3440-4ff3-9148-0044a59bee21"
   },
   "outputs": [],
   "source": [
    "fig1, ax1 = plt.subplots(1, 1)\n",
    "ax1.hist(w, bins=100)\n",
    "ax1.set_ylabel('Bin counts')\n",
    "ax1.set_title(\"Histogram\");"
   ]
  },
  {
   "cell_type": "markdown",
   "metadata": {
    "id": "YYj29xxPaM0p"
   },
   "source": [
    "However, JAX cannot use a global PRNG state!"
   ]
  },
  {
   "cell_type": "code",
   "execution_count": null,
   "metadata": {
    "colab": {
     "base_uri": "https://localhost:8080/"
    },
    "executionInfo": {
     "elapsed": 26,
     "status": "ok",
     "timestamp": 1677511257518,
     "user": {
      "displayName": "Ivan Ivanov",
      "userId": "10248411662243150405"
     },
     "user_tz": 300
    },
    "id": "5nCtQ3UtQHUO",
    "outputId": "eac67bb6-efe6-4fe3-ba5d-2f38edd00fec"
   },
   "outputs": [],
   "source": [
    "np.random.seed(0)\n",
    "\n",
    "def foo(): return np.random.uniform()\n",
    "def bar(): return np.random.uniform()\n",
    "\n",
    "def fooba(): return 3*foo() + 2 * bar()\n",
    "\n",
    "print(fooba())"
   ]
  },
  {
   "cell_type": "markdown",
   "metadata": {
    "id": "ewglg9qva3p3"
   },
   "source": [
    "To make the result here reproducible we have to enforce a specific order of the execution (as numpy does). But JAX needs to paralelize foo() and bar().\n",
    "\n",
    "To avoid this issue, JAX does not use a global state. Instead, random functions explicitly consume the state, which is referred to as a key (random key is the same thing as random seed)."
   ]
  },
  {
   "cell_type": "code",
   "execution_count": null,
   "metadata": {
    "executionInfo": {
     "elapsed": 6538,
     "status": "ok",
     "timestamp": 1677511264038,
     "user": {
      "displayName": "Ivan Ivanov",
      "userId": "10248411662243150405"
     },
     "user_tz": 300
    },
    "id": "RGK9ML0Zay5s"
   },
   "outputs": [],
   "source": [
    "# Install jax here if not already installed\n",
    "# !pip install --upgrade -q \"jax[cuda]\" -f https://storage.googleapis.com/jax-releases/jax_cuda_releases.html"
   ]
  },
  {
   "cell_type": "code",
   "execution_count": null,
   "metadata": {
    "colab": {
     "base_uri": "https://localhost:8080/"
    },
    "executionInfo": {
     "elapsed": 682,
     "status": "ok",
     "timestamp": 1677511264717,
     "user": {
      "displayName": "Ivan Ivanov",
      "userId": "10248411662243150405"
     },
     "user_tz": 300
    },
    "id": "ZiVY5ZgBbfGy",
    "outputId": "52f57de6-d355-4fe8-b888-ee2ddb05bfdc"
   },
   "outputs": [],
   "source": [
    "from jax import random\n",
    "\n",
    "key = random.PRNGKey(42)\n",
    "\n",
    "print(key)"
   ]
  },
  {
   "cell_type": "code",
   "execution_count": null,
   "metadata": {
    "colab": {
     "base_uri": "https://localhost:8080/"
    },
    "executionInfo": {
     "elapsed": 338,
     "status": "ok",
     "timestamp": 1677511265050,
     "user": {
      "displayName": "Ivan Ivanov",
      "userId": "10248411662243150405"
     },
     "user_tz": 300
    },
    "id": "0G7wsdUbbtV-",
    "outputId": "411d655e-2255-4431-ac33-64a10d2ffeed"
   },
   "outputs": [],
   "source": [
    "print(random.normal(key))\n",
    "print(random.normal(key))"
   ]
  },
  {
   "cell_type": "markdown",
   "metadata": {
    "id": "lJvcC3kIb32e"
   },
   "source": [
    "In JAX, in order to generate different and independent samples, you must split() the key yourself whenever you want to call a random function. split() is a deterministic function that converts one key into several independent (in the pseudorandomness sense) keys."
   ]
  },
  {
   "cell_type": "code",
   "execution_count": null,
   "metadata": {
    "executionInfo": {
     "elapsed": 1073,
     "status": "ok",
     "timestamp": 1677511266119,
     "user": {
      "displayName": "Ivan Ivanov",
      "userId": "10248411662243150405"
     },
     "user_tz": 300
    },
    "id": "Wa3jL84GbwXr"
   },
   "outputs": [],
   "source": [
    "key1, key2 = random.split(key)"
   ]
  },
  {
   "cell_type": "code",
   "execution_count": null,
   "metadata": {
    "colab": {
     "base_uri": "https://localhost:8080/"
    },
    "executionInfo": {
     "elapsed": 5,
     "status": "ok",
     "timestamp": 1677511266120,
     "user": {
      "displayName": "Ivan Ivanov",
      "userId": "10248411662243150405"
     },
     "user_tz": 300
    },
    "id": "9AkdKe6qcY-P",
    "outputId": "b51b25ff-fc0e-424d-8442-078c77035486"
   },
   "outputs": [],
   "source": [
    "print(f\"Key 1: {key1}; Key 2: {key2}\")"
   ]
  },
  {
   "cell_type": "markdown",
   "metadata": {
    "id": "OsQicM7Nc9kZ"
   },
   "source": [
    "Final Note: NumPy provides a sequential equivalent guarantee, meaning that sampling N numbers in a row individually or sampling a vector of N numbers results in the same pseudo-random sequences. JAX does not provide such a sequential equivalence guarantee."
   ]
  },
  {
   "cell_type": "code",
   "execution_count": null,
   "metadata": {
    "executionInfo": {
     "elapsed": 4,
     "status": "ok",
     "timestamp": 1677511266120,
     "user": {
      "displayName": "Ivan Ivanov",
      "userId": "10248411662243150405"
     },
     "user_tz": 300
    },
    "id": "jl8vyzwQccb6"
   },
   "outputs": [],
   "source": []
  }
 ],
 "metadata": {
  "colab": {
   "provenance": []
  },
  "kernelspec": {
   "display_name": "Python 3 (ipykernel)",
   "language": "python",
   "name": "python3"
  },
  "language_info": {
   "codemirror_mode": {
    "name": "ipython",
    "version": 3
   },
   "file_extension": ".py",
   "mimetype": "text/x-python",
   "name": "python",
   "nbconvert_exporter": "python",
   "pygments_lexer": "ipython3",
   "version": "3.10.6"
  }
 },
 "nbformat": 4,
 "nbformat_minor": 1
}
