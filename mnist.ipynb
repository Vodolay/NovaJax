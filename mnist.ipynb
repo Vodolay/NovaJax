{
 "cells": [
  {
   "cell_type": "code",
   "execution_count": 1,
   "id": "aA45nGKK7UrB",
   "metadata": {
    "colab": {
     "base_uri": "https://localhost:8080/"
    },
    "executionInfo": {
     "elapsed": 30697,
     "status": "ok",
     "timestamp": 1677512118664,
     "user": {
      "displayName": "Ivan Ivanov",
      "userId": "10248411662243150405"
     },
     "user_tz": 300
    },
    "id": "aA45nGKK7UrB",
    "outputId": "8143244b-87e8-41bc-ffb0-12fc0ab62235"
   },
   "outputs": [],
   "source": [
    "# Install jax if necessary\n",
    "# !pip install --upgrade -q \"jax[cuda]\" -f https://storage.googleapis.com/jax-releases/jax_cuda_releases.html"
   ]
  },
  {
   "cell_type": "code",
   "execution_count": 2,
   "id": "T_DwoezGrlt-",
   "metadata": {
    "colab": {
     "base_uri": "https://localhost:8080/"
    },
    "executionInfo": {
     "elapsed": 19906,
     "status": "ok",
     "timestamp": 1677512142181,
     "user": {
      "displayName": "Ivan Ivanov",
      "userId": "10248411662243150405"
     },
     "user_tz": 300
    },
    "id": "T_DwoezGrlt-",
    "outputId": "42982b18-6a64-482c-cee6-0bb660801f2f"
   },
   "outputs": [],
   "source": [
    "# Install flax if necessary\n",
    "# !pip install -q git+https://github.com/google/flax"
   ]
  },
  {
   "cell_type": "code",
   "execution_count": 3,
   "id": "ING7DlZvsfUx",
   "metadata": {
    "colab": {
     "base_uri": "https://localhost:8080/"
    },
    "executionInfo": {
     "elapsed": 6882,
     "status": "ok",
     "timestamp": 1677512153667,
     "user": {
      "displayName": "Ivan Ivanov",
      "userId": "10248411662243150405"
     },
     "user_tz": 300
    },
    "id": "ING7DlZvsfUx",
    "outputId": "679c6e56-234c-40b9-c29e-e30e471b98b9"
   },
   "outputs": [],
   "source": [
    "# Install clu, orbax and upgrade jaxlib if necessary\n",
    "# !pip install --upgrade -q jaxlib clu orbax"
   ]
  },
  {
   "cell_type": "code",
   "execution_count": 4,
   "id": "eebc8dad",
   "metadata": {
    "executionInfo": {
     "elapsed": 8841,
     "status": "ok",
     "timestamp": 1677512181324,
     "user": {
      "displayName": "Ivan Ivanov",
      "userId": "10248411662243150405"
     },
     "user_tz": 300
    },
    "id": "eebc8dad"
   },
   "outputs": [],
   "source": [
    "import os\n",
    "\n",
    "import jax\n",
    "import jax.numpy as jnp\n",
    "\n",
    "from flax import linen as nn\n",
    "from flax.training import train_state, checkpoints\n",
    "import optax\n",
    "import orbax\n",
    "\n",
    "from matplotlib import pyplot as plt\n",
    "\n",
    "import tensorflow as tf\n",
    "import tensorflow_datasets as tfds\n",
    "\n",
    "from typing import Any"
   ]
  },
  {
   "cell_type": "code",
   "execution_count": 5,
   "id": "b3fbcd53",
   "metadata": {},
   "outputs": [],
   "source": [
    "# There is no need for tensorflow to use the gpu; it is only dataloading\n",
    "tf.config.experimental.set_visible_devices([], \"GPU\")"
   ]
  },
  {
   "cell_type": "code",
   "execution_count": 6,
   "id": "f024da5b",
   "metadata": {
    "executionInfo": {
     "elapsed": 397,
     "status": "ok",
     "timestamp": 1677512203791,
     "user": {
      "displayName": "Ivan Ivanov",
      "userId": "10248411662243150405"
     },
     "user_tz": 300
    },
    "id": "f024da5b"
   },
   "outputs": [],
   "source": [
    "# This finction loads the MNIST dataset into memory\n",
    "\n",
    "def get_datasets(num_epochs, batch_size):\n",
    "  train_ds = tfds.load('mnist', split='train') # 60,000 images (28x28)\n",
    "  test_ds = tfds.load('mnist', split='test') # 10,000 images (28x28)\n",
    "  \n",
    "  # Let's cast the pixel values into floats and normalize them\n",
    "  train_ds = train_ds.map(lambda sample: {'image': tf.cast(sample['image'], tf.float32) / 255.,\n",
    "                                          'label': sample['label']})\n",
    "  test_ds = test_ds.map(lambda sample: {'image': tf.cast(sample['image'], tf.float32) / 255.,\n",
    "                                        'label': sample['label']})\n",
    "\n",
    "  train_ds = train_ds.repeat(num_epochs).shuffle(10*batch_size) # allocating a buffer to randomly draw elements from\n",
    "  train_ds = train_ds.batch(batch_size, drop_remainder=True).prefetch(1) # group into batches of batch_size and skip incomplete batch, prefetch the next sample to improve latency\n",
    "  test_ds = test_ds.shuffle(10*batch_size) # allocating a buffer to randomly draw elements from\n",
    "  test_ds = test_ds.batch(batch_size, drop_remainder=True).prefetch(1) # group into batches of batch_size and skip incomplete batch, prefetch the next sample to improve latency\n",
    "\n",
    "  return train_ds, test_ds"
   ]
  },
  {
   "cell_type": "code",
   "execution_count": 7,
   "id": "036c74fa",
   "metadata": {
    "executionInfo": {
     "elapsed": 342,
     "status": "ok",
     "timestamp": 1677512224715,
     "user": {
      "displayName": "Ivan Ivanov",
      "userId": "10248411662243150405"
     },
     "user_tz": 300
    },
    "id": "036c74fa"
   },
   "outputs": [],
   "source": [
    "# Setting up a template; the parameters (kernels, biases, etc.) are a separate object\n",
    "class CNN(nn.Module):\n",
    "    \n",
    "  # __call__ subsumes __init__  \n",
    "  @nn.compact\n",
    "  def __call__(self, x, training):\n",
    "    # Shape is (1, 28, 28, 1)\n",
    "    x = nn.Conv(features=8, kernel_size=(3, 3))(x)\n",
    "    # Shape is (1, 28, 28, 8)\n",
    "    x = nn.gelu(x)\n",
    "    x = nn.avg_pool(x, window_shape=(2, 2), strides=(2, 2))\n",
    "    # Shape is (1, 14, 14, 8)\n",
    "    x = nn.Conv(features=16, kernel_size=(3, 3))(x)\n",
    "    # Shape is (1, 14, 14, 16)\n",
    "    x = nn.gelu(x)\n",
    "    x = nn.avg_pool(x, window_shape=(2, 2), strides=(2, 2))\n",
    "    # Shape is (1, 7, 7, 16)\n",
    "    x = x.reshape((x.shape[0], -1))  # flatten but keep batch dimension\n",
    "    # Shape is (1, 784 = 7x7x16)\n",
    "    x = nn.Dense(features=128)(x)\n",
    "    x = nn.BatchNorm(use_running_average=not training)(x)\n",
    "    # Shape is (1, 128)\n",
    "    x = nn.gelu(x)\n",
    "    x = nn.Dense(features=32)(x)\n",
    "    x = nn.BatchNorm(use_running_average=not training)(x)\n",
    "    # Shape is (1, 32)\n",
    "    x = nn.gelu(x)\n",
    "    x = nn.Dense(features=10)(x)\n",
    "    # Shape is (1, 10)\n",
    "    return x"
   ]
  },
  {
   "cell_type": "code",
   "execution_count": 8,
   "id": "7d8a7952",
   "metadata": {
    "colab": {
     "base_uri": "https://localhost:8080/"
    },
    "executionInfo": {
     "elapsed": 5839,
     "status": "ok",
     "timestamp": 1677512237176,
     "user": {
      "displayName": "Ivan Ivanov",
      "userId": "10248411662243150405"
     },
     "user_tz": 300
    },
    "id": "7d8a7952",
    "outputId": "cfd7ba97-fb48-48a7-cf99-3181b835e65e"
   },
   "outputs": [
    {
     "name": "stdout",
     "output_type": "stream",
     "text": [
      "\n",
      "\u001b[3m                                  CNN Summary                                   \u001b[0m\n",
      "┏━━━━━━━━━━━━┳━━━━━━━━━━━┳━━━━━━━━━━━━━┳━━━━━━━━━━━━┳━━━━━━━━━━━━━┳━━━━━━━━━━━━┓\n",
      "┃\u001b[1m \u001b[0m\u001b[1mpath      \u001b[0m\u001b[1m \u001b[0m┃\u001b[1m \u001b[0m\u001b[1mmodule   \u001b[0m\u001b[1m \u001b[0m┃\u001b[1m \u001b[0m\u001b[1minputs     \u001b[0m\u001b[1m \u001b[0m┃\u001b[1m \u001b[0m\u001b[1moutputs   \u001b[0m\u001b[1m \u001b[0m┃\u001b[1m \u001b[0m\u001b[1mbatch_stats\u001b[0m\u001b[1m \u001b[0m┃\u001b[1m \u001b[0m\u001b[1mparams    \u001b[0m\u001b[1m \u001b[0m┃\n",
      "┡━━━━━━━━━━━━╇━━━━━━━━━━━╇━━━━━━━━━━━━━╇━━━━━━━━━━━━╇━━━━━━━━━━━━━╇━━━━━━━━━━━━┩\n",
      "│            │ CNN       │ -           │ \u001b[2mfloat32\u001b[0m[1… │             │            │\n",
      "│            │           │ \u001b[2mfloat32\u001b[0m[1,… │            │             │            │\n",
      "│            │           │ - training: │            │             │            │\n",
      "│            │           │ False       │            │             │            │\n",
      "├────────────┼───────────┼─────────────┼────────────┼─────────────┼────────────┤\n",
      "│ Conv_0     │ Conv      │ \u001b[2mfloat32\u001b[0m[1,… │ \u001b[2mfloat32\u001b[0m[1… │             │ bias:      │\n",
      "│            │           │             │            │             │ \u001b[2mfloat32\u001b[0m[8] │\n",
      "│            │           │             │            │             │ kernel:    │\n",
      "│            │           │             │            │             │ \u001b[2mfloat32\u001b[0m[3… │\n",
      "│            │           │             │            │             │            │\n",
      "│            │           │             │            │             │ \u001b[1m80 \u001b[0m\u001b[1;2m(320 B)\u001b[0m │\n",
      "├────────────┼───────────┼─────────────┼────────────┼─────────────┼────────────┤\n",
      "│ Conv_1     │ Conv      │ \u001b[2mfloat32\u001b[0m[1,… │ \u001b[2mfloat32\u001b[0m[1… │             │ bias:      │\n",
      "│            │           │             │            │             │ \u001b[2mfloat32\u001b[0m[1… │\n",
      "│            │           │             │            │             │ kernel:    │\n",
      "│            │           │             │            │             │ \u001b[2mfloat32\u001b[0m[3… │\n",
      "│            │           │             │            │             │            │\n",
      "│            │           │             │            │             │ \u001b[1m1,168 \u001b[0m\u001b[1;2m(4.7\u001b[0m │\n",
      "│            │           │             │            │             │ \u001b[1;2mKB)\u001b[0m        │\n",
      "├────────────┼───────────┼─────────────┼────────────┼─────────────┼────────────┤\n",
      "│ Dense_0    │ Dense     │ \u001b[2mfloat32\u001b[0m[1,… │ \u001b[2mfloat32\u001b[0m[1… │             │ bias:      │\n",
      "│            │           │             │            │             │ \u001b[2mfloat32\u001b[0m[1… │\n",
      "│            │           │             │            │             │ kernel:    │\n",
      "│            │           │             │            │             │ \u001b[2mfloat32\u001b[0m[7… │\n",
      "│            │           │             │            │             │            │\n",
      "│            │           │             │            │             │ \u001b[1m100,480 \u001b[0m   │\n",
      "│            │           │             │            │             │ \u001b[1;2m(401.9 KB)\u001b[0m │\n",
      "├────────────┼───────────┼─────────────┼────────────┼─────────────┼────────────┤\n",
      "│ BatchNorm… │ BatchNorm │ \u001b[2mfloat32\u001b[0m[1,… │ \u001b[2mfloat32\u001b[0m[1… │ mean:       │ bias:      │\n",
      "│            │           │             │            │ \u001b[2mfloat32\u001b[0m[12… │ \u001b[2mfloat32\u001b[0m[1… │\n",
      "│            │           │             │            │ var:        │ scale:     │\n",
      "│            │           │             │            │ \u001b[2mfloat32\u001b[0m[12… │ \u001b[2mfloat32\u001b[0m[1… │\n",
      "│            │           │             │            │             │            │\n",
      "│            │           │             │            │ \u001b[1m256 \u001b[0m\u001b[1;2m(1.0 \u001b[0m   │ \u001b[1m256 \u001b[0m\u001b[1;2m(1.0 \u001b[0m  │\n",
      "│            │           │             │            │ \u001b[1;2mKB)\u001b[0m         │ \u001b[1;2mKB)\u001b[0m        │\n",
      "├────────────┼───────────┼─────────────┼────────────┼─────────────┼────────────┤\n",
      "│ Dense_1    │ Dense     │ \u001b[2mfloat32\u001b[0m[1,… │ \u001b[2mfloat32\u001b[0m[1… │             │ bias:      │\n",
      "│            │           │             │            │             │ \u001b[2mfloat32\u001b[0m[3… │\n",
      "│            │           │             │            │             │ kernel:    │\n",
      "│            │           │             │            │             │ \u001b[2mfloat32\u001b[0m[1… │\n",
      "│            │           │             │            │             │            │\n",
      "│            │           │             │            │             │ \u001b[1m4,128 \u001b[0m     │\n",
      "│            │           │             │            │             │ \u001b[1;2m(16.5 KB)\u001b[0m  │\n",
      "├────────────┼───────────┼─────────────┼────────────┼─────────────┼────────────┤\n",
      "│ BatchNorm… │ BatchNorm │ \u001b[2mfloat32\u001b[0m[1,… │ \u001b[2mfloat32\u001b[0m[1… │ mean:       │ bias:      │\n",
      "│            │           │             │            │ \u001b[2mfloat32\u001b[0m[32] │ \u001b[2mfloat32\u001b[0m[3… │\n",
      "│            │           │             │            │ var:        │ scale:     │\n",
      "│            │           │             │            │ \u001b[2mfloat32\u001b[0m[32] │ \u001b[2mfloat32\u001b[0m[3… │\n",
      "│            │           │             │            │             │            │\n",
      "│            │           │             │            │ \u001b[1m64 \u001b[0m\u001b[1;2m(256 B)\u001b[0m  │ \u001b[1m64 \u001b[0m\u001b[1;2m(256 B)\u001b[0m │\n",
      "├────────────┼───────────┼─────────────┼────────────┼─────────────┼────────────┤\n",
      "│ Dense_2    │ Dense     │ \u001b[2mfloat32\u001b[0m[1,… │ \u001b[2mfloat32\u001b[0m[1… │             │ bias:      │\n",
      "│            │           │             │            │             │ \u001b[2mfloat32\u001b[0m[1… │\n",
      "│            │           │             │            │             │ kernel:    │\n",
      "│            │           │             │            │             │ \u001b[2mfloat32\u001b[0m[3… │\n",
      "│            │           │             │            │             │            │\n",
      "│            │           │             │            │             │ \u001b[1m330 \u001b[0m\u001b[1;2m(1.3 \u001b[0m  │\n",
      "│            │           │             │            │             │ \u001b[1;2mKB)\u001b[0m        │\n",
      "├────────────┼───────────┼─────────────┼────────────┼─────────────┼────────────┤\n",
      "│\u001b[1m \u001b[0m\u001b[1m          \u001b[0m\u001b[1m \u001b[0m│\u001b[1m \u001b[0m\u001b[1m         \u001b[0m\u001b[1m \u001b[0m│\u001b[1m \u001b[0m\u001b[1m           \u001b[0m\u001b[1m \u001b[0m│\u001b[1m \u001b[0m\u001b[1m     Total\u001b[0m\u001b[1m \u001b[0m│\u001b[1m \u001b[0m\u001b[1m320 \u001b[0m\u001b[1;2m(1.3 \u001b[0m\u001b[1m  \u001b[0m\u001b[1m \u001b[0m│\u001b[1m \u001b[0m\u001b[1m106,506   \u001b[0m\u001b[1m \u001b[0m│\n",
      "│\u001b[1m            \u001b[0m│\u001b[1m           \u001b[0m│\u001b[1m             \u001b[0m│\u001b[1m            \u001b[0m│\u001b[1m \u001b[0m\u001b[1;2mKB)\u001b[0m\u001b[1m        \u001b[0m\u001b[1m \u001b[0m│\u001b[1m \u001b[0m\u001b[1;2m(426.0 KB)\u001b[0m\u001b[1m \u001b[0m│\n",
      "└────────────┴───────────┴─────────────┴────────────┴─────────────┴────────────┘\n",
      "\u001b[1m                                                                                \u001b[0m\n",
      "\u001b[1m                      Total Parameters: 106,826 \u001b[0m\u001b[1;2m(427.3 KB)\u001b[0m\u001b[1m                      \u001b[0m\n",
      "\n",
      "\n"
     ]
    }
   ],
   "source": [
    "# To create a summary for the Module instantiate with template data\n",
    "print(CNN().tabulate(jax.random.PRNGKey(0), jnp.ones((1, 28, 28, 1)), training=False))"
   ]
  },
  {
   "cell_type": "markdown",
   "id": "773ebfc3",
   "metadata": {
    "id": "773ebfc3"
   },
   "source": [
    "Let's create a single dataclass that represents the entire training state, including step number, parameters, and optimizer state. This class will subclass flax.training.train_state.TrainState \n",
    "\n",
    "The clu library contains utils for common ML training loops. Here we will use it for evaluation metrics."
   ]
  },
  {
   "cell_type": "code",
   "execution_count": 9,
   "id": "057dc7bb",
   "metadata": {
    "executionInfo": {
     "elapsed": 1232,
     "status": "ok",
     "timestamp": 1677512295950,
     "user": {
      "displayName": "Ivan Ivanov",
      "userId": "10248411662243150405"
     },
     "user_tz": 300
    },
    "id": "057dc7bb"
   },
   "outputs": [],
   "source": [
    "from clu import metrics\n",
    "from flax import struct                # Flax dataclasses which could be safely processed with JAX "
   ]
  },
  {
   "cell_type": "code",
   "execution_count": 10,
   "id": "caaa60b0",
   "metadata": {
    "executionInfo": {
     "elapsed": 4,
     "status": "ok",
     "timestamp": 1677512307624,
     "user": {
      "displayName": "Ivan Ivanov",
      "userId": "10248411662243150405"
     },
     "user_tz": 300
    },
    "id": "caaa60b0"
   },
   "outputs": [],
   "source": [
    "# A set of metrics in a safe dataclass\n",
    "@struct.dataclass\n",
    "class Metrics(metrics.Collection):\n",
    "  accuracy: metrics.Accuracy\n",
    "  loss: metrics.Average.from_output('loss')"
   ]
  },
  {
   "cell_type": "code",
   "execution_count": 11,
   "id": "c0370f16",
   "metadata": {},
   "outputs": [],
   "source": [
    "from typing import Any"
   ]
  },
  {
   "cell_type": "code",
   "execution_count": 12,
   "id": "3b764774",
   "metadata": {
    "executionInfo": {
     "elapsed": 859,
     "status": "ok",
     "timestamp": 1677512353729,
     "user": {
      "displayName": "Ivan Ivanov",
      "userId": "10248411662243150405"
     },
     "user_tz": 300
    },
    "id": "3b764774"
   },
   "outputs": [],
   "source": [
    "class TrainState(train_state.TrainState):\n",
    "  # Our train state will have metrics attribute\n",
    "  metrics: Metrics\n",
    "  # and batch_stats\n",
    "  batch_stats: Any     \n",
    "  # It will also have a dropout key\n",
    "  key: jax.random.KeyArray"
   ]
  },
  {
   "cell_type": "code",
   "execution_count": 13,
   "id": "fb80a306",
   "metadata": {},
   "outputs": [],
   "source": [
    "# We also need JAX PRNGKey for the parameter initialization\n",
    "root_key = jax.random.PRNGKey(42)\n",
    "main_key, params_key, dropout_key = jax.random.split(key=root_key, num=3)"
   ]
  },
  {
   "cell_type": "code",
   "execution_count": 14,
   "id": "e386828a",
   "metadata": {},
   "outputs": [],
   "source": [
    "# Initialize the model\n",
    "cnn = CNN()\n",
    "# initialize parameters by passing a template image\n",
    "variables = cnn.init(params_key, \n",
    "                jnp.ones([1, 28, 28, 1]), \n",
    "                training=False)\n",
    "params = variables['params']\n",
    "batch_stats = variables['batch_stats']"
   ]
  },
  {
   "cell_type": "code",
   "execution_count": 15,
   "id": "65e19548",
   "metadata": {
    "executionInfo": {
     "elapsed": 363,
     "status": "ok",
     "timestamp": 1677513432401,
     "user": {
      "displayName": "Ivan Ivanov",
      "userId": "10248411662243150405"
     },
     "user_tz": 300
    },
    "id": "65e19548"
   },
   "outputs": [],
   "source": [
    "# The optimizer parameters\n",
    "learning_rate = 0.0006\n",
    "tx=optax.adam(learning_rate)"
   ]
  },
  {
   "cell_type": "code",
   "execution_count": 16,
   "id": "eb90336e",
   "metadata": {
    "executionInfo": {
     "elapsed": 434,
     "status": "ok",
     "timestamp": 1677512583391,
     "user": {
      "displayName": "Ivan Ivanov",
      "userId": "10248411662243150405"
     },
     "user_tz": 300
    },
    "id": "eb90336e"
   },
   "outputs": [],
   "source": [
    "# Lets create the training state\n",
    "# The Module foward pass will be in the TrainState apply function. \n",
    "state = TrainState.create(\n",
    "      apply_fn=cnn.apply, \n",
    "      params=params,\n",
    "      batch_stats=batch_stats,\n",
    "      key=dropout_key, \n",
    "      tx=tx,\n",
    "      metrics=Metrics.empty())"
   ]
  },
  {
   "cell_type": "code",
   "execution_count": 17,
   "id": "d9b718d0",
   "metadata": {},
   "outputs": [],
   "source": [
    "ckpt_dir = 'checkpoints'\n",
    "\n",
    "# If the checkpoint directory is not empty we can load and start fine-tuning a pre-trained state\n",
    "if os.path.exists(ckpt_dir):\n",
    "    where = ckpt_dir + \"/0/default/\"\n",
    "    state = checkpoints.restore_checkpoint(where, target=state)"
   ]
  },
  {
   "cell_type": "markdown",
   "id": "2a0ac6ea",
   "metadata": {
    "id": "2a0ac6ea"
   },
   "source": [
    "The training step takes the following actions on a batch:\n",
    "    \n",
    "    1. Takes a forward pass with the current state parameters.\n",
    "    2. Evaluates cross entropy loss.\n",
    "    3. Evaluates the gradient of the loss function with jax.grad\n",
    "    4. Applies a pytree of gradients to update the model parameters.\n",
    "    \n",
    "We trace the entire train_step function and just-in-time compile it with XLA."
   ]
  },
  {
   "cell_type": "code",
   "execution_count": 18,
   "id": "ee95c8a0",
   "metadata": {
    "executionInfo": {
     "elapsed": 822,
     "status": "ok",
     "timestamp": 1677512712717,
     "user": {
      "displayName": "Ivan Ivanov",
      "userId": "10248411662243150405"
     },
     "user_tz": 300
    },
    "id": "ee95c8a0"
   },
   "outputs": [],
   "source": [
    "@jax.jit\n",
    "def train_step(state, batch):\n",
    "\n",
    "  #Below the loss function will be evaluated with the current state parameters\n",
    "  def loss_fn(params):\n",
    "    logits, updates = state.apply_fn({'params': params, 'batch_stats': state.batch_stats}, \n",
    "                batch['image'],\n",
    "                mutable=['batch_stats'],\n",
    "                training=True) #Log(prob_i)\n",
    "    loss = optax.softmax_cross_entropy_with_integer_labels(\n",
    "        logits=logits, labels=batch['label']).mean()\n",
    "    return loss, (logits, updates)\n",
    "  grad_fn = jax.value_and_grad(loss_fn, has_aux=True)\n",
    "  (loss, (logits, updates)), grads = grad_fn(state.params)\n",
    "  state = state.apply_gradients(grads=grads)\n",
    "  state = state.replace(batch_stats=updates['batch_stats'])\n",
    "  return state"
   ]
  },
  {
   "cell_type": "markdown",
   "id": "7a1fdf45",
   "metadata": {
    "id": "7a1fdf45"
   },
   "source": [
    "We want to compute metrics during validation and testing, so their computation will be in a separate function. The lone * indicates that all following arguments are keyword-only arguments, that is, they can only be provided using their name, not as positional argument."
   ]
  },
  {
   "cell_type": "code",
   "execution_count": 19,
   "id": "af2ea162",
   "metadata": {
    "executionInfo": {
     "elapsed": 506,
     "status": "ok",
     "timestamp": 1677513371574,
     "user": {
      "displayName": "Ivan Ivanov",
      "userId": "10248411662243150405"
     },
     "user_tz": 300
    },
    "id": "af2ea162"
   },
   "outputs": [],
   "source": [
    "@jax.jit\n",
    "def compute_metrics(*, state, batch):\n",
    "  logits = state.apply_fn({'params': state.params, 'batch_stats': state.batch_stats}, \n",
    "                batch['image'], training=False)\n",
    "  loss = optax.softmax_cross_entropy_with_integer_labels(\n",
    "        logits=logits, labels=batch['label']).mean()\n",
    "  metric_updates = state.metrics.single_from_model_output(\n",
    "    logits=logits, labels=batch['label'], loss=loss)\n",
    "  metrics = state.metrics.merge(metric_updates)\n",
    "  state = state.replace(metrics=metrics)\n",
    "  return state"
   ]
  },
  {
   "cell_type": "code",
   "execution_count": 20,
   "id": "b4d75810",
   "metadata": {
    "executionInfo": {
     "elapsed": 5,
     "status": "ok",
     "timestamp": 1677513373539,
     "user": {
      "displayName": "Ivan Ivanov",
      "userId": "10248411662243150405"
     },
     "user_tz": 300
    },
    "id": "b4d75810"
   },
   "outputs": [],
   "source": [
    "# Let's assure tfds shuffles are reproducible\n",
    "tf.random.set_seed(42)"
   ]
  },
  {
   "cell_type": "code",
   "execution_count": 21,
   "id": "6d9645cc",
   "metadata": {
    "colab": {
     "base_uri": "https://localhost:8080/",
     "height": 156,
     "referenced_widgets": [
      "75c464aa667444e394beddb31de17a43",
      "6934bf313cb24bceb84eccacc43302af",
      "1843f9dac55e45b1978aa098af538d3b",
      "b097d41074bb481793ae78f009242acf",
      "837c73d46ae74b83bbccc3cefccf3635",
      "d233c8210de14774be05697432b6397d",
      "b1737a5b77f24ab18663cb0c15d89804",
      "36da01e8eb76440fa4c21f6506a27a98",
      "220a60481cbe4cfeb83b1fda895b46a7",
      "282bea1d25044ca69d850f266e765ad0",
      "ac137390162049b1bba1c31d58157b8b"
     ]
    },
    "executionInfo": {
     "elapsed": 14757,
     "status": "ok",
     "timestamp": 1677513405787,
     "user": {
      "displayName": "Ivan Ivanov",
      "userId": "10248411662243150405"
     },
     "user_tz": 300
    },
    "id": "6d9645cc",
    "outputId": "1bff9456-1c4a-41e1-ce0b-cb4476b26483"
   },
   "outputs": [],
   "source": [
    "num_epochs = 32\n",
    "batch_size = 32\n",
    "\n",
    "# Download, shuffle, batch the data with the function we defined\n",
    "train_ds, test_ds = get_datasets(num_epochs, batch_size)"
   ]
  },
  {
   "cell_type": "code",
   "execution_count": 22,
   "id": "9719c18f",
   "metadata": {
    "colab": {
     "base_uri": "https://localhost:8080/"
    },
    "executionInfo": {
     "elapsed": 460,
     "status": "ok",
     "timestamp": 1677513409977,
     "user": {
      "displayName": "Ivan Ivanov",
      "userId": "10248411662243150405"
     },
     "user_tz": 300
    },
    "id": "9719c18f",
    "outputId": "4b687b08-0118-4517-e9c0-be6d062b2e3e"
   },
   "outputs": [
    {
     "data": {
      "text/plain": [
       "(60000, 312)"
      ]
     },
     "execution_count": 22,
     "metadata": {},
     "output_type": "execute_result"
    }
   ],
   "source": [
    "len(train_ds), len(test_ds)"
   ]
  },
  {
   "cell_type": "code",
   "execution_count": 23,
   "id": "58b4ad6a",
   "metadata": {
    "executionInfo": {
     "elapsed": 9,
     "status": "ok",
     "timestamp": 1677513446640,
     "user": {
      "displayName": "Ivan Ivanov",
      "userId": "10248411662243150405"
     },
     "user_tz": 300
    },
    "id": "58b4ad6a"
   },
   "outputs": [],
   "source": [
    "# since train_ds is replicated num_epochs times in get_datasets(), we divide by num_epochs\n",
    "num_steps_per_epoch = train_ds.cardinality().numpy() // num_epochs"
   ]
  },
  {
   "cell_type": "code",
   "execution_count": 24,
   "id": "n0cImvkb4y5m",
   "metadata": {
    "executionInfo": {
     "elapsed": 1,
     "status": "ok",
     "timestamp": 1677513448577,
     "user": {
      "displayName": "Ivan Ivanov",
      "userId": "10248411662243150405"
     },
     "user_tz": 300
    },
    "id": "n0cImvkb4y5m"
   },
   "outputs": [],
   "source": [
    "metrics_history = {'train_loss': [],\n",
    "                   'train_accuracy': [],\n",
    "                   'test_loss': [],\n",
    "                   'test_accuracy': []}"
   ]
  },
  {
   "cell_type": "code",
   "execution_count": 25,
   "id": "f1e6cc0b",
   "metadata": {},
   "outputs": [],
   "source": [
    "# We will also setup Orbax Checkpointer so we can save the best check points\n",
    "\n",
    "if not os.path.exists(ckpt_dir):\n",
    "    os.mkdir(ckpt_dir)\n",
    "\n",
    "def best_fn(metrics):\n",
    "  return metrics['accuracy']\n",
    "    \n",
    "options = orbax.checkpoint.CheckpointManagerOptions(max_to_keep=2, best_fn=best_fn, best_mode='max')\n",
    "save_args = jax.tree_util.tree_map(\n",
    "    lambda _: orbax.checkpoint.SaveArgs(aggregate=True), state)\n",
    "\n",
    "orbax_checkpointer = orbax.checkpoint.PyTreeCheckpointer()\n",
    "checkpoint_manager = orbax.checkpoint.CheckpointManager(ckpt_dir, \n",
    "                        orbax_checkpointer, options)"
   ]
  },
  {
   "cell_type": "markdown",
   "id": "EOlseJ_74-VQ",
   "metadata": {
    "id": "EOlseJ_74-VQ"
   },
   "source": [
    "Finally we are ready to run training"
   ]
  },
  {
   "cell_type": "code",
   "execution_count": 26,
   "id": "fjTHMoyt42FE",
   "metadata": {
    "colab": {
     "base_uri": "https://localhost:8080/"
    },
    "executionInfo": {
     "elapsed": 74654,
     "status": "ok",
     "timestamp": 1677513814266,
     "user": {
      "displayName": "Ivan Ivanov",
      "userId": "10248411662243150405"
     },
     "user_tz": 300
    },
    "id": "fjTHMoyt42FE",
    "outputId": "a039ea60-1c89-4ba9-e650-94301e482941",
    "scrolled": true
   },
   "outputs": [
    {
     "name": "stdout",
     "output_type": "stream",
     "text": [
      "train epoch: 1, loss: 0.4740208089351654, accuracy: 89.74119567871094\n",
      "test epoch: 1, loss: 0.049454670399427414, accuracy: 98.53765869140625\n",
      "train epoch: 2, loss: 0.040474504232406616, accuracy: 98.84333801269531\n",
      "test epoch: 2, loss: 0.036129966378211975, accuracy: 98.7880630493164\n",
      "train epoch: 3, loss: 0.02859232760965824, accuracy: 99.2066650390625\n",
      "test epoch: 3, loss: 0.040753040462732315, accuracy: 98.71794891357422\n",
      "train epoch: 4, loss: 0.020811421796679497, accuracy: 99.40833282470703\n",
      "test epoch: 4, loss: 0.04829958826303482, accuracy: 98.50761413574219\n",
      "train epoch: 5, loss: 0.017842981964349747, accuracy: 99.48666381835938\n",
      "test epoch: 5, loss: 0.03671318292617798, accuracy: 98.83814239501953\n",
      "train epoch: 6, loss: 0.01353911217302084, accuracy: 99.63166809082031\n",
      "test epoch: 6, loss: 0.035251859575510025, accuracy: 98.92828369140625\n",
      "train epoch: 7, loss: 0.011091266758739948, accuracy: 99.68333435058594\n",
      "test epoch: 7, loss: 0.03597341477870941, accuracy: 98.94831848144531\n",
      "train epoch: 8, loss: 0.009189426898956299, accuracy: 99.7550048828125\n",
      "test epoch: 8, loss: 0.04967084527015686, accuracy: 98.55769348144531\n",
      "train epoch: 9, loss: 0.008732426911592484, accuracy: 99.74166870117188\n",
      "test epoch: 9, loss: 0.03471839800477028, accuracy: 98.91827392578125\n",
      "train epoch: 10, loss: 0.006742698606103659, accuracy: 99.80999755859375\n",
      "test epoch: 10, loss: 0.031088801100850105, accuracy: 99.04847717285156\n",
      "train epoch: 11, loss: 0.005928214639425278, accuracy: 99.84833526611328\n",
      "test epoch: 11, loss: 0.02911035344004631, accuracy: 99.12860870361328\n",
      "train epoch: 12, loss: 0.005519595928490162, accuracy: 99.84500122070312\n",
      "test epoch: 12, loss: 0.03826581686735153, accuracy: 98.90824890136719\n",
      "train epoch: 13, loss: 0.00581942405551672, accuracy: 99.82499694824219\n",
      "test epoch: 13, loss: 0.041897278279066086, accuracy: 98.6678695678711\n",
      "train epoch: 14, loss: 0.0038977472577244043, accuracy: 99.89500427246094\n",
      "test epoch: 14, loss: 0.03660872206091881, accuracy: 98.92828369140625\n",
      "train epoch: 15, loss: 0.004214030224829912, accuracy: 99.86833190917969\n",
      "test epoch: 15, loss: 0.034044504165649414, accuracy: 99.08854675292969\n",
      "train epoch: 16, loss: 0.0027844628784805536, accuracy: 99.93000030517578\n",
      "test epoch: 16, loss: 0.02892632782459259, accuracy: 99.13862609863281\n",
      "train epoch: 17, loss: 0.0030266703106462955, accuracy: 99.91999816894531\n",
      "test epoch: 17, loss: 0.0303599014878273, accuracy: 99.08854675292969\n",
      "train epoch: 18, loss: 0.0031337772961705923, accuracy: 99.91166687011719\n",
      "test epoch: 18, loss: 0.03211767226457596, accuracy: 99.15865325927734\n",
      "train epoch: 19, loss: 0.002497479785233736, accuracy: 99.93000030517578\n",
      "test epoch: 19, loss: 0.03511802852153778, accuracy: 99.0584945678711\n",
      "train epoch: 20, loss: 0.0021806431468576193, accuracy: 99.95000457763672\n",
      "test epoch: 20, loss: 0.03189733251929283, accuracy: 99.0184326171875\n",
      "train epoch: 21, loss: 0.00201339740306139, accuracy: 99.95500183105469\n",
      "test epoch: 21, loss: 0.029554620385169983, accuracy: 99.16867065429688\n",
      "train epoch: 22, loss: 0.001816601026803255, accuracy: 99.95333862304688\n",
      "test epoch: 22, loss: 0.029946792870759964, accuracy: 99.10857391357422\n",
      "train epoch: 23, loss: 0.0018498165300115943, accuracy: 99.94833374023438\n",
      "test epoch: 23, loss: 0.02259260043501854, accuracy: 99.27884674072266\n",
      "train epoch: 24, loss: 0.0015386195154860616, accuracy: 99.96499633789062\n",
      "test epoch: 24, loss: 0.03935329243540764, accuracy: 98.94831848144531\n",
      "train epoch: 25, loss: 0.0015971274115145206, accuracy: 99.9566650390625\n",
      "test epoch: 25, loss: 0.02819650061428547, accuracy: 99.14863586425781\n",
      "train epoch: 26, loss: 0.00174013152718544, accuracy: 99.95500183105469\n",
      "test epoch: 26, loss: 0.03369313105940819, accuracy: 99.10857391357422\n",
      "train epoch: 27, loss: 0.0011289833346381783, accuracy: 99.97167205810547\n",
      "test epoch: 27, loss: 0.032109592109918594, accuracy: 99.16867065429688\n",
      "train epoch: 28, loss: 0.0013932628789916635, accuracy: 99.95999908447266\n",
      "test epoch: 28, loss: 0.03503362834453583, accuracy: 99.06851196289062\n",
      "train epoch: 29, loss: 0.0012928344076499343, accuracy: 99.96666717529297\n",
      "test epoch: 29, loss: 0.03601929172873497, accuracy: 98.99839782714844\n",
      "train epoch: 30, loss: 0.0010917483596131206, accuracy: 99.9749984741211\n",
      "test epoch: 30, loss: 0.032762039452791214, accuracy: 99.208740234375\n",
      "train epoch: 31, loss: 0.0009961429750546813, accuracy: 99.9816665649414\n",
      "test epoch: 31, loss: 0.030898241326212883, accuracy: 99.21875\n",
      "train epoch: 32, loss: 0.0007066675461828709, accuracy: 99.98833465576172\n",
      "test epoch: 32, loss: 0.04222474247217178, accuracy: 99.0184326171875\n"
     ]
    }
   ],
   "source": [
    "for step,batch in enumerate(train_ds.as_numpy_iterator()):\n",
    "\n",
    "  if (step+1) % num_steps_per_epoch == 0: # one training epoch has passed\n",
    "    epoch = (step+1) // num_steps_per_epoch\n",
    "    \n",
    "    for metric,value in state.metrics.compute().items(): # compute metrics\n",
    "      metrics_history[f'train_{metric}'].append(value) # record metrics\n",
    "    state = state.replace(metrics=state.metrics.empty()) # reset train_metrics for next training epoch\n",
    "\n",
    "    # Compute metrics on the test set after each training epoch\n",
    "    test_state = state\n",
    "    for test_batch in test_ds.as_numpy_iterator():\n",
    "      test_state = compute_metrics(state=test_state, batch=test_batch)\n",
    "        \n",
    "\n",
    "    for metric, value in test_state.metrics.compute().items():\n",
    "      metrics_history[f'test_{metric}'].append(value)\n",
    "    \n",
    "    test_accuracy = {'accuracy': metrics_history['test_accuracy'][-1].item() * 100}\n",
    "    \n",
    "    print(f\"train epoch: {epoch}, \"\n",
    "          f\"loss: {metrics_history['train_loss'][-1]}, \"\n",
    "          f\"accuracy: {metrics_history['train_accuracy'][-1] * 100}\")\n",
    "    print(f\"test epoch: {epoch}, \"\n",
    "          f\"loss: {metrics_history['test_loss'][-1]}, \"\n",
    "          f\"accuracy: {metrics_history['test_accuracy'][-1] * 100}\")\n",
    "    \n",
    "    checkpoint_manager.save(epoch, state, metrics=test_accuracy, save_kwargs={'save_args': save_args})\n",
    "    \n",
    "  # Run optimization steps over training batches and compute batch metrics\n",
    "  state = train_step(state, batch) # get updated train state (which contains the updated parameters)\n",
    "  state = compute_metrics(state=state, batch=batch) # aggregate batch metrics"
   ]
  },
  {
   "cell_type": "markdown",
   "id": "STvYstZF8he_",
   "metadata": {
    "id": "STvYstZF8he_"
   },
   "source": [
    "Let's visualize the metrics during training"
   ]
  },
  {
   "cell_type": "code",
   "execution_count": 27,
   "id": "aUeM_xMu7zor",
   "metadata": {
    "colab": {
     "base_uri": "https://localhost:8080/",
     "height": 353
    },
    "executionInfo": {
     "elapsed": 15,
     "status": "ok",
     "timestamp": 1677513937406,
     "user": {
      "displayName": "Ivan Ivanov",
      "userId": "10248411662243150405"
     },
     "user_tz": 300
    },
    "id": "aUeM_xMu7zor",
    "outputId": "80e56976-8cfa-4e36-b263-a0bf3389c48c"
   },
   "outputs": [
    {
     "data": {
      "image/png": "[encoded data removed]",
      "text/plain": [
       "<Figure size 1500x500 with 2 Axes>"
      ]
     },
     "metadata": {},
     "output_type": "display_data"
    },
    {
     "data": {
      "text/plain": [
       "<Figure size 640x480 with 0 Axes>"
      ]
     },
     "metadata": {},
     "output_type": "display_data"
    }
   ],
   "source": [
    "import matplotlib.pyplot as plt  # Visualization\n",
    "\n",
    "# Plot loss and accuracy in subplots\n",
    "fig, (ax1, ax2) = plt.subplots(1, 2, figsize=(15, 5))\n",
    "ax1.set_title('Loss')\n",
    "ax2.set_title('Accuracy')\n",
    "for dataset in ('train','test'):\n",
    "  ax1.plot(metrics_history[f'{dataset}_loss'], label=f'{dataset}_loss')\n",
    "  ax2.plot(metrics_history[f'{dataset}_accuracy'], label=f'{dataset}_accuracy')\n",
    "ax1.legend()\n",
    "ax2.legend()\n",
    "plt.show()\n",
    "plt.clf()"
   ]
  },
  {
   "cell_type": "markdown",
   "id": "xguU89_P9AGL",
   "metadata": {
    "id": "xguU89_P9AGL"
   },
   "source": [
    "# And we can do inference on a test set. We will load the best saved model."
   ]
  },
  {
   "cell_type": "code",
   "execution_count": 31,
   "id": "f6c0655a",
   "metadata": {},
   "outputs": [],
   "source": [
    "#We need an empty state template to restore the saved model\n",
    "empty_state = TrainState.create(\n",
    "      apply_fn=cnn.apply, \n",
    "      params=params,\n",
    "      batch_stats=batch_stats,\n",
    "      key=dropout_key, \n",
    "      tx=tx,\n",
    "      metrics=Metrics.empty())\n",
    "\n",
    "where = ckpt_dir + \"/0/default/\"\n",
    "\n",
    "state_restored = checkpoints.restore_checkpoint(where, target=empty_state)"
   ]
  },
  {
   "cell_type": "code",
   "execution_count": 32,
   "id": "-gn2sDO28qMy",
   "metadata": {
    "executionInfo": {
     "elapsed": 346,
     "status": "ok",
     "timestamp": 1677513942711,
     "user": {
      "displayName": "Ivan Ivanov",
      "userId": "10248411662243150405"
     },
     "user_tz": 300
    },
    "id": "-gn2sDO28qMy"
   },
   "outputs": [],
   "source": [
    "@jax.jit\n",
    "def pred_step(state, batch):\n",
    "  logits = state.apply_fn({'params': state.params, 'batch_stats': state.batch_stats}, \n",
    "                          test_batch['image'], training=False)\n",
    "  return logits.argmax(axis=1)\n",
    "\n",
    "test_batch = test_ds.as_numpy_iterator().next()\n",
    "pred = pred_step(state_restored, test_batch)"
   ]
  },
  {
   "cell_type": "code",
   "execution_count": 33,
   "id": "y0Qfu7-D9LHH",
   "metadata": {
    "colab": {
     "base_uri": "https://localhost:8080/",
     "height": 699
    },
    "executionInfo": {
     "elapsed": 1240,
     "status": "ok",
     "timestamp": 1677513944832,
     "user": {
      "displayName": "Ivan Ivanov",
      "userId": "10248411662243150405"
     },
     "user_tz": 300
    },
    "id": "y0Qfu7-D9LHH",
    "outputId": "f646435b-788c-43fd-ee15-51e0a5bdf7b2"
   },
   "outputs": [
    {
     "data": {
      "image/png": "[encoded data removed]",
      "text/plain": [
       "<Figure size 1200x1200 with 25 Axes>"
      ]
     },
     "metadata": {},
     "output_type": "display_data"
    }
   ],
   "source": [
    "fig, axs = plt.subplots(5, 5, figsize=(12, 12))\n",
    "for i, ax in enumerate(axs.flatten()):\n",
    "    ax.imshow(test_batch['image'][i, ..., 0], cmap='gray')\n",
    "    ax.set_title(f\"label={pred[i]}\")\n",
    "    ax.axis('off')"
   ]
  },
  {
   "cell_type": "markdown",
   "id": "MWRMdyOQnTcQ",
   "metadata": {
    "id": "MWRMdyOQnTcQ"
   },
   "source": [
    "Homework: Play with the layers of the Model, the activation function and the hyperparameters to achieve Test accuracy over 99.5%\n",
    "\n",
    "Push your code to GitHub on branch carrying your name."
   ]
  },
  {
   "cell_type": "code",
   "execution_count": null,
   "id": "9909d668",
   "metadata": {},
   "outputs": [],
   "source": []
  }
 ],
 "metadata": {
  "accelerator": "GPU",
  "colab": {
   "provenance": []
  },
  "gpuClass": "standard",
  "kernelspec": {
   "display_name": "Python 3 (ipykernel)",
   "language": "python",
   "name": "python3"
  },
  "language_info": {
   "codemirror_mode": {
    "name": "ipython",
    "version": 3
   },
   "file_extension": ".py",
   "mimetype": "text/x-python",
   "name": "python",
   "nbconvert_exporter": "python",
   "pygments_lexer": "ipython3",
   "version": "3.10.6"
  },
  "widgets": {
   "application/vnd.jupyter.widget-state+json": {
    "1843f9dac55e45b1978aa098af538d3b": {
     "model_module": "@jupyter-widgets/controls",
     "model_module_version": "1.5.0",
     "model_name": "FloatProgressModel",
     "state": {
      "_dom_classes": [],
      "_model_module": "@jupyter-widgets/controls",
      "_model_module_version": "1.5.0",
      "_model_name": "FloatProgressModel",
      "_view_count": null,
      "_view_module": "@jupyter-widgets/controls",
      "_view_module_version": "1.5.0",
      "_view_name": "ProgressView",
      "bar_style": "success",
      "description": "",
      "description_tooltip": null,
      "layout": "IPY_MODEL_36da01e8eb76440fa4c21f6506a27a98",
      "max": 5,
      "min": 0,
      "orientation": "horizontal",
      "style": "IPY_MODEL_220a60481cbe4cfeb83b1fda895b46a7",
      "value": 5
     }
    },
    "220a60481cbe4cfeb83b1fda895b46a7": {
     "model_module": "@jupyter-widgets/controls",
     "model_module_version": "1.5.0",
     "model_name": "ProgressStyleModel",
     "state": {
      "_model_module": "@jupyter-widgets/controls",
      "_model_module_version": "1.5.0",
      "_model_name": "ProgressStyleModel",
      "_view_count": null,
      "_view_module": "@jupyter-widgets/base",
      "_view_module_version": "1.2.0",
      "_view_name": "StyleView",
      "bar_color": null,
      "description_width": ""
     }
    },
    "282bea1d25044ca69d850f266e765ad0": {
     "model_module": "@jupyter-widgets/base",
     "model_module_version": "1.2.0",
     "model_name": "LayoutModel",
     "state": {
      "_model_module": "@jupyter-widgets/base",
      "_model_module_version": "1.2.0",
      "_model_name": "LayoutModel",
      "_view_count": null,
      "_view_module": "@jupyter-widgets/base",
      "_view_module_version": "1.2.0",
      "_view_name": "LayoutView",
      "align_content": null,
      "align_items": null,
      "align_self": null,
      "border": null,
      "bottom": null,
      "display": null,
      "flex": null,
      "flex_flow": null,
      "grid_area": null,
      "grid_auto_columns": null,
      "grid_auto_flow": null,
      "grid_auto_rows": null,
      "grid_column": null,
      "grid_gap": null,
      "grid_row": null,
      "grid_template_areas": null,
      "grid_template_columns": null,
      "grid_template_rows": null,
      "height": null,
      "justify_content": null,
      "justify_items": null,
      "left": null,
      "margin": null,
      "max_height": null,
      "max_width": null,
      "min_height": null,
      "min_width": null,
      "object_fit": null,
      "object_position": null,
      "order": null,
      "overflow": null,
      "overflow_x": null,
      "overflow_y": null,
      "padding": null,
      "right": null,
      "top": null,
      "visibility": null,
      "width": null
     }
    },
    "36da01e8eb76440fa4c21f6506a27a98": {
     "model_module": "@jupyter-widgets/base",
     "model_module_version": "1.2.0",
     "model_name": "LayoutModel",
     "state": {
      "_model_module": "@jupyter-widgets/base",
      "_model_module_version": "1.2.0",
      "_model_name": "LayoutModel",
      "_view_count": null,
      "_view_module": "@jupyter-widgets/base",
      "_view_module_version": "1.2.0",
      "_view_name": "LayoutView",
      "align_content": null,
      "align_items": null,
      "align_self": null,
      "border": null,
      "bottom": null,
      "display": null,
      "flex": null,
      "flex_flow": null,
      "grid_area": null,
      "grid_auto_columns": null,
      "grid_auto_flow": null,
      "grid_auto_rows": null,
      "grid_column": null,
      "grid_gap": null,
      "grid_row": null,
      "grid_template_areas": null,
      "grid_template_columns": null,
      "grid_template_rows": null,
      "height": null,
      "justify_content": null,
      "justify_items": null,
      "left": null,
      "margin": null,
      "max_height": null,
      "max_width": null,
      "min_height": null,
      "min_width": null,
      "object_fit": null,
      "object_position": null,
      "order": null,
      "overflow": null,
      "overflow_x": null,
      "overflow_y": null,
      "padding": null,
      "right": null,
      "top": null,
      "visibility": null,
      "width": null
     }
    },
    "6934bf313cb24bceb84eccacc43302af": {
     "model_module": "@jupyter-widgets/controls",
     "model_module_version": "1.5.0",
     "model_name": "HTMLModel",
     "state": {
      "_dom_classes": [],
      "_model_module": "@jupyter-widgets/controls",
      "_model_module_version": "1.5.0",
      "_model_name": "HTMLModel",
      "_view_count": null,
      "_view_module": "@jupyter-widgets/controls",
      "_view_module_version": "1.5.0",
      "_view_name": "HTMLView",
      "description": "",
      "description_tooltip": null,
      "layout": "IPY_MODEL_d233c8210de14774be05697432b6397d",
      "placeholder": "​",
      "style": "IPY_MODEL_b1737a5b77f24ab18663cb0c15d89804",
      "value": "Dl Completed...: 100%"
     }
    },
    "75c464aa667444e394beddb31de17a43": {
     "model_module": "@jupyter-widgets/controls",
     "model_module_version": "1.5.0",
     "model_name": "HBoxModel",
     "state": {
      "_dom_classes": [],
      "_model_module": "@jupyter-widgets/controls",
      "_model_module_version": "1.5.0",
      "_model_name": "HBoxModel",
      "_view_count": null,
      "_view_module": "@jupyter-widgets/controls",
      "_view_module_version": "1.5.0",
      "_view_name": "HBoxView",
      "box_style": "",
      "children": [
       "IPY_MODEL_6934bf313cb24bceb84eccacc43302af",
       "IPY_MODEL_1843f9dac55e45b1978aa098af538d3b",
       "IPY_MODEL_b097d41074bb481793ae78f009242acf"
      ],
      "layout": "IPY_MODEL_837c73d46ae74b83bbccc3cefccf3635"
     }
    },
    "837c73d46ae74b83bbccc3cefccf3635": {
     "model_module": "@jupyter-widgets/base",
     "model_module_version": "1.2.0",
     "model_name": "LayoutModel",
     "state": {
      "_model_module": "@jupyter-widgets/base",
      "_model_module_version": "1.2.0",
      "_model_name": "LayoutModel",
      "_view_count": null,
      "_view_module": "@jupyter-widgets/base",
      "_view_module_version": "1.2.0",
      "_view_name": "LayoutView",
      "align_content": null,
      "align_items": null,
      "align_self": null,
      "border": null,
      "bottom": null,
      "display": null,
      "flex": null,
      "flex_flow": null,
      "grid_area": null,
      "grid_auto_columns": null,
      "grid_auto_flow": null,
      "grid_auto_rows": null,
      "grid_column": null,
      "grid_gap": null,
      "grid_row": null,
      "grid_template_areas": null,
      "grid_template_columns": null,
      "grid_template_rows": null,
      "height": null,
      "justify_content": null,
      "justify_items": null,
      "left": null,
      "margin": null,
      "max_height": null,
      "max_width": null,
      "min_height": null,
      "min_width": null,
      "object_fit": null,
      "object_position": null,
      "order": null,
      "overflow": null,
      "overflow_x": null,
      "overflow_y": null,
      "padding": null,
      "right": null,
      "top": null,
      "visibility": null,
      "width": null
     }
    },
    "ac137390162049b1bba1c31d58157b8b": {
     "model_module": "@jupyter-widgets/controls",
     "model_module_version": "1.5.0",
     "model_name": "DescriptionStyleModel",
     "state": {
      "_model_module": "@jupyter-widgets/controls",
      "_model_module_version": "1.5.0",
      "_model_name": "DescriptionStyleModel",
      "_view_count": null,
      "_view_module": "@jupyter-widgets/base",
      "_view_module_version": "1.2.0",
      "_view_name": "StyleView",
      "description_width": ""
     }
    },
    "b097d41074bb481793ae78f009242acf": {
     "model_module": "@jupyter-widgets/controls",
     "model_module_version": "1.5.0",
     "model_name": "HTMLModel",
     "state": {
      "_dom_classes": [],
      "_model_module": "@jupyter-widgets/controls",
      "_model_module_version": "1.5.0",
      "_model_name": "HTMLModel",
      "_view_count": null,
      "_view_module": "@jupyter-widgets/controls",
      "_view_module_version": "1.5.0",
      "_view_name": "HTMLView",
      "description": "",
      "description_tooltip": null,
      "layout": "IPY_MODEL_282bea1d25044ca69d850f266e765ad0",
      "placeholder": "​",
      "style": "IPY_MODEL_ac137390162049b1bba1c31d58157b8b",
      "value": " 5/5 [00:04&lt;00:00,  1.21s/ file]"
     }
    },
    "b1737a5b77f24ab18663cb0c15d89804": {
     "model_module": "@jupyter-widgets/controls",
     "model_module_version": "1.5.0",
     "model_name": "DescriptionStyleModel",
     "state": {
      "_model_module": "@jupyter-widgets/controls",
      "_model_module_version": "1.5.0",
      "_model_name": "DescriptionStyleModel",
      "_view_count": null,
      "_view_module": "@jupyter-widgets/base",
      "_view_module_version": "1.2.0",
      "_view_name": "StyleView",
      "description_width": ""
     }
    },
    "d233c8210de14774be05697432b6397d": {
     "model_module": "@jupyter-widgets/base",
     "model_module_version": "1.2.0",
     "model_name": "LayoutModel",
     "state": {
      "_model_module": "@jupyter-widgets/base",
      "_model_module_version": "1.2.0",
      "_model_name": "LayoutModel",
      "_view_count": null,
      "_view_module": "@jupyter-widgets/base",
      "_view_module_version": "1.2.0",
      "_view_name": "LayoutView",
      "align_content": null,
      "align_items": null,
      "align_self": null,
      "border": null,
      "bottom": null,
      "display": null,
      "flex": null,
      "flex_flow": null,
      "grid_area": null,
      "grid_auto_columns": null,
      "grid_auto_flow": null,
      "grid_auto_rows": null,
      "grid_column": null,
      "grid_gap": null,
      "grid_row": null,
      "grid_template_areas": null,
      "grid_template_columns": null,
      "grid_template_rows": null,
      "height": null,
      "justify_content": null,
      "justify_items": null,
      "left": null,
      "margin": null,
      "max_height": null,
      "max_width": null,
      "min_height": null,
      "min_width": null,
      "object_fit": null,
      "object_position": null,
      "order": null,
      "overflow": null,
      "overflow_x": null,
      "overflow_y": null,
      "padding": null,
      "right": null,
      "top": null,
      "visibility": null,
      "width": null
     }
    }
   }
  }
 },
 "nbformat": 4,
 "nbformat_minor": 5
}
