{
 "cells": [
  {
   "cell_type": "code",
   "execution_count": 1,
   "id": "aA45nGKK7UrB",
   "metadata": {
    "colab": {
     "base_uri": "https://localhost:8080/"
    },
    "executionInfo": {
     "elapsed": 30697,
     "status": "ok",
     "timestamp": 1677512118664,
     "user": {
      "displayName": "Ivan Ivanov",
      "userId": "10248411662243150405"
     },
     "user_tz": 300
    },
    "id": "aA45nGKK7UrB",
    "outputId": "8143244b-87e8-41bc-ffb0-12fc0ab62235"
   },
   "outputs": [],
   "source": [
    "# Install jax if necessary\n",
    "# !pip install --upgrade -q \"jax[cuda]\" -f https://storage.googleapis.com/jax-releases/jax_cuda_releases.html"
   ]
  },
  {
   "cell_type": "code",
   "execution_count": 2,
   "id": "T_DwoezGrlt-",
   "metadata": {
    "colab": {
     "base_uri": "https://localhost:8080/"
    },
    "executionInfo": {
     "elapsed": 19906,
     "status": "ok",
     "timestamp": 1677512142181,
     "user": {
      "displayName": "Ivan Ivanov",
      "userId": "10248411662243150405"
     },
     "user_tz": 300
    },
    "id": "T_DwoezGrlt-",
    "outputId": "42982b18-6a64-482c-cee6-0bb660801f2f"
   },
   "outputs": [],
   "source": [
    "# Install flax if necessary\n",
    "# !pip install -q git+https://github.com/google/flax"
   ]
  },
  {
   "cell_type": "code",
   "execution_count": 3,
   "id": "ING7DlZvsfUx",
   "metadata": {
    "colab": {
     "base_uri": "https://localhost:8080/"
    },
    "executionInfo": {
     "elapsed": 6882,
     "status": "ok",
     "timestamp": 1677512153667,
     "user": {
      "displayName": "Ivan Ivanov",
      "userId": "10248411662243150405"
     },
     "user_tz": 300
    },
    "id": "ING7DlZvsfUx",
    "outputId": "679c6e56-234c-40b9-c29e-e30e471b98b9"
   },
   "outputs": [],
   "source": [
    "# Install clu and upgrade jaxlib if necessary\n",
    "# !pip install --upgrade -q jaxlib clu"
   ]
  },
  {
   "cell_type": "code",
   "execution_count": 4,
   "id": "eebc8dad",
   "metadata": {
    "executionInfo": {
     "elapsed": 8841,
     "status": "ok",
     "timestamp": 1677512181324,
     "user": {
      "displayName": "Ivan Ivanov",
      "userId": "10248411662243150405"
     },
     "user_tz": 300
    },
    "id": "eebc8dad"
   },
   "outputs": [
    {
     "name": "stderr",
     "output_type": "stream",
     "text": [
      "/home/lacsi/.local/lib/python3.10/site-packages/flax/core/frozen_dict.py:169: FutureWarning: jax.tree_util.register_keypaths is deprecated, and will be removed in a future release. Please use `register_pytree_with_keys()` instead.\n",
      "  jax.tree_util.register_keypaths(\n"
     ]
    }
   ],
   "source": [
    "import jax\n",
    "import jax.numpy as jnp\n",
    "\n",
    "from flax import linen as nn\n",
    "import optax\n",
    "from matplotlib import pyplot as plt\n",
    "\n",
    "import tensorflow as tf\n",
    "import tensorflow_datasets as tfds\n",
    "\n",
    "from typing import Any"
   ]
  },
  {
   "cell_type": "code",
   "execution_count": 5,
   "id": "b3fbcd53",
   "metadata": {},
   "outputs": [],
   "source": [
    "# There is no need for tensorflow to use the gpu; it is only dataloading\n",
    "tf.config.experimental.set_visible_devices([], \"GPU\")"
   ]
  },
  {
   "cell_type": "code",
   "execution_count": 6,
   "id": "f024da5b",
   "metadata": {
    "executionInfo": {
     "elapsed": 397,
     "status": "ok",
     "timestamp": 1677512203791,
     "user": {
      "displayName": "Ivan Ivanov",
      "userId": "10248411662243150405"
     },
     "user_tz": 300
    },
    "id": "f024da5b"
   },
   "outputs": [],
   "source": [
    "# This finction loads the MNIST dataset into memory\n",
    "\n",
    "def get_datasets(num_epochs, batch_size):\n",
    "  train_ds = tfds.load('mnist', split='train') # 60,000 images (28x28)\n",
    "  test_ds = tfds.load('mnist', split='test') # 10,000 images (28x28)\n",
    "  \n",
    "  # Let's cast the pixel values into floats and normalize them\n",
    "  train_ds = train_ds.map(lambda sample: {'image': tf.cast(sample['image'], tf.float32) / 255.,\n",
    "                                          'label': sample['label']})\n",
    "  test_ds = test_ds.map(lambda sample: {'image': tf.cast(sample['image'], tf.float32) / 255.,\n",
    "                                        'label': sample['label']})\n",
    "\n",
    "  train_ds = train_ds.repeat(num_epochs).shuffle(10*batch_size) # allocating a buffer to randomly draw elements from\n",
    "  train_ds = train_ds.batch(batch_size, drop_remainder=True).prefetch(1) # group into batches of batch_size and skip incomplete batch, prefetch the next sample to improve latency\n",
    "  test_ds = test_ds.shuffle(10*batch_size) # allocating a buffer to randomly draw elements from\n",
    "  test_ds = test_ds.batch(batch_size, drop_remainder=True).prefetch(1) # group into batches of batch_size and skip incomplete batch, prefetch the next sample to improve latency\n",
    "\n",
    "  return train_ds, test_ds"
   ]
  },
  {
   "cell_type": "code",
   "execution_count": 7,
   "id": "036c74fa",
   "metadata": {
    "executionInfo": {
     "elapsed": 342,
     "status": "ok",
     "timestamp": 1677512224715,
     "user": {
      "displayName": "Ivan Ivanov",
      "userId": "10248411662243150405"
     },
     "user_tz": 300
    },
    "id": "036c74fa"
   },
   "outputs": [],
   "source": [
    "# Setting up a template; the parameters (kernels, biases, etc.) are a separate object\n",
    "class CNN(nn.Module):\n",
    "    \n",
    "  # __call__ subsumes __init__  \n",
    "  @nn.compact\n",
    "  def __call__(self, x, training):\n",
    "    # Shape is (1, 28, 28, 1)\n",
    "    x = nn.Conv(features=8, kernel_size=(3, 3))(x)\n",
    "    # Shape is (1, 28, 28, 8)\n",
    "    x = nn.gelu(x)\n",
    "    x = nn.avg_pool(x, window_shape=(2, 2), strides=(2, 2))\n",
    "    # Shape is (1, 14, 14, 8)\n",
    "    x = nn.Conv(features=8, kernel_size=(3, 3))(x)\n",
    "    # Shape is (1, 14, 14, 16)\n",
    "    x = nn.gelu(x)\n",
    "    x = nn.avg_pool(x, window_shape=(2, 2), strides=(2, 2))\n",
    "    # Shape is (1, 7, 7, 16)\n",
    "    x = x.reshape((x.shape[0], -1))  # flatten but keep batch dimension\n",
    "    # Shape is (1, 784 = 7x7x16)\n",
    "    x = nn.Dense(features=128)(x)\n",
    "    x = nn.BatchNorm(use_running_average=not training)(x)\n",
    "    # Shape is (1, 128)\n",
    "    x = nn.gelu(x)\n",
    "    x = nn.Dense(features=32)(x)\n",
    "    x = nn.BatchNorm(use_running_average=not training)(x)\n",
    "    # Shape is (1, 32)\n",
    "    x = nn.gelu(x)\n",
    "    x = nn.Dense(features=10)(x)\n",
    "    # Shape is (1, 10)\n",
    "    return x"
   ]
  },
  {
   "cell_type": "code",
   "execution_count": 8,
   "id": "7d8a7952",
   "metadata": {
    "colab": {
     "base_uri": "https://localhost:8080/"
    },
    "executionInfo": {
     "elapsed": 5839,
     "status": "ok",
     "timestamp": 1677512237176,
     "user": {
      "displayName": "Ivan Ivanov",
      "userId": "10248411662243150405"
     },
     "user_tz": 300
    },
    "id": "7d8a7952",
    "outputId": "cfd7ba97-fb48-48a7-cf99-3181b835e65e"
   },
   "outputs": [
    {
     "name": "stdout",
     "output_type": "stream",
     "text": [
      "\n",
      "\u001b[3m                                  CNN Summary                                   \u001b[0m\n",
      "┏━━━━━━━━━━━━┳━━━━━━━━━━━┳━━━━━━━━━━━━━┳━━━━━━━━━━━━┳━━━━━━━━━━━━━┳━━━━━━━━━━━━┓\n",
      "┃\u001b[1m \u001b[0m\u001b[1mpath      \u001b[0m\u001b[1m \u001b[0m┃\u001b[1m \u001b[0m\u001b[1mmodule   \u001b[0m\u001b[1m \u001b[0m┃\u001b[1m \u001b[0m\u001b[1minputs     \u001b[0m\u001b[1m \u001b[0m┃\u001b[1m \u001b[0m\u001b[1moutputs   \u001b[0m\u001b[1m \u001b[0m┃\u001b[1m \u001b[0m\u001b[1mparams     \u001b[0m\u001b[1m \u001b[0m┃\u001b[1m \u001b[0m\u001b[1mbatch_sta…\u001b[0m\u001b[1m \u001b[0m┃\n",
      "┡━━━━━━━━━━━━╇━━━━━━━━━━━╇━━━━━━━━━━━━━╇━━━━━━━━━━━━╇━━━━━━━━━━━━━╇━━━━━━━━━━━━┩\n",
      "│            │ CNN       │ -           │ \u001b[2mfloat32\u001b[0m[1… │ BatchNorm_… │ BatchNorm… │\n",
      "│            │           │ \u001b[2mfloat32\u001b[0m[1,… │            │   bias:     │   mean:    │\n",
      "│            │           │ - training: │            │ \u001b[2mfloat32\u001b[0m[12… │ \u001b[2mfloat32\u001b[0m[1… │\n",
      "│            │           │ False       │            │   scale:    │   var:     │\n",
      "│            │           │             │            │ \u001b[2mfloat32\u001b[0m[12… │ \u001b[2mfloat32\u001b[0m[1… │\n",
      "│            │           │             │            │ BatchNorm_… │ BatchNorm… │\n",
      "│            │           │             │            │   bias:     │   mean:    │\n",
      "│            │           │             │            │ \u001b[2mfloat32\u001b[0m[32] │ \u001b[2mfloat32\u001b[0m[3… │\n",
      "│            │           │             │            │   scale:    │   var:     │\n",
      "│            │           │             │            │ \u001b[2mfloat32\u001b[0m[32] │ \u001b[2mfloat32\u001b[0m[3… │\n",
      "│            │           │             │            │ Conv_0:     │            │\n",
      "│            │           │             │            │   bias:     │ \u001b[1m320 \u001b[0m\u001b[1;2m(1.3 \u001b[0m  │\n",
      "│            │           │             │            │ \u001b[2mfloat32\u001b[0m[8]  │ \u001b[1;2mKB)\u001b[0m        │\n",
      "│            │           │             │            │   kernel:   │            │\n",
      "│            │           │             │            │ \u001b[2mfloat32\u001b[0m[3,… │            │\n",
      "│            │           │             │            │ Conv_1:     │            │\n",
      "│            │           │             │            │   bias:     │            │\n",
      "│            │           │             │            │ \u001b[2mfloat32\u001b[0m[8]  │            │\n",
      "│            │           │             │            │   kernel:   │            │\n",
      "│            │           │             │            │ \u001b[2mfloat32\u001b[0m[3,… │            │\n",
      "│            │           │             │            │ Dense_0:    │            │\n",
      "│            │           │             │            │   bias:     │            │\n",
      "│            │           │             │            │ \u001b[2mfloat32\u001b[0m[12… │            │\n",
      "│            │           │             │            │   kernel:   │            │\n",
      "│            │           │             │            │ \u001b[2mfloat32\u001b[0m[39… │            │\n",
      "│            │           │             │            │ Dense_1:    │            │\n",
      "│            │           │             │            │   bias:     │            │\n",
      "│            │           │             │            │ \u001b[2mfloat32\u001b[0m[32] │            │\n",
      "│            │           │             │            │   kernel:   │            │\n",
      "│            │           │             │            │ \u001b[2mfloat32\u001b[0m[12… │            │\n",
      "│            │           │             │            │ Dense_2:    │            │\n",
      "│            │           │             │            │   bias:     │            │\n",
      "│            │           │             │            │ \u001b[2mfloat32\u001b[0m[10] │            │\n",
      "│            │           │             │            │   kernel:   │            │\n",
      "│            │           │             │            │ \u001b[2mfloat32\u001b[0m[32… │            │\n",
      "│            │           │             │            │             │            │\n",
      "│            │           │             │            │ \u001b[1m55,746 \u001b[0m     │            │\n",
      "│            │           │             │            │ \u001b[1;2m(223.0 KB)\u001b[0m  │            │\n",
      "├────────────┼───────────┼─────────────┼────────────┼─────────────┼────────────┤\n",
      "│ Conv_0     │ Conv      │ \u001b[2mfloat32\u001b[0m[1,… │ \u001b[2mfloat32\u001b[0m[1… │ bias:       │            │\n",
      "│            │           │             │            │ \u001b[2mfloat32\u001b[0m[8]  │            │\n",
      "│            │           │             │            │ kernel:     │            │\n",
      "│            │           │             │            │ \u001b[2mfloat32\u001b[0m[3,… │            │\n",
      "│            │           │             │            │             │            │\n",
      "│            │           │             │            │ \u001b[1m80 \u001b[0m\u001b[1;2m(320 B)\u001b[0m  │            │\n",
      "├────────────┼───────────┼─────────────┼────────────┼─────────────┼────────────┤\n",
      "│ Conv_1     │ Conv      │ \u001b[2mfloat32\u001b[0m[1,… │ \u001b[2mfloat32\u001b[0m[1… │ bias:       │            │\n",
      "│            │           │             │            │ \u001b[2mfloat32\u001b[0m[8]  │            │\n",
      "│            │           │             │            │ kernel:     │            │\n",
      "│            │           │             │            │ \u001b[2mfloat32\u001b[0m[3,… │            │\n",
      "│            │           │             │            │             │            │\n",
      "│            │           │             │            │ \u001b[1m584 \u001b[0m\u001b[1;2m(2.3 \u001b[0m   │            │\n",
      "│            │           │             │            │ \u001b[1;2mKB)\u001b[0m         │            │\n",
      "├────────────┼───────────┼─────────────┼────────────┼─────────────┼────────────┤\n",
      "│ Dense_0    │ Dense     │ \u001b[2mfloat32\u001b[0m[1,… │ \u001b[2mfloat32\u001b[0m[1… │ bias:       │            │\n",
      "│            │           │             │            │ \u001b[2mfloat32\u001b[0m[12… │            │\n",
      "│            │           │             │            │ kernel:     │            │\n",
      "│            │           │             │            │ \u001b[2mfloat32\u001b[0m[39… │            │\n",
      "│            │           │             │            │             │            │\n",
      "│            │           │             │            │ \u001b[1m50,304 \u001b[0m     │            │\n",
      "│            │           │             │            │ \u001b[1;2m(201.2 KB)\u001b[0m  │            │\n",
      "├────────────┼───────────┼─────────────┼────────────┼─────────────┼────────────┤\n",
      "│ BatchNorm… │ BatchNorm │ \u001b[2mfloat32\u001b[0m[1,… │ \u001b[2mfloat32\u001b[0m[1… │ bias:       │ mean:      │\n",
      "│            │           │             │            │ \u001b[2mfloat32\u001b[0m[12… │ \u001b[2mfloat32\u001b[0m[1… │\n",
      "│            │           │             │            │ scale:      │ var:       │\n",
      "│            │           │             │            │ \u001b[2mfloat32\u001b[0m[12… │ \u001b[2mfloat32\u001b[0m[1… │\n",
      "│            │           │             │            │             │            │\n",
      "│            │           │             │            │ \u001b[1m256 \u001b[0m\u001b[1;2m(1.0 \u001b[0m   │ \u001b[1m256 \u001b[0m\u001b[1;2m(1.0 \u001b[0m  │\n",
      "│            │           │             │            │ \u001b[1;2mKB)\u001b[0m         │ \u001b[1;2mKB)\u001b[0m        │\n",
      "├────────────┼───────────┼─────────────┼────────────┼─────────────┼────────────┤\n",
      "│ Dense_1    │ Dense     │ \u001b[2mfloat32\u001b[0m[1,… │ \u001b[2mfloat32\u001b[0m[1… │ bias:       │            │\n",
      "│            │           │             │            │ \u001b[2mfloat32\u001b[0m[32] │            │\n",
      "│            │           │             │            │ kernel:     │            │\n",
      "│            │           │             │            │ \u001b[2mfloat32\u001b[0m[12… │            │\n",
      "│            │           │             │            │             │            │\n",
      "│            │           │             │            │ \u001b[1m4,128 \u001b[0m\u001b[1;2m(16.5\u001b[0m │            │\n",
      "│            │           │             │            │ \u001b[1;2mKB)\u001b[0m         │            │\n",
      "├────────────┼───────────┼─────────────┼────────────┼─────────────┼────────────┤\n",
      "│ BatchNorm… │ BatchNorm │ \u001b[2mfloat32\u001b[0m[1,… │ \u001b[2mfloat32\u001b[0m[1… │ bias:       │ mean:      │\n",
      "│            │           │             │            │ \u001b[2mfloat32\u001b[0m[32] │ \u001b[2mfloat32\u001b[0m[3… │\n",
      "│            │           │             │            │ scale:      │ var:       │\n",
      "│            │           │             │            │ \u001b[2mfloat32\u001b[0m[32] │ \u001b[2mfloat32\u001b[0m[3… │\n",
      "│            │           │             │            │             │            │\n",
      "│            │           │             │            │ \u001b[1m64 \u001b[0m\u001b[1;2m(256 B)\u001b[0m  │ \u001b[1m64 \u001b[0m\u001b[1;2m(256 B)\u001b[0m │\n",
      "├────────────┼───────────┼─────────────┼────────────┼─────────────┼────────────┤\n",
      "│ Dense_2    │ Dense     │ \u001b[2mfloat32\u001b[0m[1,… │ \u001b[2mfloat32\u001b[0m[1… │ bias:       │            │\n",
      "│            │           │             │            │ \u001b[2mfloat32\u001b[0m[10] │            │\n",
      "│            │           │             │            │ kernel:     │            │\n",
      "│            │           │             │            │ \u001b[2mfloat32\u001b[0m[32… │            │\n",
      "│            │           │             │            │             │            │\n",
      "│            │           │             │            │ \u001b[1m330 \u001b[0m\u001b[1;2m(1.3 \u001b[0m   │            │\n",
      "│            │           │             │            │ \u001b[1;2mKB)\u001b[0m         │            │\n",
      "├────────────┼───────────┼─────────────┼────────────┼─────────────┼────────────┤\n",
      "│\u001b[1m \u001b[0m\u001b[1m          \u001b[0m\u001b[1m \u001b[0m│\u001b[1m \u001b[0m\u001b[1m         \u001b[0m\u001b[1m \u001b[0m│\u001b[1m \u001b[0m\u001b[1m           \u001b[0m\u001b[1m \u001b[0m│\u001b[1m \u001b[0m\u001b[1m     Total\u001b[0m\u001b[1m \u001b[0m│\u001b[1m \u001b[0m\u001b[1m111,492    \u001b[0m\u001b[1m \u001b[0m│\u001b[1m \u001b[0m\u001b[1m640 \u001b[0m\u001b[1;2m(2.6 \u001b[0m\u001b[1m \u001b[0m\u001b[1m \u001b[0m│\n",
      "│\u001b[1m            \u001b[0m│\u001b[1m           \u001b[0m│\u001b[1m             \u001b[0m│\u001b[1m            \u001b[0m│\u001b[1m \u001b[0m\u001b[1;2m(446.0 KB)\u001b[0m\u001b[1m \u001b[0m\u001b[1m \u001b[0m│\u001b[1m \u001b[0m\u001b[1;2mKB)\u001b[0m\u001b[1m       \u001b[0m\u001b[1m \u001b[0m│\n",
      "└────────────┴───────────┴─────────────┴────────────┴─────────────┴────────────┘\n",
      "\u001b[1m                                                                                \u001b[0m\n",
      "\u001b[1m                      Total Parameters: 112,132 \u001b[0m\u001b[1;2m(448.5 KB)\u001b[0m\u001b[1m                      \u001b[0m\n",
      "\n",
      "\n"
     ]
    }
   ],
   "source": [
    "# To create a summary for the Module instantiate with template data\n",
    "print(CNN().tabulate(jax.random.PRNGKey(0), jnp.ones((1, 28, 28, 1)), training=False))"
   ]
  },
  {
   "cell_type": "markdown",
   "id": "773ebfc3",
   "metadata": {
    "id": "773ebfc3"
   },
   "source": [
    "Let's create a single dataclass that represents the entire training state, including step number, parameters, and optimizer state. This class will subclass flax.training.train_state.TrainState \n",
    "\n",
    "The clu library contains utils for common ML training loops. Here we will use it for evaluation metrics."
   ]
  },
  {
   "cell_type": "code",
   "execution_count": 9,
   "id": "057dc7bb",
   "metadata": {
    "executionInfo": {
     "elapsed": 1232,
     "status": "ok",
     "timestamp": 1677512295950,
     "user": {
      "displayName": "Ivan Ivanov",
      "userId": "10248411662243150405"
     },
     "user_tz": 300
    },
    "id": "057dc7bb"
   },
   "outputs": [],
   "source": [
    "from clu import metrics\n",
    "from flax.training import train_state  # Useful dataclass to keep train state\n",
    "from flax import struct                # Flax dataclasses which could be safely processed with JAX "
   ]
  },
  {
   "cell_type": "code",
   "execution_count": 10,
   "id": "caaa60b0",
   "metadata": {
    "executionInfo": {
     "elapsed": 4,
     "status": "ok",
     "timestamp": 1677512307624,
     "user": {
      "displayName": "Ivan Ivanov",
      "userId": "10248411662243150405"
     },
     "user_tz": 300
    },
    "id": "caaa60b0"
   },
   "outputs": [],
   "source": [
    "# A set of metrics in a safe dataclass\n",
    "@struct.dataclass\n",
    "class Metrics(metrics.Collection):\n",
    "  accuracy: metrics.Accuracy\n",
    "  loss: metrics.Average.from_output('loss')"
   ]
  },
  {
   "cell_type": "code",
   "execution_count": 11,
   "id": "c0370f16",
   "metadata": {},
   "outputs": [],
   "source": [
    "from typing import Any"
   ]
  },
  {
   "cell_type": "code",
   "execution_count": 12,
   "id": "3b764774",
   "metadata": {
    "executionInfo": {
     "elapsed": 859,
     "status": "ok",
     "timestamp": 1677512353729,
     "user": {
      "displayName": "Ivan Ivanov",
      "userId": "10248411662243150405"
     },
     "user_tz": 300
    },
    "id": "3b764774"
   },
   "outputs": [],
   "source": [
    "class TrainState(train_state.TrainState):\n",
    "  # Our train state will have metrics attribute\n",
    "  metrics: Metrics\n",
    "  # and batch_stats\n",
    "  batch_stats: Any     \n",
    "  # It will also have a dropout key\n",
    "  key: jax.random.KeyArray"
   ]
  },
  {
   "cell_type": "code",
   "execution_count": 13,
   "id": "fb80a306",
   "metadata": {},
   "outputs": [],
   "source": [
    "# We also need JAX PRNGKey for the parameter initialization\n",
    "root_key = jax.random.PRNGKey(42)\n",
    "main_key, params_key, dropout_key = jax.random.split(key=root_key, num=3)"
   ]
  },
  {
   "cell_type": "code",
   "execution_count": 14,
   "id": "e386828a",
   "metadata": {},
   "outputs": [],
   "source": [
    "# Initialize the model\n",
    "cnn = CNN()\n",
    "# initialize parameters by passing a template image\n",
    "variables = cnn.init(params_key, \n",
    "                jnp.ones([1, 28, 28, 1]), \n",
    "                training=False)\n",
    "params = variables['params']\n",
    "batch_stats = variables['batch_stats']"
   ]
  },
  {
   "cell_type": "code",
   "execution_count": 15,
   "id": "65e19548",
   "metadata": {
    "executionInfo": {
     "elapsed": 363,
     "status": "ok",
     "timestamp": 1677513432401,
     "user": {
      "displayName": "Ivan Ivanov",
      "userId": "10248411662243150405"
     },
     "user_tz": 300
    },
    "id": "65e19548"
   },
   "outputs": [],
   "source": [
    "# The optimizer parameters\n",
    "learning_rate = 0.0006"
   ]
  },
  {
   "cell_type": "code",
   "execution_count": 16,
   "id": "eb90336e",
   "metadata": {
    "executionInfo": {
     "elapsed": 434,
     "status": "ok",
     "timestamp": 1677512583391,
     "user": {
      "displayName": "Ivan Ivanov",
      "userId": "10248411662243150405"
     },
     "user_tz": 300
    },
    "id": "eb90336e"
   },
   "outputs": [],
   "source": [
    "# Lets create the training state\n",
    "# The Module foward pass will be in the TrainState apply function. \n",
    "state = TrainState.create(\n",
    "      apply_fn=cnn.apply, \n",
    "      params=params,\n",
    "      batch_stats=batch_stats,\n",
    "      key=dropout_key, \n",
    "      tx=optax.adam(learning_rate),\n",
    "      metrics=Metrics.empty())"
   ]
  },
  {
   "cell_type": "markdown",
   "id": "2a0ac6ea",
   "metadata": {
    "id": "2a0ac6ea"
   },
   "source": [
    "The training step takes the following actions on a batch:\n",
    "    \n",
    "    1. Takes a forward pass with the current state parameters.\n",
    "    2. Evaluates cross entropy loss.\n",
    "    3. Evaluates the gradient of the loss function with jax.grad\n",
    "    4. Applies a pytree of gradients to update the model parameters.\n",
    "    \n",
    "We trace the entire train_step function and just-in-time compile it with XLA."
   ]
  },
  {
   "cell_type": "code",
   "execution_count": 17,
   "id": "ee95c8a0",
   "metadata": {
    "executionInfo": {
     "elapsed": 822,
     "status": "ok",
     "timestamp": 1677512712717,
     "user": {
      "displayName": "Ivan Ivanov",
      "userId": "10248411662243150405"
     },
     "user_tz": 300
    },
    "id": "ee95c8a0"
   },
   "outputs": [],
   "source": [
    "@jax.jit\n",
    "def train_step(state, batch):\n",
    "\n",
    "  #Below the loss function will be evaluated with the current state parameters\n",
    "  def loss_fn(params):\n",
    "    logits, updates = state.apply_fn({'params': params, 'batch_stats': state.batch_stats}, \n",
    "                batch['image'],\n",
    "                mutable=['batch_stats'],\n",
    "                training=True) #Log(prob_i)\n",
    "    loss = optax.softmax_cross_entropy_with_integer_labels(\n",
    "        logits=logits, labels=batch['label']).mean()\n",
    "    return loss, (logits, updates)\n",
    "  grad_fn = jax.value_and_grad(loss_fn, has_aux=True)\n",
    "  (loss, (logits, updates)), grads = grad_fn(state.params)\n",
    "  state = state.apply_gradients(grads=grads)\n",
    "  state = state.replace(batch_stats=updates['batch_stats'])\n",
    "  return state"
   ]
  },
  {
   "cell_type": "markdown",
   "id": "7a1fdf45",
   "metadata": {
    "id": "7a1fdf45"
   },
   "source": [
    "We want to compute metrics during validation and testing, so their computation will be in a separate function. The lone * indicates that all following arguments are keyword-only arguments, that is, they can only be provided using their name, not as positional argument."
   ]
  },
  {
   "cell_type": "code",
   "execution_count": 18,
   "id": "af2ea162",
   "metadata": {
    "executionInfo": {
     "elapsed": 506,
     "status": "ok",
     "timestamp": 1677513371574,
     "user": {
      "displayName": "Ivan Ivanov",
      "userId": "10248411662243150405"
     },
     "user_tz": 300
    },
    "id": "af2ea162"
   },
   "outputs": [],
   "source": [
    "@jax.jit\n",
    "def compute_metrics(*, state, batch):\n",
    "  logits = state.apply_fn({'params': state.params, 'batch_stats': state.batch_stats}, \n",
    "                batch['image'], training=False)\n",
    "  loss = optax.softmax_cross_entropy_with_integer_labels(\n",
    "        logits=logits, labels=batch['label']).mean()\n",
    "  metric_updates = state.metrics.single_from_model_output(\n",
    "    logits=logits, labels=batch['label'], loss=loss)\n",
    "  metrics = state.metrics.merge(metric_updates)\n",
    "  state = state.replace(metrics=metrics)\n",
    "  return state"
   ]
  },
  {
   "cell_type": "code",
   "execution_count": 19,
   "id": "b4d75810",
   "metadata": {
    "executionInfo": {
     "elapsed": 5,
     "status": "ok",
     "timestamp": 1677513373539,
     "user": {
      "displayName": "Ivan Ivanov",
      "userId": "10248411662243150405"
     },
     "user_tz": 300
    },
    "id": "b4d75810"
   },
   "outputs": [],
   "source": [
    "# Let's assure tfds shuffles are reproducible\n",
    "tf.random.set_seed(42)"
   ]
  },
  {
   "cell_type": "code",
   "execution_count": 20,
   "id": "6d9645cc",
   "metadata": {
    "colab": {
     "base_uri": "https://localhost:8080/",
     "height": 156,
     "referenced_widgets": [
      "75c464aa667444e394beddb31de17a43",
      "6934bf313cb24bceb84eccacc43302af",
      "1843f9dac55e45b1978aa098af538d3b",
      "b097d41074bb481793ae78f009242acf",
      "837c73d46ae74b83bbccc3cefccf3635",
      "d233c8210de14774be05697432b6397d",
      "b1737a5b77f24ab18663cb0c15d89804",
      "36da01e8eb76440fa4c21f6506a27a98",
      "220a60481cbe4cfeb83b1fda895b46a7",
      "282bea1d25044ca69d850f266e765ad0",
      "ac137390162049b1bba1c31d58157b8b"
     ]
    },
    "executionInfo": {
     "elapsed": 14757,
     "status": "ok",
     "timestamp": 1677513405787,
     "user": {
      "displayName": "Ivan Ivanov",
      "userId": "10248411662243150405"
     },
     "user_tz": 300
    },
    "id": "6d9645cc",
    "outputId": "1bff9456-1c4a-41e1-ce0b-cb4476b26483"
   },
   "outputs": [
    {
     "name": "stdout",
     "output_type": "stream",
     "text": [
      "\u001b[1mDownloading and preparing dataset Unknown size (download: Unknown size, generated: Unknown size, total: Unknown size) to /home/lacsi/tensorflow_datasets/mnist/3.0.1...\u001b[0m\n"
     ]
    },
    {
     "name": "stderr",
     "output_type": "stream",
     "text": [
      "2023-03-25 16:24:47.155534: W tensorflow/tsl/platform/cloud/google_auth_provider.cc:184] All attempts to get a Google authentication bearer token failed, returning an empty token. Retrieving token from files failed with \"NOT_FOUND: Could not locate the credentials file.\". Retrieving token from GCE failed with \"FAILED_PRECONDITION: Error executing an HTTP request: libcurl code 6 meaning 'Couldn't resolve host name', error details: Could not resolve host: metadata.google.internal\".\n"
     ]
    },
    {
     "data": {
      "application/vnd.jupyter.widget-view+json": {
       "model_id": "cf1c25bd25a444e48ca70bf1a0640121",
       "version_major": 2,
       "version_minor": 0
      },
      "text/plain": [
       "Dl Completed...:   0%|          | 0/5 [00:00<?, ? file/s]"
      ]
     },
     "metadata": {},
     "output_type": "display_data"
    },
    {
     "name": "stdout",
     "output_type": "stream",
     "text": [
      "\u001b[1mDataset mnist downloaded and prepared to /home/lacsi/tensorflow_datasets/mnist/3.0.1. Subsequent calls will reuse this data.\u001b[0m\n"
     ]
    }
   ],
   "source": [
    "num_epochs = 32\n",
    "batch_size = 32\n",
    "\n",
    "# Download, shuffle, batch the data with the function we defined\n",
    "train_ds, test_ds = get_datasets(num_epochs, batch_size)"
   ]
  },
  {
   "cell_type": "code",
   "execution_count": 21,
   "id": "9719c18f",
   "metadata": {
    "colab": {
     "base_uri": "https://localhost:8080/"
    },
    "executionInfo": {
     "elapsed": 460,
     "status": "ok",
     "timestamp": 1677513409977,
     "user": {
      "displayName": "Ivan Ivanov",
      "userId": "10248411662243150405"
     },
     "user_tz": 300
    },
    "id": "9719c18f",
    "outputId": "4b687b08-0118-4517-e9c0-be6d062b2e3e"
   },
   "outputs": [
    {
     "data": {
      "text/plain": [
       "(60000, 312)"
      ]
     },
     "execution_count": 21,
     "metadata": {},
     "output_type": "execute_result"
    }
   ],
   "source": [
    "len(train_ds), len(test_ds)\n",
    "# (60000/32*10, 10000/32)"
   ]
  },
  {
   "cell_type": "code",
   "execution_count": 22,
   "id": "58b4ad6a",
   "metadata": {
    "executionInfo": {
     "elapsed": 9,
     "status": "ok",
     "timestamp": 1677513446640,
     "user": {
      "displayName": "Ivan Ivanov",
      "userId": "10248411662243150405"
     },
     "user_tz": 300
    },
    "id": "58b4ad6a"
   },
   "outputs": [],
   "source": [
    "# since train_ds is replicated num_epochs times in get_datasets(), we divide by num_epochs\n",
    "num_steps_per_epoch = train_ds.cardinality().numpy() // num_epochs"
   ]
  },
  {
   "cell_type": "code",
   "execution_count": 23,
   "id": "n0cImvkb4y5m",
   "metadata": {
    "executionInfo": {
     "elapsed": 1,
     "status": "ok",
     "timestamp": 1677513448577,
     "user": {
      "displayName": "Ivan Ivanov",
      "userId": "10248411662243150405"
     },
     "user_tz": 300
    },
    "id": "n0cImvkb4y5m"
   },
   "outputs": [],
   "source": [
    "metrics_history = {'train_loss': [],\n",
    "                   'train_accuracy': [],\n",
    "                   'test_loss': [],\n",
    "                   'test_accuracy': []}"
   ]
  },
  {
   "cell_type": "markdown",
   "id": "EOlseJ_74-VQ",
   "metadata": {
    "id": "EOlseJ_74-VQ"
   },
   "source": [
    "Finally we are ready to run training"
   ]
  },
  {
   "cell_type": "code",
   "execution_count": 24,
   "id": "fjTHMoyt42FE",
   "metadata": {
    "colab": {
     "base_uri": "https://localhost:8080/"
    },
    "executionInfo": {
     "elapsed": 74654,
     "status": "ok",
     "timestamp": 1677513814266,
     "user": {
      "displayName": "Ivan Ivanov",
      "userId": "10248411662243150405"
     },
     "user_tz": 300
    },
    "id": "fjTHMoyt42FE",
    "outputId": "a039ea60-1c89-4ba9-e650-94301e482941"
   },
   "outputs": [
    {
     "name": "stdout",
     "output_type": "stream",
     "text": [
      "train epoch: 1, loss: 0.5162914991378784, accuracy: 86.60333251953125\n",
      "test epoch: 1, loss: 0.057134151458740234, accuracy: 98.28726196289062\n",
      "train epoch: 2, loss: 0.0452878475189209, accuracy: 98.69166564941406\n",
      "test epoch: 2, loss: 0.04747913032770157, accuracy: 98.50761413574219\n",
      "train epoch: 3, loss: 0.03183988109230995, accuracy: 99.04000091552734\n",
      "test epoch: 3, loss: 0.04502997174859047, accuracy: 98.72796630859375\n",
      "train epoch: 4, loss: 0.023456953465938568, accuracy: 99.29167175292969\n",
      "test epoch: 4, loss: 0.037281833589076996, accuracy: 98.84815979003906\n",
      "train epoch: 5, loss: 0.019740018993616104, accuracy: 99.41333770751953\n",
      "test epoch: 5, loss: 0.03577231615781784, accuracy: 98.87820434570312\n",
      "train epoch: 6, loss: 0.01574673317372799, accuracy: 99.54833221435547\n",
      "test epoch: 6, loss: 0.034009676426649094, accuracy: 98.91827392578125\n",
      "train epoch: 7, loss: 0.012973965145647526, accuracy: 99.6433334350586\n",
      "test epoch: 7, loss: 0.036073438823223114, accuracy: 98.88822174072266\n",
      "train epoch: 8, loss: 0.011171486228704453, accuracy: 99.69499969482422\n",
      "test epoch: 8, loss: 0.03159312903881073, accuracy: 99.08854675292969\n",
      "train epoch: 9, loss: 0.009655647911131382, accuracy: 99.7316665649414\n",
      "test epoch: 9, loss: 0.029940476641058922, accuracy: 99.0184326171875\n",
      "train epoch: 10, loss: 0.009059049189090729, accuracy: 99.76666259765625\n",
      "test epoch: 10, loss: 0.033780645579099655, accuracy: 98.9883804321289\n",
      "train epoch: 11, loss: 0.007506374269723892, accuracy: 99.80000305175781\n",
      "test epoch: 11, loss: 0.033896248787641525, accuracy: 99.00841522216797\n",
      "train epoch: 12, loss: 0.006499899551272392, accuracy: 99.83666229248047\n",
      "test epoch: 12, loss: 0.03470100462436676, accuracy: 99.04847717285156\n",
      "train epoch: 13, loss: 0.006097082048654556, accuracy: 99.83666229248047\n",
      "test epoch: 13, loss: 0.033148545771837234, accuracy: 99.0284423828125\n",
      "train epoch: 14, loss: 0.0051446217112243176, accuracy: 99.8499984741211\n",
      "test epoch: 14, loss: 0.03624998778104782, accuracy: 98.97836303710938\n",
      "train epoch: 15, loss: 0.005225132219493389, accuracy: 99.84166717529297\n",
      "test epoch: 15, loss: 0.03541521355509758, accuracy: 99.0284423828125\n",
      "train epoch: 16, loss: 0.004315939731895924, accuracy: 99.87666320800781\n",
      "test epoch: 16, loss: 0.029969405382871628, accuracy: 99.09855651855469\n",
      "train epoch: 17, loss: 0.0036882199347019196, accuracy: 99.91500091552734\n",
      "test epoch: 17, loss: 0.03262626379728317, accuracy: 99.0184326171875\n",
      "train epoch: 18, loss: 0.003708941163495183, accuracy: 99.91999816894531\n",
      "test epoch: 18, loss: 0.03587070107460022, accuracy: 99.06851196289062\n",
      "train epoch: 19, loss: 0.0031995612662285566, accuracy: 99.91999816894531\n",
      "test epoch: 19, loss: 0.03599108010530472, accuracy: 98.99839782714844\n",
      "train epoch: 20, loss: 0.0030131887178868055, accuracy: 99.92166900634766\n",
      "test epoch: 20, loss: 0.034282878041267395, accuracy: 99.04847717285156\n",
      "train epoch: 21, loss: 0.0027079861611127853, accuracy: 99.93499755859375\n",
      "test epoch: 21, loss: 0.035366352647542953, accuracy: 99.10857391357422\n",
      "train epoch: 22, loss: 0.002625818597152829, accuracy: 99.92833709716797\n",
      "test epoch: 22, loss: 0.03173959627747536, accuracy: 99.19871520996094\n",
      "train epoch: 23, loss: 0.00251732743345201, accuracy: 99.93499755859375\n",
      "test epoch: 23, loss: 0.02840845100581646, accuracy: 99.21875\n",
      "train epoch: 24, loss: 0.0025699930265545845, accuracy: 99.91999816894531\n",
      "test epoch: 24, loss: 0.037950944155454636, accuracy: 99.00841522216797\n",
      "train epoch: 25, loss: 0.001985805807635188, accuracy: 99.95166778564453\n",
      "test epoch: 25, loss: 0.03209444135427475, accuracy: 99.0584945678711\n",
      "train epoch: 26, loss: 0.002033624332398176, accuracy: 99.94499969482422\n",
      "test epoch: 26, loss: 0.03209022060036659, accuracy: 99.11859130859375\n",
      "train epoch: 27, loss: 0.0016008057864382863, accuracy: 99.9566650390625\n",
      "test epoch: 27, loss: 0.03600252419710159, accuracy: 99.0184326171875\n",
      "train epoch: 28, loss: 0.002174889901652932, accuracy: 99.93333435058594\n",
      "test epoch: 28, loss: 0.03415225073695183, accuracy: 99.18870544433594\n",
      "train epoch: 29, loss: 0.0016091307625174522, accuracy: 99.96499633789062\n",
      "test epoch: 29, loss: 0.03752133250236511, accuracy: 99.04847717285156\n",
      "train epoch: 30, loss: 0.0013537241611629725, accuracy: 99.96666717529297\n",
      "test epoch: 30, loss: 0.03483934700489044, accuracy: 99.16867065429688\n",
      "train epoch: 31, loss: 0.0012490999652072787, accuracy: 99.96833038330078\n",
      "test epoch: 31, loss: 0.038928061723709106, accuracy: 99.12860870361328\n",
      "train epoch: 32, loss: 0.0014787436230108142, accuracy: 99.97333526611328\n",
      "test epoch: 32, loss: 0.04212661460042, accuracy: 98.84815979003906\n"
     ]
    }
   ],
   "source": [
    "for step,batch in enumerate(train_ds.as_numpy_iterator()):\n",
    "\n",
    "  # Run optimization steps over training batches and compute batch metrics\n",
    "  state = train_step(state, batch) # get updated train state (which contains the updated parameters)\n",
    "  state = compute_metrics(state=state, batch=batch) # aggregate batch metrics\n",
    "\n",
    "  if (step+1) % num_steps_per_epoch == 0: # one training epoch has passed\n",
    "    for metric,value in state.metrics.compute().items(): # compute metrics\n",
    "      metrics_history[f'train_{metric}'].append(value) # record metrics\n",
    "    state = state.replace(metrics=state.metrics.empty()) # reset train_metrics for next training epoch\n",
    "\n",
    "    # Compute metrics on the test set after each training epoch\n",
    "    test_state = state\n",
    "    for test_batch in test_ds.as_numpy_iterator():\n",
    "      test_state = compute_metrics(state=test_state, batch=test_batch)\n",
    "\n",
    "    for metric,value in test_state.metrics.compute().items():\n",
    "      metrics_history[f'test_{metric}'].append(value)\n",
    "\n",
    "    print(f\"train epoch: {(step+1) // num_steps_per_epoch}, \"\n",
    "          f\"loss: {metrics_history['train_loss'][-1]}, \"\n",
    "          f\"accuracy: {metrics_history['train_accuracy'][-1] * 100}\")\n",
    "    print(f\"test epoch: {(step+1) // num_steps_per_epoch}, \"\n",
    "          f\"loss: {metrics_history['test_loss'][-1]}, \"\n",
    "          f\"accuracy: {metrics_history['test_accuracy'][-1] * 100}\")"
   ]
  },
  {
   "cell_type": "markdown",
   "id": "STvYstZF8he_",
   "metadata": {
    "id": "STvYstZF8he_"
   },
   "source": [
    "Let's visualize the metrics during training"
   ]
  },
  {
   "cell_type": "code",
   "execution_count": 24,
   "id": "aUeM_xMu7zor",
   "metadata": {
    "colab": {
     "base_uri": "https://localhost:8080/",
     "height": 353
    },
    "executionInfo": {
     "elapsed": 15,
     "status": "ok",
     "timestamp": 1677513937406,
     "user": {
      "displayName": "Ivan Ivanov",
      "userId": "10248411662243150405"
     },
     "user_tz": 300
    },
    "id": "aUeM_xMu7zor",
    "outputId": "80e56976-8cfa-4e36-b263-a0bf3389c48c"
   },
   "outputs": [
    {
     "data": {
      "image/png": "[encoded data removed]",
      "text/plain": [
       "<Figure size 1500x500 with 2 Axes>"
      ]
     },
     "metadata": {},
     "output_type": "display_data"
    },
    {
     "data": {
      "text/plain": [
       "<Figure size 640x480 with 0 Axes>"
      ]
     },
     "metadata": {},
     "output_type": "display_data"
    }
   ],
   "source": [
    "import matplotlib.pyplot as plt  # Visualization\n",
    "\n",
    "# Plot loss and accuracy in subplots\n",
    "fig, (ax1, ax2) = plt.subplots(1, 2, figsize=(15, 5))\n",
    "ax1.set_title('Loss')\n",
    "ax2.set_title('Accuracy')\n",
    "for dataset in ('train','test'):\n",
    "  ax1.plot(metrics_history[f'{dataset}_loss'], label=f'{dataset}_loss')\n",
    "  ax2.plot(metrics_history[f'{dataset}_accuracy'], label=f'{dataset}_accuracy')\n",
    "ax1.legend()\n",
    "ax2.legend()\n",
    "plt.show()\n",
    "plt.clf()"
   ]
  },
  {
   "cell_type": "markdown",
   "id": "xguU89_P9AGL",
   "metadata": {
    "id": "xguU89_P9AGL"
   },
   "source": [
    "And we can do inference on a test set."
   ]
  },
  {
   "cell_type": "code",
   "execution_count": 25,
   "id": "-gn2sDO28qMy",
   "metadata": {
    "executionInfo": {
     "elapsed": 346,
     "status": "ok",
     "timestamp": 1677513942711,
     "user": {
      "displayName": "Ivan Ivanov",
      "userId": "10248411662243150405"
     },
     "user_tz": 300
    },
    "id": "-gn2sDO28qMy"
   },
   "outputs": [],
   "source": [
    "@jax.jit\n",
    "def pred_step(state, batch):\n",
    "  logits = state.apply_fn({'params': state.params, 'batch_stats': state.batch_stats}, \n",
    "                          test_batch['image'], training=False)\n",
    "  return logits.argmax(axis=1)\n",
    "\n",
    "test_batch = test_ds.as_numpy_iterator().next()\n",
    "pred = pred_step(state, test_batch)"
   ]
  },
  {
   "cell_type": "code",
   "execution_count": 26,
   "id": "y0Qfu7-D9LHH",
   "metadata": {
    "colab": {
     "base_uri": "https://localhost:8080/",
     "height": 699
    },
    "executionInfo": {
     "elapsed": 1240,
     "status": "ok",
     "timestamp": 1677513944832,
     "user": {
      "displayName": "Ivan Ivanov",
      "userId": "10248411662243150405"
     },
     "user_tz": 300
    },
    "id": "y0Qfu7-D9LHH",
    "outputId": "f646435b-788c-43fd-ee15-51e0a5bdf7b2"
   },
   "outputs": [
    {
     "data": {
      "image/png": "[encoded data removed]",
      "text/plain": [
       "<Figure size 1200x1200 with 25 Axes>"
      ]
     },
     "metadata": {},
     "output_type": "display_data"
    }
   ],
   "source": [
    "fig, axs = plt.subplots(5, 5, figsize=(12, 12))\n",
    "for i, ax in enumerate(axs.flatten()):\n",
    "    ax.imshow(test_batch['image'][i, ..., 0], cmap='gray')\n",
    "    ax.set_title(f\"label={pred[i]}\")\n",
    "    ax.axis('off')"
   ]
  },
  {
   "cell_type": "markdown",
   "id": "MWRMdyOQnTcQ",
   "metadata": {
    "id": "MWRMdyOQnTcQ"
   },
   "source": [
    "Homework: Play with the layers of the Model, the activation function and the hyperparameters to achieve Test accuracy over 99.5%\n",
    "\n",
    "Push your code to GitHub on branch carrying your name."
   ]
  },
  {
   "cell_type": "code",
   "execution_count": null,
   "id": "9909d668",
   "metadata": {},
   "outputs": [],
   "source": []
  }
 ],
 "metadata": {
  "accelerator": "GPU",
  "colab": {
   "provenance": []
  },
  "gpuClass": "standard",
  "kernelspec": {
   "display_name": "Python 3 (ipykernel)",
   "language": "python",
   "name": "python3"
  },
  "language_info": {
   "codemirror_mode": {
    "name": "ipython",
    "version": 3
   },
   "file_extension": ".py",
   "mimetype": "text/x-python",
   "name": "python",
   "nbconvert_exporter": "python",
   "pygments_lexer": "ipython3",
   "version": "3.10.6"
  },
  "widgets": {
   "application/vnd.jupyter.widget-state+json": {
    "1843f9dac55e45b1978aa098af538d3b": {
     "model_module": "@jupyter-widgets/controls",
     "model_module_version": "1.5.0",
     "model_name": "FloatProgressModel",
     "state": {
      "_dom_classes": [],
      "_model_module": "@jupyter-widgets/controls",
      "_model_module_version": "1.5.0",
      "_model_name": "FloatProgressModel",
      "_view_count": null,
      "_view_module": "@jupyter-widgets/controls",
      "_view_module_version": "1.5.0",
      "_view_name": "ProgressView",
      "bar_style": "success",
      "description": "",
      "description_tooltip": null,
      "layout": "IPY_MODEL_36da01e8eb76440fa4c21f6506a27a98",
      "max": 5,
      "min": 0,
      "orientation": "horizontal",
      "style": "IPY_MODEL_220a60481cbe4cfeb83b1fda895b46a7",
      "value": 5
     }
    },
    "220a60481cbe4cfeb83b1fda895b46a7": {
     "model_module": "@jupyter-widgets/controls",
     "model_module_version": "1.5.0",
     "model_name": "ProgressStyleModel",
     "state": {
      "_model_module": "@jupyter-widgets/controls",
      "_model_module_version": "1.5.0",
      "_model_name": "ProgressStyleModel",
      "_view_count": null,
      "_view_module": "@jupyter-widgets/base",
      "_view_module_version": "1.2.0",
      "_view_name": "StyleView",
      "bar_color": null,
      "description_width": ""
     }
    },
    "282bea1d25044ca69d850f266e765ad0": {
     "model_module": "@jupyter-widgets/base",
     "model_module_version": "1.2.0",
     "model_name": "LayoutModel",
     "state": {
      "_model_module": "@jupyter-widgets/base",
      "_model_module_version": "1.2.0",
      "_model_name": "LayoutModel",
      "_view_count": null,
      "_view_module": "@jupyter-widgets/base",
      "_view_module_version": "1.2.0",
      "_view_name": "LayoutView",
      "align_content": null,
      "align_items": null,
      "align_self": null,
      "border": null,
      "bottom": null,
      "display": null,
      "flex": null,
      "flex_flow": null,
      "grid_area": null,
      "grid_auto_columns": null,
      "grid_auto_flow": null,
      "grid_auto_rows": null,
      "grid_column": null,
      "grid_gap": null,
      "grid_row": null,
      "grid_template_areas": null,
      "grid_template_columns": null,
      "grid_template_rows": null,
      "height": null,
      "justify_content": null,
      "justify_items": null,
      "left": null,
      "margin": null,
      "max_height": null,
      "max_width": null,
      "min_height": null,
      "min_width": null,
      "object_fit": null,
      "object_position": null,
      "order": null,
      "overflow": null,
      "overflow_x": null,
      "overflow_y": null,
      "padding": null,
      "right": null,
      "top": null,
      "visibility": null,
      "width": null
     }
    },
    "36da01e8eb76440fa4c21f6506a27a98": {
     "model_module": "@jupyter-widgets/base",
     "model_module_version": "1.2.0",
     "model_name": "LayoutModel",
     "state": {
      "_model_module": "@jupyter-widgets/base",
      "_model_module_version": "1.2.0",
      "_model_name": "LayoutModel",
      "_view_count": null,
      "_view_module": "@jupyter-widgets/base",
      "_view_module_version": "1.2.0",
      "_view_name": "LayoutView",
      "align_content": null,
      "align_items": null,
      "align_self": null,
      "border": null,
      "bottom": null,
      "display": null,
      "flex": null,
      "flex_flow": null,
      "grid_area": null,
      "grid_auto_columns": null,
      "grid_auto_flow": null,
      "grid_auto_rows": null,
      "grid_column": null,
      "grid_gap": null,
      "grid_row": null,
      "grid_template_areas": null,
      "grid_template_columns": null,
      "grid_template_rows": null,
      "height": null,
      "justify_content": null,
      "justify_items": null,
      "left": null,
      "margin": null,
      "max_height": null,
      "max_width": null,
      "min_height": null,
      "min_width": null,
      "object_fit": null,
      "object_position": null,
      "order": null,
      "overflow": null,
      "overflow_x": null,
      "overflow_y": null,
      "padding": null,
      "right": null,
      "top": null,
      "visibility": null,
      "width": null
     }
    },
    "6934bf313cb24bceb84eccacc43302af": {
     "model_module": "@jupyter-widgets/controls",
     "model_module_version": "1.5.0",
     "model_name": "HTMLModel",
     "state": {
      "_dom_classes": [],
      "_model_module": "@jupyter-widgets/controls",
      "_model_module_version": "1.5.0",
      "_model_name": "HTMLModel",
      "_view_count": null,
      "_view_module": "@jupyter-widgets/controls",
      "_view_module_version": "1.5.0",
      "_view_name": "HTMLView",
      "description": "",
      "description_tooltip": null,
      "layout": "IPY_MODEL_d233c8210de14774be05697432b6397d",
      "placeholder": "​",
      "style": "IPY_MODEL_b1737a5b77f24ab18663cb0c15d89804",
      "value": "Dl Completed...: 100%"
     }
    },
    "75c464aa667444e394beddb31de17a43": {
     "model_module": "@jupyter-widgets/controls",
     "model_module_version": "1.5.0",
     "model_name": "HBoxModel",
     "state": {
      "_dom_classes": [],
      "_model_module": "@jupyter-widgets/controls",
      "_model_module_version": "1.5.0",
      "_model_name": "HBoxModel",
      "_view_count": null,
      "_view_module": "@jupyter-widgets/controls",
      "_view_module_version": "1.5.0",
      "_view_name": "HBoxView",
      "box_style": "",
      "children": [
       "IPY_MODEL_6934bf313cb24bceb84eccacc43302af",
       "IPY_MODEL_1843f9dac55e45b1978aa098af538d3b",
       "IPY_MODEL_b097d41074bb481793ae78f009242acf"
      ],
      "layout": "IPY_MODEL_837c73d46ae74b83bbccc3cefccf3635"
     }
    },
    "837c73d46ae74b83bbccc3cefccf3635": {
     "model_module": "@jupyter-widgets/base",
     "model_module_version": "1.2.0",
     "model_name": "LayoutModel",
     "state": {
      "_model_module": "@jupyter-widgets/base",
      "_model_module_version": "1.2.0",
      "_model_name": "LayoutModel",
      "_view_count": null,
      "_view_module": "@jupyter-widgets/base",
      "_view_module_version": "1.2.0",
      "_view_name": "LayoutView",
      "align_content": null,
      "align_items": null,
      "align_self": null,
      "border": null,
      "bottom": null,
      "display": null,
      "flex": null,
      "flex_flow": null,
      "grid_area": null,
      "grid_auto_columns": null,
      "grid_auto_flow": null,
      "grid_auto_rows": null,
      "grid_column": null,
      "grid_gap": null,
      "grid_row": null,
      "grid_template_areas": null,
      "grid_template_columns": null,
      "grid_template_rows": null,
      "height": null,
      "justify_content": null,
      "justify_items": null,
      "left": null,
      "margin": null,
      "max_height": null,
      "max_width": null,
      "min_height": null,
      "min_width": null,
      "object_fit": null,
      "object_position": null,
      "order": null,
      "overflow": null,
      "overflow_x": null,
      "overflow_y": null,
      "padding": null,
      "right": null,
      "top": null,
      "visibility": null,
      "width": null
     }
    },
    "ac137390162049b1bba1c31d58157b8b": {
     "model_module": "@jupyter-widgets/controls",
     "model_module_version": "1.5.0",
     "model_name": "DescriptionStyleModel",
     "state": {
      "_model_module": "@jupyter-widgets/controls",
      "_model_module_version": "1.5.0",
      "_model_name": "DescriptionStyleModel",
      "_view_count": null,
      "_view_module": "@jupyter-widgets/base",
      "_view_module_version": "1.2.0",
      "_view_name": "StyleView",
      "description_width": ""
     }
    },
    "b097d41074bb481793ae78f009242acf": {
     "model_module": "@jupyter-widgets/controls",
     "model_module_version": "1.5.0",
     "model_name": "HTMLModel",
     "state": {
      "_dom_classes": [],
      "_model_module": "@jupyter-widgets/controls",
      "_model_module_version": "1.5.0",
      "_model_name": "HTMLModel",
      "_view_count": null,
      "_view_module": "@jupyter-widgets/controls",
      "_view_module_version": "1.5.0",
      "_view_name": "HTMLView",
      "description": "",
      "description_tooltip": null,
      "layout": "IPY_MODEL_282bea1d25044ca69d850f266e765ad0",
      "placeholder": "​",
      "style": "IPY_MODEL_ac137390162049b1bba1c31d58157b8b",
      "value": " 5/5 [00:04&lt;00:00,  1.21s/ file]"
     }
    },
    "b1737a5b77f24ab18663cb0c15d89804": {
     "model_module": "@jupyter-widgets/controls",
     "model_module_version": "1.5.0",
     "model_name": "DescriptionStyleModel",
     "state": {
      "_model_module": "@jupyter-widgets/controls",
      "_model_module_version": "1.5.0",
      "_model_name": "DescriptionStyleModel",
      "_view_count": null,
      "_view_module": "@jupyter-widgets/base",
      "_view_module_version": "1.2.0",
      "_view_name": "StyleView",
      "description_width": ""
     }
    },
    "d233c8210de14774be05697432b6397d": {
     "model_module": "@jupyter-widgets/base",
     "model_module_version": "1.2.0",
     "model_name": "LayoutModel",
     "state": {
      "_model_module": "@jupyter-widgets/base",
      "_model_module_version": "1.2.0",
      "_model_name": "LayoutModel",
      "_view_count": null,
      "_view_module": "@jupyter-widgets/base",
      "_view_module_version": "1.2.0",
      "_view_name": "LayoutView",
      "align_content": null,
      "align_items": null,
      "align_self": null,
      "border": null,
      "bottom": null,
      "display": null,
      "flex": null,
      "flex_flow": null,
      "grid_area": null,
      "grid_auto_columns": null,
      "grid_auto_flow": null,
      "grid_auto_rows": null,
      "grid_column": null,
      "grid_gap": null,
      "grid_row": null,
      "grid_template_areas": null,
      "grid_template_columns": null,
      "grid_template_rows": null,
      "height": null,
      "justify_content": null,
      "justify_items": null,
      "left": null,
      "margin": null,
      "max_height": null,
      "max_width": null,
      "min_height": null,
      "min_width": null,
      "object_fit": null,
      "object_position": null,
      "order": null,
      "overflow": null,
      "overflow_x": null,
      "overflow_y": null,
      "padding": null,
      "right": null,
      "top": null,
      "visibility": null,
      "width": null
     }
    }
   }
  }
 },
 "nbformat": 4,
 "nbformat_minor": 5
}
