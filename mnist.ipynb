{
  "cells": [
    {
      "cell_type": "markdown",
      "metadata": {
        "id": "view-in-github",
        "colab_type": "text"
      },
      "source": [
        "<a href=\"https://colab.research.google.com/github/Vodolay/NovaJax/blob/Jiucheng/mnist.ipynb\" target=\"_parent\"><img src=\"https://colab.research.google.com/assets/colab-badge.svg\" alt=\"Open In Colab\"/></a>"
      ]
    },
    {
      "cell_type": "code",
      "execution_count": 24,
      "id": "aA45nGKK7UrB",
      "metadata": {
        "id": "aA45nGKK7UrB"
      },
      "outputs": [],
      "source": [
        "# Install jax if necessary\n",
        "!pip install --upgrade -q \"jax[cuda]\" -f https://storage.googleapis.com/jax-releases/jax_cuda_releases.html"
      ]
    },
    {
      "cell_type": "code",
      "execution_count": 25,
      "id": "T_DwoezGrlt-",
      "metadata": {
        "colab": {
          "base_uri": "https://localhost:8080/"
        },
        "id": "T_DwoezGrlt-",
        "outputId": "bbc11a62-431b-4d2b-838b-62c92aa52b4c"
      },
      "outputs": [
        {
          "output_type": "stream",
          "name": "stdout",
          "text": [
            "  Preparing metadata (setup.py) ... \u001b[?25l\u001b[?25hdone\n"
          ]
        }
      ],
      "source": [
        "# Install flax if necessary\n",
        "!pip install -q git+https://github.com/google/flax"
      ]
    },
    {
      "cell_type": "code",
      "execution_count": 26,
      "id": "ING7DlZvsfUx",
      "metadata": {
        "id": "ING7DlZvsfUx"
      },
      "outputs": [],
      "source": [
        "# Install clu and upgrade jaxlib if necessary\n",
        "!pip install --upgrade -q jaxlib clu"
      ]
    },
    {
      "cell_type": "code",
      "execution_count": 27,
      "id": "eebc8dad",
      "metadata": {
        "id": "eebc8dad"
      },
      "outputs": [],
      "source": [
        "import jax\n",
        "import jax.numpy as jnp\n",
        "\n",
        "from flax import linen as nn\n",
        "import optax\n",
        "from matplotlib import pyplot as plt\n",
        "\n",
        "import tensorflow as tf\n",
        "import tensorflow_datasets as tfds"
      ]
    },
    {
      "cell_type": "code",
      "execution_count": 28,
      "id": "b3fbcd53",
      "metadata": {
        "id": "b3fbcd53"
      },
      "outputs": [],
      "source": [
        "# There is no need for tensorflow to use the gpu; it is only dataloading\n",
        "tf.config.experimental.set_visible_devices([], \"GPU\")"
      ]
    },
    {
      "cell_type": "code",
      "execution_count": 29,
      "id": "f024da5b",
      "metadata": {
        "id": "f024da5b"
      },
      "outputs": [],
      "source": [
        "# This finction loads the MNIST dataset into memory\n",
        "\n",
        "def get_datasets(num_epochs, batch_size):\n",
        "  train_ds = tfds.load('mnist', split='train') # 60,000 images (28x28)\n",
        "  test_ds = tfds.load('mnist', split='test') # 10,000 images (28x28)\n",
        "  \n",
        "  # Let's cast the pixel values into floats and normalize them\n",
        "  train_ds = train_ds.map(lambda sample: {'image': tf.cast(sample['image'], tf.float32) / 255.,\n",
        "                                          'label': sample['label']})\n",
        "  test_ds = test_ds.map(lambda sample: {'image': tf.cast(sample['image'], tf.float32) / 255.,\n",
        "                                        'label': sample['label']})\n",
        "\n",
        "  train_ds = train_ds.repeat(num_epochs).shuffle(10*batch_size) # allocating a buffer to randomly draw elements from\n",
        "  train_ds = train_ds.batch(batch_size, drop_remainder=True).prefetch(1) # group into batches of batch_size and skip incomplete batch, prefetch the next sample to improve latency\n",
        "  test_ds = test_ds.shuffle(10*batch_size) # allocating a buffer to randomly draw elements from\n",
        "  test_ds = test_ds.batch(batch_size, drop_remainder=True).prefetch(1) # group into batches of batch_size and skip incomplete batch, prefetch the next sample to improve latency\n",
        "\n",
        "  return train_ds, test_ds"
      ]
    },
    {
      "cell_type": "code",
      "execution_count": 110,
      "id": "036c74fa",
      "metadata": {
        "id": "036c74fa"
      },
      "outputs": [],
      "source": [
        "# Setting up a template; the parameters (kernels, biases, etc.) are a separate object\n",
        "class CNN(nn.Module):\n",
        "    \n",
        "  # __call__ subsumes __init__  \n",
        "  @nn.compact\n",
        "  def __call__(self, x, training):\n",
        "    '''\n",
        "    # Shape is (1, 28, 28, 1)\n",
        "    x = nn.Conv(features=4, kernel_size=(3, 3))(x)\n",
        "    # Shape is (1, 28, 28, 32)\n",
        "    x = nn.gelu(x)\n",
        "    x = nn.avg_pool(x, window_shape=(2, 2), strides=(2, 2))\n",
        "    # Shape is (1, 14, 14, 32)\n",
        "    x = nn.Conv(features=8, kernel_size=(3, 3))(x)\n",
        "    # Shape is (1, 14, 14, 64)\n",
        "    x = nn.gelu(x)\n",
        "    x = nn.avg_pool(x, window_shape=(2, 2), strides=(2, 2))\n",
        "    # Shape is (1, 7, 7, 64)\n",
        "    x = x.reshape((x.shape[0], -1))  # flatten but keep batch dimension\n",
        "    # Shape is (1, 3136 = 7x7x64)\n",
        "    x = nn.Dense(features=64)(x)\n",
        "    x = nn.Dropout(rate=0.3, deterministic=not training)(x)\n",
        "    # Shape is (1, 256)\n",
        "    x = nn.gelu(x)\n",
        "    x = nn.Dense(features=10)(x)\n",
        "    # Shape is (1, 10)\n",
        "    '''\n",
        "\n",
        "   # Shape is (1, 28, 28, 1)\n",
        "    x = nn.Conv(features=16, kernel_size=(3, 3))(x)\n",
        "    x = nn.gelu(x)\n",
        "    # Shape is (1, 28, 28, 16)\n",
        "    x = nn.Conv(features=32, kernel_size=(3, 3))(x)\n",
        "    x = nn.gelu(x)\n",
        "    # Shape is (1, 28, 28, 32)\n",
        "    x = nn.avg_pool(x, window_shape=(2, 2), strides=(2, 2))\n",
        "    # Shape is (1, 14, 14, 32)\n",
        "    x = nn.Conv(features=64, kernel_size=(3, 3))(x)\n",
        "    x = nn.gelu(x)\n",
        "    # Shape is (1, 14, 14, 64)\n",
        "    x = nn.avg_pool(x, window_shape=(2, 2), strides=(2, 2))\n",
        "    x = nn.gelu(x)\n",
        "    # Shape is (1, 7, 7, 64)\n",
        "    x = nn.Conv(features=128, kernel_size=(3, 3))(x)\n",
        "    x = nn.gelu(x)\n",
        "    # Shape is (1, 7, 7, 128)\n",
        "    x = x.reshape((x.shape[0], -1))  # flatten but keep batch dimension\n",
        "    # # Shape is (1, 6272 = 7x7x128)\n",
        "    x = nn.gelu(x)\n",
        "    x = nn.Dense(features=256)(x)\n",
        "    x = nn.Dropout(rate=0.3, deterministic=not training)(x)\n",
        "    # Shape is (1, 256)\n",
        "    x = nn.gelu(x)\n",
        "    x = nn.Dense(features=128)(x)\n",
        "    # Shape is (1, 128)\n",
        "    x = nn.gelu(x)\n",
        "    x = nn.Dense(features=84)(x)\n",
        "    x = nn.Dropout(rate=0.3, deterministic=not training)(x)\n",
        "    # Shape is (1, 84)\n",
        "    x = nn.gelu(x)\n",
        "    x = nn.Dense(features=10)(x)\n",
        "    # Shape is (1, 10)\n",
        "\n",
        "    return x"
      ]
    },
    {
      "cell_type": "code",
      "execution_count": 111,
      "id": "7d8a7952",
      "metadata": {
        "colab": {
          "base_uri": "https://localhost:8080/"
        },
        "id": "7d8a7952",
        "outputId": "9fb83d2b-5ed2-4de6-a90b-8536ed9a2669"
      },
      "outputs": [
        {
          "output_type": "stream",
          "name": "stdout",
          "text": [
            "\n",
            "\u001b[3m                                  CNN Summary                                   \u001b[0m\n",
            "┏━━━━━━━━━━━┳━━━━━━━━━┳━━━━━━━━━━━━━━━━━━┳━━━━━━━━━━━━━━━━━━┳━━━━━━━━━━━━━━━━━━┓\n",
            "┃\u001b[1m \u001b[0m\u001b[1mpath     \u001b[0m\u001b[1m \u001b[0m┃\u001b[1m \u001b[0m\u001b[1mmodule \u001b[0m\u001b[1m \u001b[0m┃\u001b[1m \u001b[0m\u001b[1minputs          \u001b[0m\u001b[1m \u001b[0m┃\u001b[1m \u001b[0m\u001b[1moutputs         \u001b[0m\u001b[1m \u001b[0m┃\u001b[1m \u001b[0m\u001b[1mparams          \u001b[0m\u001b[1m \u001b[0m┃\n",
            "┡━━━━━━━━━━━╇━━━━━━━━━╇━━━━━━━━━━━━━━━━━━╇━━━━━━━━━━━━━━━━━━╇━━━━━━━━━━━━━━━━━━┩\n",
            "│           │ CNN     │ -                │ \u001b[2mfloat32\u001b[0m[1,10]    │ Conv_0:          │\n",
            "│           │         │ \u001b[2mfloat32\u001b[0m[1,28,28… │                  │   bias:          │\n",
            "│           │         │ - training:      │                  │ \u001b[2mfloat32\u001b[0m[16]      │\n",
            "│           │         │ False            │                  │   kernel:        │\n",
            "│           │         │                  │                  │ \u001b[2mfloat32\u001b[0m[3,3,1,1… │\n",
            "│           │         │                  │                  │ Conv_1:          │\n",
            "│           │         │                  │                  │   bias:          │\n",
            "│           │         │                  │                  │ \u001b[2mfloat32\u001b[0m[32]      │\n",
            "│           │         │                  │                  │   kernel:        │\n",
            "│           │         │                  │                  │ \u001b[2mfloat32\u001b[0m[3,3,16,… │\n",
            "│           │         │                  │                  │ Conv_2:          │\n",
            "│           │         │                  │                  │   bias:          │\n",
            "│           │         │                  │                  │ \u001b[2mfloat32\u001b[0m[64]      │\n",
            "│           │         │                  │                  │   kernel:        │\n",
            "│           │         │                  │                  │ \u001b[2mfloat32\u001b[0m[3,3,32,… │\n",
            "│           │         │                  │                  │ Conv_3:          │\n",
            "│           │         │                  │                  │   bias:          │\n",
            "│           │         │                  │                  │ \u001b[2mfloat32\u001b[0m[128]     │\n",
            "│           │         │                  │                  │   kernel:        │\n",
            "│           │         │                  │                  │ \u001b[2mfloat32\u001b[0m[3,3,64,… │\n",
            "│           │         │                  │                  │ Dense_0:         │\n",
            "│           │         │                  │                  │   bias:          │\n",
            "│           │         │                  │                  │ \u001b[2mfloat32\u001b[0m[256]     │\n",
            "│           │         │                  │                  │   kernel:        │\n",
            "│           │         │                  │                  │ \u001b[2mfloat32\u001b[0m[6272,25… │\n",
            "│           │         │                  │                  │ Dense_1:         │\n",
            "│           │         │                  │                  │   bias:          │\n",
            "│           │         │                  │                  │ \u001b[2mfloat32\u001b[0m[128]     │\n",
            "│           │         │                  │                  │   kernel:        │\n",
            "│           │         │                  │                  │ \u001b[2mfloat32\u001b[0m[256,128] │\n",
            "│           │         │                  │                  │ Dense_2:         │\n",
            "│           │         │                  │                  │   bias:          │\n",
            "│           │         │                  │                  │ \u001b[2mfloat32\u001b[0m[84]      │\n",
            "│           │         │                  │                  │   kernel:        │\n",
            "│           │         │                  │                  │ \u001b[2mfloat32\u001b[0m[128,84]  │\n",
            "│           │         │                  │                  │ Dense_3:         │\n",
            "│           │         │                  │                  │   bias:          │\n",
            "│           │         │                  │                  │ \u001b[2mfloat32\u001b[0m[10]      │\n",
            "│           │         │                  │                  │   kernel:        │\n",
            "│           │         │                  │                  │ \u001b[2mfloat32\u001b[0m[84,10]   │\n",
            "│           │         │                  │                  │                  │\n",
            "│           │         │                  │                  │ \u001b[1m1,747,622 \u001b[0m\u001b[1;2m(7.0 \u001b[0m  │\n",
            "│           │         │                  │                  │ \u001b[1;2mMB)\u001b[0m              │\n",
            "├───────────┼─────────┼──────────────────┼──────────────────┼──────────────────┤\n",
            "│ Conv_0    │ Conv    │ \u001b[2mfloat32\u001b[0m[1,28,28… │ \u001b[2mfloat32\u001b[0m[1,28,28… │ bias:            │\n",
            "│           │         │                  │                  │ \u001b[2mfloat32\u001b[0m[16]      │\n",
            "│           │         │                  │                  │ kernel:          │\n",
            "│           │         │                  │                  │ \u001b[2mfloat32\u001b[0m[3,3,1,1… │\n",
            "│           │         │                  │                  │                  │\n",
            "│           │         │                  │                  │ \u001b[1m160 \u001b[0m\u001b[1;2m(640 B)\u001b[0m      │\n",
            "├───────────┼─────────┼──────────────────┼──────────────────┼──────────────────┤\n",
            "│ Conv_1    │ Conv    │ \u001b[2mfloat32\u001b[0m[1,28,28… │ \u001b[2mfloat32\u001b[0m[1,28,28… │ bias:            │\n",
            "│           │         │                  │                  │ \u001b[2mfloat32\u001b[0m[32]      │\n",
            "│           │         │                  │                  │ kernel:          │\n",
            "│           │         │                  │                  │ \u001b[2mfloat32\u001b[0m[3,3,16,… │\n",
            "│           │         │                  │                  │                  │\n",
            "│           │         │                  │                  │ \u001b[1m4,640 \u001b[0m\u001b[1;2m(18.6 KB)\u001b[0m  │\n",
            "├───────────┼─────────┼──────────────────┼──────────────────┼──────────────────┤\n",
            "│ Conv_2    │ Conv    │ \u001b[2mfloat32\u001b[0m[1,14,14… │ \u001b[2mfloat32\u001b[0m[1,14,14… │ bias:            │\n",
            "│           │         │                  │                  │ \u001b[2mfloat32\u001b[0m[64]      │\n",
            "│           │         │                  │                  │ kernel:          │\n",
            "│           │         │                  │                  │ \u001b[2mfloat32\u001b[0m[3,3,32,… │\n",
            "│           │         │                  │                  │                  │\n",
            "│           │         │                  │                  │ \u001b[1m18,496 \u001b[0m\u001b[1;2m(74.0 KB)\u001b[0m │\n",
            "├───────────┼─────────┼──────────────────┼──────────────────┼──────────────────┤\n",
            "│ Conv_3    │ Conv    │ \u001b[2mfloat32\u001b[0m[1,7,7,6… │ \u001b[2mfloat32\u001b[0m[1,7,7,1… │ bias:            │\n",
            "│           │         │                  │                  │ \u001b[2mfloat32\u001b[0m[128]     │\n",
            "│           │         │                  │                  │ kernel:          │\n",
            "│           │         │                  │                  │ \u001b[2mfloat32\u001b[0m[3,3,64,… │\n",
            "│           │         │                  │                  │                  │\n",
            "│           │         │                  │                  │ \u001b[1m73,856 \u001b[0m\u001b[1;2m(295.4 \u001b[0m   │\n",
            "│           │         │                  │                  │ \u001b[1;2mKB)\u001b[0m              │\n",
            "├───────────┼─────────┼──────────────────┼──────────────────┼──────────────────┤\n",
            "│ Dense_0   │ Dense   │ \u001b[2mfloat32\u001b[0m[1,6272]  │ \u001b[2mfloat32\u001b[0m[1,256]   │ bias:            │\n",
            "│           │         │                  │                  │ \u001b[2mfloat32\u001b[0m[256]     │\n",
            "│           │         │                  │                  │ kernel:          │\n",
            "│           │         │                  │                  │ \u001b[2mfloat32\u001b[0m[6272,25… │\n",
            "│           │         │                  │                  │                  │\n",
            "│           │         │                  │                  │ \u001b[1m1,605,888 \u001b[0m\u001b[1;2m(6.4 \u001b[0m  │\n",
            "│           │         │                  │                  │ \u001b[1;2mMB)\u001b[0m              │\n",
            "├───────────┼─────────┼──────────────────┼──────────────────┼──────────────────┤\n",
            "│ Dropout_0 │ Dropout │ \u001b[2mfloat32\u001b[0m[1,256]   │ \u001b[2mfloat32\u001b[0m[1,256]   │                  │\n",
            "├───────────┼─────────┼──────────────────┼──────────────────┼──────────────────┤\n",
            "│ Dense_1   │ Dense   │ \u001b[2mfloat32\u001b[0m[1,256]   │ \u001b[2mfloat32\u001b[0m[1,128]   │ bias:            │\n",
            "│           │         │                  │                  │ \u001b[2mfloat32\u001b[0m[128]     │\n",
            "│           │         │                  │                  │ kernel:          │\n",
            "│           │         │                  │                  │ \u001b[2mfloat32\u001b[0m[256,128] │\n",
            "│           │         │                  │                  │                  │\n",
            "│           │         │                  │                  │ \u001b[1m32,896 \u001b[0m\u001b[1;2m(131.6 \u001b[0m   │\n",
            "│           │         │                  │                  │ \u001b[1;2mKB)\u001b[0m              │\n",
            "├───────────┼─────────┼──────────────────┼──────────────────┼──────────────────┤\n",
            "│ Dense_2   │ Dense   │ \u001b[2mfloat32\u001b[0m[1,128]   │ \u001b[2mfloat32\u001b[0m[1,84]    │ bias:            │\n",
            "│           │         │                  │                  │ \u001b[2mfloat32\u001b[0m[84]      │\n",
            "│           │         │                  │                  │ kernel:          │\n",
            "│           │         │                  │                  │ \u001b[2mfloat32\u001b[0m[128,84]  │\n",
            "│           │         │                  │                  │                  │\n",
            "│           │         │                  │                  │ \u001b[1m10,836 \u001b[0m\u001b[1;2m(43.3 KB)\u001b[0m │\n",
            "├───────────┼─────────┼──────────────────┼──────────────────┼──────────────────┤\n",
            "│ Dropout_1 │ Dropout │ \u001b[2mfloat32\u001b[0m[1,84]    │ \u001b[2mfloat32\u001b[0m[1,84]    │                  │\n",
            "├───────────┼─────────┼──────────────────┼──────────────────┼──────────────────┤\n",
            "│ Dense_3   │ Dense   │ \u001b[2mfloat32\u001b[0m[1,84]    │ \u001b[2mfloat32\u001b[0m[1,10]    │ bias:            │\n",
            "│           │         │                  │                  │ \u001b[2mfloat32\u001b[0m[10]      │\n",
            "│           │         │                  │                  │ kernel:          │\n",
            "│           │         │                  │                  │ \u001b[2mfloat32\u001b[0m[84,10]   │\n",
            "│           │         │                  │                  │                  │\n",
            "│           │         │                  │                  │ \u001b[1m850 \u001b[0m\u001b[1;2m(3.4 KB)\u001b[0m     │\n",
            "├───────────┼─────────┼──────────────────┼──────────────────┼──────────────────┤\n",
            "│\u001b[1m \u001b[0m\u001b[1m         \u001b[0m\u001b[1m \u001b[0m│\u001b[1m \u001b[0m\u001b[1m       \u001b[0m\u001b[1m \u001b[0m│\u001b[1m \u001b[0m\u001b[1m                \u001b[0m\u001b[1m \u001b[0m│\u001b[1m \u001b[0m\u001b[1m           Total\u001b[0m\u001b[1m \u001b[0m│\u001b[1m \u001b[0m\u001b[1m3,495,244 \u001b[0m\u001b[1;2m(14.0 \u001b[0m\u001b[1m \u001b[0m│\n",
            "│\u001b[1m           \u001b[0m│\u001b[1m         \u001b[0m│\u001b[1m                  \u001b[0m│\u001b[1m                  \u001b[0m│\u001b[1m \u001b[0m\u001b[1;2mMB)\u001b[0m\u001b[1m             \u001b[0m\u001b[1m \u001b[0m│\n",
            "└───────────┴─────────┴──────────────────┴──────────────────┴──────────────────┘\n",
            "\u001b[1m                                                                                \u001b[0m\n",
            "\u001b[1m                     Total Parameters: 3,495,244 \u001b[0m\u001b[1;2m(14.0 MB)\u001b[0m\u001b[1m                      \u001b[0m\n",
            "\n",
            "\n"
          ]
        }
      ],
      "source": [
        "# To create a summary for the Module instantiate with template data\n",
        "print(CNN().tabulate(jax.random.PRNGKey(0), jnp.ones((1, 28, 28, 1)), training=False))"
      ]
    },
    {
      "cell_type": "markdown",
      "id": "773ebfc3",
      "metadata": {
        "id": "773ebfc3"
      },
      "source": [
        "Let's create a single dataclass that represents the entire training state, including step number, parameters, and optimizer state. This class will subclass flax.training.train_state.TrainState \n",
        "\n",
        "The clu library contains utils for common ML training loops. Here we will use it for evaluation metrics."
      ]
    },
    {
      "cell_type": "code",
      "execution_count": 112,
      "id": "057dc7bb",
      "metadata": {
        "id": "057dc7bb"
      },
      "outputs": [],
      "source": [
        "from clu import metrics\n",
        "from flax.training import train_state  # Useful dataclass to keep train state\n",
        "from flax import struct                # Flax dataclasses which could be safely processed with JAX "
      ]
    },
    {
      "cell_type": "code",
      "execution_count": 113,
      "id": "caaa60b0",
      "metadata": {
        "id": "caaa60b0"
      },
      "outputs": [],
      "source": [
        "# A set of metrics in a safe dataclass\n",
        "@struct.dataclass\n",
        "class Metrics(metrics.Collection):\n",
        "  accuracy: metrics.Accuracy\n",
        "  loss: metrics.Average.from_output('loss')"
      ]
    },
    {
      "cell_type": "code",
      "execution_count": 114,
      "id": "3b764774",
      "metadata": {
        "id": "3b764774"
      },
      "outputs": [],
      "source": [
        "class TrainState(train_state.TrainState):\n",
        "  # Our train state will have metrics attribute\n",
        "  metrics: Metrics\n",
        "  # It will also have a dropout key\n",
        "  key: jax.random.KeyArray"
      ]
    },
    {
      "cell_type": "code",
      "execution_count": 115,
      "id": "fb80a306",
      "metadata": {
        "id": "fb80a306"
      },
      "outputs": [],
      "source": [
        "# We also need JAX PRNGKey for the parameter initialization\n",
        "root_key = jax.random.PRNGKey(42)\n",
        "main_key, params_key, dropout_key = jax.random.split(key=root_key, num=3)"
      ]
    },
    {
      "cell_type": "code",
      "execution_count": 116,
      "id": "e386828a",
      "metadata": {
        "id": "e386828a"
      },
      "outputs": [],
      "source": [
        "# Initialize the model\n",
        "cnn = CNN()\n",
        "# initialize parameters by passing a template image\n",
        "params = cnn.init(params_key, \n",
        "                jnp.ones([1, 28, 28, 1]), \n",
        "                training=False)['params']"
      ]
    },
    {
      "cell_type": "code",
      "execution_count": 117,
      "id": "65e19548",
      "metadata": {
        "id": "65e19548"
      },
      "outputs": [],
      "source": [
        "# The optimizer parameters\n",
        "learning_rate = 0.0007"
      ]
    },
    {
      "cell_type": "code",
      "execution_count": 118,
      "id": "eb90336e",
      "metadata": {
        "id": "eb90336e"
      },
      "outputs": [],
      "source": [
        "# Lets create the training state\n",
        "# The Module foward pass will be in the TrainState apply function. \n",
        "state = TrainState.create(\n",
        "      apply_fn=cnn.apply, \n",
        "      params=params, \n",
        "      key=dropout_key, \n",
        "      tx=optax.adam(learning_rate),\n",
        "      metrics=Metrics.empty())"
      ]
    },
    {
      "cell_type": "markdown",
      "id": "2a0ac6ea",
      "metadata": {
        "id": "2a0ac6ea"
      },
      "source": [
        "The training step takes the following actions on a batch:\n",
        "    \n",
        "    1. Takes a forward pass with the current state parameters.\n",
        "    2. Evaluates cross entropy loss.\n",
        "    3. Evaluates the gradient of the loss function with jax.grad\n",
        "    4. Applies a pytree of gradients to update the model parameters.\n",
        "    \n",
        "We trace the entire train_step function and just-in-time compile it with XLA."
      ]
    },
    {
      "cell_type": "code",
      "execution_count": 119,
      "id": "ee95c8a0",
      "metadata": {
        "id": "ee95c8a0"
      },
      "outputs": [],
      "source": [
        "@jax.jit\n",
        "def train_step(state, batch, dropout_key):\n",
        "  # New PRNG key for the dropout  \n",
        "  dropout_train_key = jax.random.fold_in(key=dropout_key, data=state.step)\n",
        "  #Below the loss function will be evaluated with the current state parameters\n",
        "  def loss_fn(params):\n",
        "    logits = state.apply_fn({'params': params}, \n",
        "                batch['image'],\n",
        "                training=True, \n",
        "                rngs={'dropout': dropout_train_key}) #Log(prob_i)\n",
        "    loss = optax.softmax_cross_entropy_with_integer_labels(\n",
        "        logits=logits, labels=batch['label']).mean()\n",
        "    return loss\n",
        "  grad_fn = jax.grad(loss_fn)\n",
        "  grads = grad_fn(state.params)\n",
        "  state = state.apply_gradients(grads=grads)\n",
        "  return state"
      ]
    },
    {
      "cell_type": "markdown",
      "id": "7a1fdf45",
      "metadata": {
        "id": "7a1fdf45"
      },
      "source": [
        "We want to compute metrics during validation and testing, so their computation will be in a separate function. The lone * indicates that all following arguments are keyword-only arguments, that is, they can only be provided using their name, not as positional argument."
      ]
    },
    {
      "cell_type": "code",
      "execution_count": 120,
      "id": "af2ea162",
      "metadata": {
        "id": "af2ea162"
      },
      "outputs": [],
      "source": [
        "@jax.jit\n",
        "def compute_metrics(*, state, batch):\n",
        "  logits = state.apply_fn({'params': state.params}, batch['image'],\n",
        "                training=False)\n",
        "  loss = optax.softmax_cross_entropy_with_integer_labels(\n",
        "        logits=logits, labels=batch['label']).mean()\n",
        "  metric_updates = state.metrics.single_from_model_output(\n",
        "    logits=logits, labels=batch['label'], loss=loss)\n",
        "  metrics = state.metrics.merge(metric_updates)\n",
        "  state = state.replace(metrics=metrics)\n",
        "  return state"
      ]
    },
    {
      "cell_type": "code",
      "execution_count": 121,
      "id": "b4d75810",
      "metadata": {
        "id": "b4d75810"
      },
      "outputs": [],
      "source": [
        "# Let's assure tfds shuffles are reproducible\n",
        "tf.random.set_seed(42)"
      ]
    },
    {
      "cell_type": "code",
      "execution_count": 122,
      "id": "6d9645cc",
      "metadata": {
        "id": "6d9645cc"
      },
      "outputs": [],
      "source": [
        "num_epochs = 32\n",
        "batch_size = 32\n",
        "\n",
        "# Download, shuffle, batch the data with the function we defined\n",
        "train_ds, test_ds = get_datasets(num_epochs, batch_size)"
      ]
    },
    {
      "cell_type": "code",
      "execution_count": 123,
      "id": "9719c18f",
      "metadata": {
        "colab": {
          "base_uri": "https://localhost:8080/"
        },
        "id": "9719c18f",
        "outputId": "70068d83-261a-42ed-ccf1-5b4effe1e876"
      },
      "outputs": [
        {
          "output_type": "execute_result",
          "data": {
            "text/plain": [
              "(60000, 312)"
            ]
          },
          "metadata": {},
          "execution_count": 123
        }
      ],
      "source": [
        "len(train_ds), len(test_ds)\n",
        "# (60000/32*10, 10000/32)"
      ]
    },
    {
      "cell_type": "code",
      "execution_count": 124,
      "id": "58b4ad6a",
      "metadata": {
        "id": "58b4ad6a"
      },
      "outputs": [],
      "source": [
        "# since train_ds is replicated num_epochs times in get_datasets(), we divide by num_epochs\n",
        "num_steps_per_epoch = train_ds.cardinality().numpy() // num_epochs"
      ]
    },
    {
      "cell_type": "code",
      "execution_count": 125,
      "id": "n0cImvkb4y5m",
      "metadata": {
        "id": "n0cImvkb4y5m"
      },
      "outputs": [],
      "source": [
        "metrics_history = {'train_loss': [],\n",
        "                   'train_accuracy': [],\n",
        "                   'test_loss': [],\n",
        "                   'test_accuracy': []}"
      ]
    },
    {
      "cell_type": "markdown",
      "id": "EOlseJ_74-VQ",
      "metadata": {
        "id": "EOlseJ_74-VQ"
      },
      "source": [
        "Finally we are ready to run training"
      ]
    },
    {
      "cell_type": "code",
      "execution_count": 126,
      "id": "fjTHMoyt42FE",
      "metadata": {
        "colab": {
          "base_uri": "https://localhost:8080/"
        },
        "id": "fjTHMoyt42FE",
        "outputId": "02abd7c6-241e-4565-e8c9-962a8e3a6129"
      },
      "outputs": [
        {
          "output_type": "stream",
          "name": "stdout",
          "text": [
            "train epoch: 1, loss: 0.11730627715587616, accuracy: 96.57666778564453\n",
            "test epoch: 1, loss: 0.058484021574258804, accuracy: 98.2071304321289\n",
            "train epoch: 2, loss: 0.03139999136328697, accuracy: 99.14500427246094\n",
            "test epoch: 2, loss: 0.041354745626449585, accuracy: 98.87820434570312\n",
            "train epoch: 3, loss: 0.02114202454686165, accuracy: 99.42333984375\n",
            "test epoch: 3, loss: 0.0488467738032341, accuracy: 98.818115234375\n",
            "train epoch: 4, loss: 0.01422802172601223, accuracy: 99.61333465576172\n",
            "test epoch: 4, loss: 0.031926460564136505, accuracy: 99.16867065429688\n",
            "train epoch: 5, loss: 0.011936263181269169, accuracy: 99.66166687011719\n",
            "test epoch: 5, loss: 0.03532331809401512, accuracy: 99.03846740722656\n",
            "train epoch: 6, loss: 0.009197620674967766, accuracy: 99.75\n",
            "test epoch: 6, loss: 0.040643543004989624, accuracy: 98.99839782714844\n",
            "train epoch: 7, loss: 0.0072388299740850925, accuracy: 99.7933349609375\n",
            "test epoch: 7, loss: 0.03452008217573166, accuracy: 99.22876739501953\n",
            "train epoch: 8, loss: 0.0060949381440877914, accuracy: 99.84500122070312\n",
            "test epoch: 8, loss: 0.034943144768476486, accuracy: 99.24879455566406\n",
            "train epoch: 9, loss: 0.004310982767492533, accuracy: 99.8800048828125\n",
            "test epoch: 9, loss: 0.03680909797549248, accuracy: 99.36898803710938\n",
            "train epoch: 10, loss: 0.005595738999545574, accuracy: 99.8566665649414\n",
            "test epoch: 10, loss: 0.03381997346878052, accuracy: 99.34896087646484\n",
            "train epoch: 11, loss: 0.003816425334662199, accuracy: 99.8800048828125\n",
            "test epoch: 11, loss: 0.029842263087630272, accuracy: 99.33894348144531\n",
            "train epoch: 12, loss: 0.0032816689927130938, accuracy: 99.89666748046875\n",
            "test epoch: 12, loss: 0.07185795158147812, accuracy: 98.90824890136719\n",
            "train epoch: 13, loss: 0.0034186041448265314, accuracy: 99.90499877929688\n",
            "test epoch: 13, loss: 0.03407091274857521, accuracy: 99.3790054321289\n",
            "train epoch: 14, loss: 0.0025970914866775274, accuracy: 99.92666625976562\n",
            "test epoch: 14, loss: 0.0386587418615818, accuracy: 99.50921630859375\n",
            "train epoch: 15, loss: 0.0026530837640166283, accuracy: 99.92500305175781\n",
            "test epoch: 15, loss: 0.03996393829584122, accuracy: 99.33894348144531\n",
            "train epoch: 16, loss: 0.0018271974986419082, accuracy: 99.94000244140625\n",
            "test epoch: 16, loss: 0.046887751668691635, accuracy: 99.29887390136719\n",
            "train epoch: 17, loss: 0.002780130598694086, accuracy: 99.91166687011719\n",
            "test epoch: 17, loss: 0.06877494603395462, accuracy: 99.03846740722656\n",
            "train epoch: 18, loss: 0.0027259790804237127, accuracy: 99.91666412353516\n",
            "test epoch: 18, loss: 0.0503726564347744, accuracy: 99.36898803710938\n",
            "train epoch: 19, loss: 0.002173802349716425, accuracy: 99.93499755859375\n",
            "test epoch: 19, loss: 0.03820866718888283, accuracy: 99.42909240722656\n",
            "train epoch: 20, loss: 0.0018148594535887241, accuracy: 99.94000244140625\n",
            "test epoch: 20, loss: 0.04680423438549042, accuracy: 99.31890869140625\n",
            "train epoch: 21, loss: 0.0018100746674463153, accuracy: 99.95333862304688\n",
            "test epoch: 21, loss: 0.038247138261795044, accuracy: 99.25881958007812\n",
            "train epoch: 22, loss: 0.001440625754185021, accuracy: 99.96666717529297\n",
            "test epoch: 22, loss: 0.045645128935575485, accuracy: 99.33894348144531\n",
            "train epoch: 23, loss: 0.001516538206487894, accuracy: 99.96499633789062\n",
            "test epoch: 23, loss: 0.054444704204797745, accuracy: 99.39904022216797\n",
            "train epoch: 24, loss: 0.0011356549803167582, accuracy: 99.96499633789062\n",
            "test epoch: 24, loss: 0.04160863161087036, accuracy: 99.33894348144531\n",
            "train epoch: 25, loss: 0.001473706099204719, accuracy: 99.961669921875\n",
            "test epoch: 25, loss: 0.05620433762669563, accuracy: 99.38902282714844\n",
            "train epoch: 26, loss: 0.002080676844343543, accuracy: 99.94499969482422\n",
            "test epoch: 26, loss: 0.04174167290329933, accuracy: 99.38902282714844\n",
            "train epoch: 27, loss: 0.001975500723347068, accuracy: 99.95999908447266\n",
            "test epoch: 27, loss: 0.04431294649839401, accuracy: 99.35897827148438\n",
            "train epoch: 28, loss: 0.000930040841922164, accuracy: 99.97167205810547\n",
            "test epoch: 28, loss: 0.06289500743150711, accuracy: 99.29887390136719\n",
            "train epoch: 29, loss: 0.0012413874501362443, accuracy: 99.96666717529297\n",
            "test epoch: 29, loss: 0.05032176524400711, accuracy: 99.4190673828125\n",
            "train epoch: 30, loss: 0.0011025879066437483, accuracy: 99.95833587646484\n",
            "test epoch: 30, loss: 0.04735938832163811, accuracy: 99.4190673828125\n",
            "train epoch: 31, loss: 0.0016682762652635574, accuracy: 99.94666290283203\n",
            "test epoch: 31, loss: 0.04221981763839722, accuracy: 99.54927825927734\n",
            "train epoch: 32, loss: 0.000666226667817682, accuracy: 99.97333526611328\n",
            "test epoch: 32, loss: 0.06711646169424057, accuracy: 99.4090576171875\n"
          ]
        }
      ],
      "source": [
        "for step,batch in enumerate(train_ds.as_numpy_iterator()):\n",
        "\n",
        "  # Run optimization steps over training batches and compute batch metrics\n",
        "  state = train_step(state, batch, dropout_key) # get updated train state (which contains the updated parameters)\n",
        "  state = compute_metrics(state=state, batch=batch) # aggregate batch metrics\n",
        "\n",
        "  if (step+1) % num_steps_per_epoch == 0: # one training epoch has passed\n",
        "    for metric,value in state.metrics.compute().items(): # compute metrics\n",
        "      metrics_history[f'train_{metric}'].append(value) # record metrics\n",
        "    state = state.replace(metrics=state.metrics.empty()) # reset train_metrics for next training epoch\n",
        "\n",
        "    # Compute metrics on the test set after each training epoch\n",
        "    test_state = state\n",
        "    for test_batch in test_ds.as_numpy_iterator():\n",
        "      test_state = compute_metrics(state=test_state, batch=test_batch)\n",
        "\n",
        "    for metric,value in test_state.metrics.compute().items():\n",
        "      metrics_history[f'test_{metric}'].append(value)\n",
        "\n",
        "    print(f\"train epoch: {(step+1) // num_steps_per_epoch}, \"\n",
        "          f\"loss: {metrics_history['train_loss'][-1]}, \"\n",
        "          f\"accuracy: {metrics_history['train_accuracy'][-1] * 100}\")\n",
        "    print(f\"test epoch: {(step+1) // num_steps_per_epoch}, \"\n",
        "          f\"loss: {metrics_history['test_loss'][-1]}, \"\n",
        "          f\"accuracy: {metrics_history['test_accuracy'][-1] * 100}\")"
      ]
    },
    {
      "cell_type": "markdown",
      "id": "STvYstZF8he_",
      "metadata": {
        "id": "STvYstZF8he_"
      },
      "source": [
        "Let's visualize the metrics during training"
      ]
    },
    {
      "cell_type": "code",
      "execution_count": 127,
      "id": "aUeM_xMu7zor",
      "metadata": {
        "colab": {
          "base_uri": "https://localhost:8080/",
          "height": 354
        },
        "id": "aUeM_xMu7zor",
        "outputId": "dbcf25ba-8129-4f13-a21e-c2ca67240891"
      },
      "outputs": [
        {
          "output_type": "display_data",
          "data": {
            "text/plain": [
              "<Figure size 1080x360 with 2 Axes>"
            ],
            "image/png": "[encoded data removed]"
          },
          "metadata": {
            "needs_background": "light"
          }
        },
        {
          "output_type": "display_data",
          "data": {
            "text/plain": [
              "<Figure size 432x288 with 0 Axes>"
            ]
          },
          "metadata": {}
        }
      ],
      "source": [
        "import matplotlib.pyplot as plt  # Visualization\n",
        "\n",
        "# Plot loss and accuracy in subplots\n",
        "fig, (ax1, ax2) = plt.subplots(1, 2, figsize=(15, 5))\n",
        "ax1.set_title('Loss')\n",
        "ax2.set_title('Accuracy')\n",
        "for dataset in ('train','test'):\n",
        "  ax1.plot(metrics_history[f'{dataset}_loss'], label=f'{dataset}_loss')\n",
        "  ax2.plot(metrics_history[f'{dataset}_accuracy'], label=f'{dataset}_accuracy')\n",
        "ax1.legend()\n",
        "ax2.legend()\n",
        "plt.show()\n",
        "plt.clf()"
      ]
    },
    {
      "cell_type": "markdown",
      "id": "xguU89_P9AGL",
      "metadata": {
        "id": "xguU89_P9AGL"
      },
      "source": [
        "And we can do inference on a test set."
      ]
    },
    {
      "cell_type": "code",
      "execution_count": 128,
      "id": "-gn2sDO28qMy",
      "metadata": {
        "id": "-gn2sDO28qMy"
      },
      "outputs": [],
      "source": [
        "@jax.jit\n",
        "def pred_step(state, batch):\n",
        "  logits = state.apply_fn({'params': state.params}, test_batch['image'], training=False)\n",
        "  return logits.argmax(axis=1)\n",
        "\n",
        "test_batch = test_ds.as_numpy_iterator().next()\n",
        "pred = pred_step(state, test_batch)"
      ]
    },
    {
      "cell_type": "code",
      "execution_count": 129,
      "id": "y0Qfu7-D9LHH",
      "metadata": {
        "colab": {
          "base_uri": "https://localhost:8080/",
          "height": 699
        },
        "id": "y0Qfu7-D9LHH",
        "outputId": "f364ed2c-11c7-4704-c14a-8566cc44458a"
      },
      "outputs": [
        {
          "output_type": "display_data",
          "data": {
            "text/plain": [
              "<Figure size 864x864 with 25 Axes>"
            ],
            "image/png": "[encoded data removed]"
          },
          "metadata": {
            "needs_background": "light"
          }
        }
      ],
      "source": [
        "fig, axs = plt.subplots(5, 5, figsize=(12, 12))\n",
        "for i, ax in enumerate(axs.flatten()):\n",
        "    ax.imshow(test_batch['image'][i, ..., 0], cmap='gray')\n",
        "    ax.set_title(f\"label={pred[i]}\")\n",
        "    ax.axis('off')"
      ]
    },
    {
      "cell_type": "markdown",
      "id": "MWRMdyOQnTcQ",
      "metadata": {
        "id": "MWRMdyOQnTcQ"
      },
      "source": [
        "Homework: Play with the layers of the Model, the activation function and the hyperparameters to achieve Test accuracy over 99.5%\n",
        "\n",
        "Push your code to GitHub on branch carrying your name."
      ]
    },
    {
      "cell_type": "code",
      "execution_count": 129,
      "id": "851cc433",
      "metadata": {
        "id": "851cc433"
      },
      "outputs": [],
      "source": []
    }
  ],
  "metadata": {
    "accelerator": "GPU",
    "colab": {
      "provenance": [],
      "include_colab_link": true
    },
    "gpuClass": "standard",
    "kernelspec": {
      "display_name": "Python 3 (ipykernel)",
      "language": "python",
      "name": "python3"
    },
    "language_info": {
      "codemirror_mode": {
        "name": "ipython",
        "version": 3
      },
      "file_extension": ".py",
      "mimetype": "text/x-python",
      "name": "python",
      "nbconvert_exporter": "python",
      "pygments_lexer": "ipython3",
      "version": "3.10.6"
    }
  },
  "nbformat": 4,
  "nbformat_minor": 5
}