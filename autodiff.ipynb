{
 "cells": [
  {
   "cell_type": "code",
   "execution_count": 1,
   "id": "ec6bd513",
   "metadata": {},
   "outputs": [],
   "source": [
    "import numpy as np\n",
    "import jax\n",
    "import jax.numpy as jnp\n",
    "from jax import grad, value_and_grad, jit, random, jacfwd, jacrev\n",
    "import optax"
   ]
  },
  {
   "cell_type": "code",
   "execution_count": 2,
   "id": "0157111c",
   "metadata": {},
   "outputs": [],
   "source": [
    "key = random.PRNGKey(42)"
   ]
  },
  {
   "cell_type": "markdown",
   "id": "048f3b94",
   "metadata": {},
   "source": [
    "Computing derivatives and gradients of both basic and user-defined functions is really easy!"
   ]
  },
  {
   "cell_type": "code",
   "execution_count": 3,
   "id": "f85f42c0",
   "metadata": {},
   "outputs": [
    {
     "name": "stdout",
     "output_type": "stream",
     "text": [
      "Value -8.742277657347586e-08\n",
      "Derivative value -1.0\n"
     ]
    }
   ],
   "source": [
    "grad_sin = grad(jnp.sin)\n",
    "\n",
    "print(f\"Value {jnp.sin(jnp.pi)}\")\n",
    "print(f\"Derivative value {grad_sin(jnp.pi)}\")"
   ]
  },
  {
   "cell_type": "markdown",
   "id": "9dd0242d",
   "metadata": {},
   "source": [
    "Let's try dffrentiating the loss function of a very simple binary classifier with respect to the parameters. "
   ]
  },
  {
   "cell_type": "code",
   "execution_count": 4,
   "id": "df2eb7a4",
   "metadata": {},
   "outputs": [],
   "source": [
    "# Outputs the logits of the labels\n",
    "def predict(W, b, inputs):\n",
    "    return jnp.dot(inputs, W) + b\n",
    "\n",
    "# Build a toy dataset.\n",
    "inputs = jnp.array([[0.52, 1.12,  0.77],\n",
    "                   [0.88, -1.08, 0.15],\n",
    "                   [0.52, 0.06, -1.30],\n",
    "                   [0.74, -2.49, 1.39],\n",
    "                   [0.76, -0.89, -1.01]])\n",
    "targets = jnp.array([1, 1, 0, 1, 0])\n",
    "\n",
    "# Cross entropy loss function\n",
    "def loss(params_dict):\n",
    "    preds = predict(params_dict['W'], params_dict['b'], inputs)\n",
    "    return jnp.sum(optax.softmax_cross_entropy_with_integer_labels(preds, targets))"
   ]
  },
  {
   "cell_type": "code",
   "execution_count": 5,
   "id": "6cc2dc4b",
   "metadata": {},
   "outputs": [],
   "source": [
    "# Initialize random model coefficients\n",
    "key, W_key, b_key = random.split(key, 3)\n",
    "W = random.normal(W_key, (3,2))\n",
    "b = random.normal(b_key, ())"
   ]
  },
  {
   "cell_type": "code",
   "execution_count": 6,
   "id": "87334702",
   "metadata": {},
   "outputs": [
    {
     "name": "stdout",
     "output_type": "stream",
     "text": [
      "W: [[-1.8231415  -0.472541  ]\n",
      " [ 0.41849834 -1.598711  ]\n",
      " [ 1.1073328   1.028033  ]]\n",
      "b -1.2226542234420776\n"
     ]
    }
   ],
   "source": [
    "# Let's see the value of the parameters\n",
    "print(f\"W: {W}\")\n",
    "print(f\"b {b}\")"
   ]
  },
  {
   "cell_type": "code",
   "execution_count": 7,
   "id": "9ee4626e",
   "metadata": {},
   "outputs": [
    {
     "name": "stdout",
     "output_type": "stream",
     "text": [
      "The logits [[-0.84932333 -2.4673467 ]\n",
      " [-3.1128972   0.24232256]\n",
      " [-3.5851107  -2.900741  ]\n",
      " [-2.0746472   3.837422  ]\n",
      " [-4.099111   -1.197246  ]]\n"
     ]
    }
   ],
   "source": [
    "print(f\"The logits {predict(W, b, inputs)}\")"
   ]
  },
  {
   "cell_type": "code",
   "execution_count": 8,
   "id": "4c1044ea",
   "metadata": {},
   "outputs": [
    {
     "name": "stdout",
     "output_type": "stream",
     "text": [
      "5.8840284\n"
     ]
    }
   ],
   "source": [
    "# The value of the loss\n",
    "print(loss({'W': W, 'b': b}))"
   ]
  },
  {
   "cell_type": "code",
   "execution_count": 9,
   "id": "2ae792e7",
   "metadata": {},
   "outputs": [
    {
     "name": "stdout",
     "output_type": "stream",
     "text": [
      "{'W': Array([[-0.60045743,  0.60045743],\n",
      "       [ 1.6953038 , -1.6953039 ],\n",
      "       [ 2.472938  , -2.4729378 ]], dtype=float32), 'b': Array(0., dtype=float32)}\n"
     ]
    }
   ],
   "source": [
    "# The gradient of the loss\n",
    "print(grad(loss)({'W': W, 'b': b}))"
   ]
  },
  {
   "cell_type": "code",
   "execution_count": 10,
   "id": "0da76ba6",
   "metadata": {},
   "outputs": [
    {
     "name": "stdout",
     "output_type": "stream",
     "text": [
      "loss value 5.8840284\n",
      "gradient value {'W': Array([[-0.60045743,  0.60045743],\n",
      "       [ 1.6953038 , -1.6953039 ],\n",
      "       [ 2.472938  , -2.4729378 ]], dtype=float32), 'b': Array(0., dtype=float32)}\n"
     ]
    }
   ],
   "source": [
    "# Or we could have computed both the value and the gradient in one shot\n",
    "loss_value, Wb_grad = value_and_grad(loss)({'W': W, 'b': b})\n",
    "print('loss value', loss_value)\n",
    "print('gradient value', Wb_grad)"
   ]
  },
  {
   "cell_type": "markdown",
   "id": "90a11bba",
   "metadata": {},
   "source": [
    "# Jacobians and Hessians"
   ]
  },
  {
   "cell_type": "markdown",
   "id": "c0f4576e",
   "metadata": {},
   "source": [
    "Remember that vectors are rows and the Jacobians are transposed compared to the math notation."
   ]
  },
  {
   "cell_type": "code",
   "execution_count": 11,
   "id": "6041052c",
   "metadata": {},
   "outputs": [
    {
     "name": "stdout",
     "output_type": "stream",
     "text": [
      "Value [[0.29957482 0.07817923]\n",
      " [0.04257838 0.560286  ]\n",
      " [0.0269852  0.05211694]\n",
      " [0.11158551 0.97890544]\n",
      " [0.01631676 0.23196553]]\n",
      "\n",
      "jacfwd result, with shape (5, 2, 3, 2)\n",
      "[[[[ 0.10911146  0.        ]\n",
      "   [ 0.2350093   0.        ]\n",
      "   [ 0.1615689   0.        ]]\n",
      "\n",
      "  [[ 0.          0.03747498]\n",
      "   [ 0.          0.08071535]\n",
      "   [ 0.          0.0554918 ]]]\n",
      "\n",
      "\n",
      " [[[ 0.03587361  0.        ]\n",
      "   [-0.0440267   0.        ]\n",
      "   [ 0.00611482  0.        ]]\n",
      "\n",
      "  [[ 0.          0.21680173]\n",
      "   [ 0.         -0.26607487]\n",
      "   [ 0.          0.03695484]]]\n",
      "\n",
      "\n",
      " [[[ 0.01365364  0.        ]\n",
      "   [ 0.00157542  0.        ]\n",
      "   [-0.0341341   0.        ]]\n",
      "\n",
      "  [[ 0.          0.02568839]\n",
      "   [ 0.          0.00296405]\n",
      "   [ 0.         -0.06422099]]]\n",
      "\n",
      "\n",
      " [[[ 0.0733593   0.        ]\n",
      "   [-0.24684411  0.        ]\n",
      "   [ 0.13779652  0.        ]]\n",
      "\n",
      "  [[ 0.          0.01528069]\n",
      "   [ 0.         -0.05141746]\n",
      "   [ 0.          0.02870292]]]\n",
      "\n",
      "\n",
      " [[[ 0.01219839  0.        ]\n",
      "   [-0.01428496  0.        ]\n",
      "   [-0.01621102  0.        ]]\n",
      "\n",
      "  [[ 0.          0.13539971]\n",
      "   [ 0.         -0.15856019]\n",
      "   [ 0.         -0.17993909]]]]\n",
      "jacrev result, with shape (5, 2, 3, 2)\n",
      "[[[[ 0.10911146  0.        ]\n",
      "   [ 0.2350093   0.        ]\n",
      "   [ 0.1615689   0.        ]]\n",
      "\n",
      "  [[ 0.          0.03747496]\n",
      "   [ 0.          0.08071531]\n",
      "   [ 0.          0.05549177]]]\n",
      "\n",
      "\n",
      " [[[ 0.03587361  0.        ]\n",
      "   [-0.0440267   0.        ]\n",
      "   [ 0.00611482  0.        ]]\n",
      "\n",
      "  [[ 0.          0.21680173]\n",
      "   [ 0.         -0.26607487]\n",
      "   [ 0.          0.03695484]]]\n",
      "\n",
      "\n",
      " [[[ 0.01365364  0.        ]\n",
      "   [ 0.00157542  0.        ]\n",
      "   [-0.0341341   0.        ]]\n",
      "\n",
      "  [[ 0.          0.02568839]\n",
      "   [ 0.          0.00296405]\n",
      "   [ 0.         -0.06422099]]]\n",
      "\n",
      "\n",
      " [[[ 0.0733593   0.        ]\n",
      "   [-0.24684411  0.        ]\n",
      "   [ 0.13779652  0.        ]]\n",
      "\n",
      "  [[ 0.          0.01528069]\n",
      "   [ 0.         -0.05141746]\n",
      "   [ 0.          0.02870292]]]\n",
      "\n",
      "\n",
      " [[[ 0.0121984   0.        ]\n",
      "   [-0.01428497  0.        ]\n",
      "   [-0.01621103  0.        ]]\n",
      "\n",
      "  [[ 0.          0.13539971]\n",
      "   [ 0.         -0.15856019]\n",
      "   [ 0.         -0.17993909]]]]\n"
     ]
    }
   ],
   "source": [
    "# Isolate the function from the weight matrix to the predictions\n",
    "fun = lambda W: jax.nn.sigmoid(predict(W, b, inputs))\n",
    "\n",
    "# So what is the value\n",
    "print(f\"Value {fun(W)}\\n\")\n",
    "\n",
    "J = jacfwd(fun)(W)\n",
    "print(\"jacfwd result, with shape\", J.shape)\n",
    "print(J)\n",
    "\n",
    "J = jacrev(fun)(W)\n",
    "print(\"jacrev result, with shape\", J.shape)\n",
    "print(J)"
   ]
  },
  {
   "cell_type": "code",
   "execution_count": 12,
   "id": "4d10c573",
   "metadata": {},
   "outputs": [
    {
     "name": "stdout",
     "output_type": "stream",
     "text": [
      "3.62 ms ± 216 µs per loop (mean ± std. dev. of 7 runs, 10 loops each)\n"
     ]
    }
   ],
   "source": [
    "# Timing the forward mode\n",
    "%timeit -n10 jacfwd(fun)(W)"
   ]
  },
  {
   "cell_type": "code",
   "execution_count": 13,
   "id": "0b877264",
   "metadata": {},
   "outputs": [
    {
     "name": "stdout",
     "output_type": "stream",
     "text": [
      "4.54 ms ± 252 µs per loop (mean ± std. dev. of 7 runs, 10 loops each)\n"
     ]
    }
   ],
   "source": [
    "# Timing the reverse mode\n",
    "%timeit -n10 jacrev(fun)(W)"
   ]
  },
  {
   "cell_type": "markdown",
   "id": "f6c6ff95",
   "metadata": {},
   "source": [
    "Composition of two of these functions gives us a way to compute the Hessian"
   ]
  },
  {
   "cell_type": "code",
   "execution_count": 14,
   "id": "cd9019e0",
   "metadata": {},
   "outputs": [
    {
     "name": "stdout",
     "output_type": "stream",
     "text": [
      "hessian, with shape (5, 2, 3, 2, 3, 2)\n",
      "[[[[[[ 2.27434319e-02  0.00000000e+00]\n",
      "     [ 4.89858575e-02  0.00000000e+00]\n",
      "     [ 3.36777791e-02  0.00000000e+00]]\n",
      "\n",
      "    [[ 0.00000000e+00  0.00000000e+00]\n",
      "     [ 0.00000000e+00  0.00000000e+00]\n",
      "     [ 0.00000000e+00  0.00000000e+00]]]\n",
      "\n",
      "\n",
      "   [[[ 4.89858538e-02  0.00000000e+00]\n",
      "     [ 1.05508007e-01  0.00000000e+00]\n",
      "     [ 7.25367591e-02  0.00000000e+00]]\n",
      "\n",
      "    [[ 0.00000000e+00  0.00000000e+00]\n",
      "     [ 0.00000000e+00  0.00000000e+00]\n",
      "     [ 0.00000000e+00  0.00000000e+00]]]\n",
      "\n",
      "\n",
      "   [[[ 3.36777754e-02  0.00000000e+00]\n",
      "     [ 7.25367516e-02  0.00000000e+00]\n",
      "     [ 4.98690195e-02  0.00000000e+00]]\n",
      "\n",
      "    [[ 0.00000000e+00  0.00000000e+00]\n",
      "     [ 0.00000000e+00  0.00000000e+00]\n",
      "     [ 0.00000000e+00  0.00000000e+00]]]]\n",
      "\n",
      "\n",
      "\n",
      "  [[[[ 0.00000000e+00  0.00000000e+00]\n",
      "     [ 0.00000000e+00  0.00000000e+00]\n",
      "     [ 0.00000000e+00  0.00000000e+00]]\n",
      "\n",
      "    [[ 0.00000000e+00  1.64400339e-02]\n",
      "     [ 0.00000000e+00  3.54093052e-02]\n",
      "     [ 0.00000000e+00  2.43438967e-02]]]\n",
      "\n",
      "\n",
      "   [[[ 0.00000000e+00  0.00000000e+00]\n",
      "     [ 0.00000000e+00  0.00000000e+00]\n",
      "     [ 0.00000000e+00  0.00000000e+00]]\n",
      "\n",
      "    [[ 0.00000000e+00  3.54093052e-02]\n",
      "     [ 0.00000000e+00  7.62661994e-02]\n",
      "     [ 0.00000000e+00  5.24330102e-02]]]\n",
      "\n",
      "\n",
      "   [[[ 0.00000000e+00  0.00000000e+00]\n",
      "     [ 0.00000000e+00  0.00000000e+00]\n",
      "     [ 0.00000000e+00  0.00000000e+00]]\n",
      "\n",
      "    [[ 0.00000000e+00  2.43438967e-02]\n",
      "     [ 0.00000000e+00  5.24330102e-02]\n",
      "     [ 0.00000000e+00  3.60476933e-02]]]]]\n",
      "\n",
      "\n",
      "\n",
      "\n",
      " [[[[[ 2.88804807e-02  0.00000000e+00]\n",
      "     [-3.54442298e-02  0.00000000e+00]\n",
      "     [ 4.92280954e-03  0.00000000e+00]]\n",
      "\n",
      "    [[ 0.00000000e+00  0.00000000e+00]\n",
      "     [ 0.00000000e+00  0.00000000e+00]\n",
      "     [ 0.00000000e+00  0.00000000e+00]]]\n",
      "\n",
      "\n",
      "   [[[-3.54442261e-02  0.00000000e+00]\n",
      "     [ 4.34997380e-02  0.00000000e+00]\n",
      "     [-6.04163017e-03  0.00000000e+00]]\n",
      "\n",
      "    [[ 0.00000000e+00  0.00000000e+00]\n",
      "     [ 0.00000000e+00  0.00000000e+00]\n",
      "     [ 0.00000000e+00  0.00000000e+00]]]\n",
      "\n",
      "\n",
      "   [[[ 4.92280908e-03  0.00000000e+00]\n",
      "     [-6.04163017e-03  0.00000000e+00]\n",
      "     [ 8.39115295e-04  0.00000000e+00]]\n",
      "\n",
      "    [[ 0.00000000e+00  0.00000000e+00]\n",
      "     [ 0.00000000e+00  0.00000000e+00]\n",
      "     [ 0.00000000e+00  0.00000000e+00]]]]\n",
      "\n",
      "\n",
      "\n",
      "  [[[[ 0.00000000e+00  0.00000000e+00]\n",
      "     [ 0.00000000e+00  0.00000000e+00]\n",
      "     [ 0.00000000e+00  0.00000000e+00]]\n",
      "\n",
      "    [[ 0.00000000e+00 -2.30033882e-02]\n",
      "     [ 0.00000000e+00  2.82314252e-02]\n",
      "     [ 0.00000000e+00 -3.92103288e-03]]]\n",
      "\n",
      "\n",
      "   [[[ 0.00000000e+00  0.00000000e+00]\n",
      "     [ 0.00000000e+00  0.00000000e+00]\n",
      "     [ 0.00000000e+00  0.00000000e+00]]\n",
      "\n",
      "    [[ 0.00000000e+00  2.82314308e-02]\n",
      "     [ 0.00000000e+00 -3.46476585e-02]\n",
      "     [ 0.00000000e+00  4.81217680e-03]]]\n",
      "\n",
      "\n",
      "   [[[ 0.00000000e+00  0.00000000e+00]\n",
      "     [ 0.00000000e+00  0.00000000e+00]\n",
      "     [ 0.00000000e+00  0.00000000e+00]]\n",
      "\n",
      "    [[ 0.00000000e+00 -3.92103195e-03]\n",
      "     [ 0.00000000e+00  4.81217494e-03]\n",
      "     [ 0.00000000e+00 -6.68357883e-04]]]]]\n",
      "\n",
      "\n",
      "\n",
      "\n",
      " [[[[[ 6.71670819e-03  0.00000000e+00]\n",
      "     [ 7.75004853e-04  0.00000000e+00]\n",
      "     [-1.67917721e-02  0.00000000e+00]]\n",
      "\n",
      "    [[ 0.00000000e+00  0.00000000e+00]\n",
      "     [ 0.00000000e+00  0.00000000e+00]\n",
      "     [ 0.00000000e+00  0.00000000e+00]]]\n",
      "\n",
      "\n",
      "   [[[ 7.75004795e-04  0.00000000e+00]\n",
      "     [ 8.94236364e-05  0.00000000e+00]\n",
      "     [-1.93751219e-03  0.00000000e+00]]\n",
      "\n",
      "    [[ 0.00000000e+00  0.00000000e+00]\n",
      "     [ 0.00000000e+00  0.00000000e+00]\n",
      "     [ 0.00000000e+00  0.00000000e+00]]]\n",
      "\n",
      "\n",
      "   [[[-1.67917702e-02  0.00000000e+00]\n",
      "     [-1.93751208e-03  0.00000000e+00]\n",
      "     [ 4.19794284e-02  0.00000000e+00]]\n",
      "\n",
      "    [[ 0.00000000e+00  0.00000000e+00]\n",
      "     [ 0.00000000e+00  0.00000000e+00]\n",
      "     [ 0.00000000e+00  0.00000000e+00]]]]\n",
      "\n",
      "\n",
      "\n",
      "  [[[[ 0.00000000e+00  0.00000000e+00]\n",
      "     [ 0.00000000e+00  0.00000000e+00]\n",
      "     [ 0.00000000e+00  0.00000000e+00]]\n",
      "\n",
      "    [[ 0.00000000e+00  1.19656129e-02]\n",
      "     [ 0.00000000e+00  1.38064765e-03]\n",
      "     [ 0.00000000e+00 -2.99140308e-02]]]\n",
      "\n",
      "\n",
      "   [[[ 0.00000000e+00  0.00000000e+00]\n",
      "     [ 0.00000000e+00  0.00000000e+00]\n",
      "     [ 0.00000000e+00  0.00000000e+00]]\n",
      "\n",
      "    [[ 0.00000000e+00  1.38064765e-03]\n",
      "     [ 0.00000000e+00  1.59305491e-04]\n",
      "     [ 0.00000000e+00 -3.45161883e-03]]]\n",
      "\n",
      "\n",
      "   [[[ 0.00000000e+00  0.00000000e+00]\n",
      "     [ 0.00000000e+00  0.00000000e+00]\n",
      "     [ 0.00000000e+00  0.00000000e+00]]\n",
      "\n",
      "    [[ 0.00000000e+00 -2.99140308e-02]\n",
      "     [ 0.00000000e+00 -3.45161906e-03]\n",
      "     [ 0.00000000e+00  7.47850761e-02]]]]]\n",
      "\n",
      "\n",
      "\n",
      "\n",
      " [[[[[ 4.21708450e-02  0.00000000e+00]\n",
      "     [-1.41899183e-01  0.00000000e+00]\n",
      "     [ 7.92128071e-02  0.00000000e+00]]\n",
      "\n",
      "    [[ 0.00000000e+00  0.00000000e+00]\n",
      "     [ 0.00000000e+00  0.00000000e+00]\n",
      "     [ 0.00000000e+00  0.00000000e+00]]]\n",
      "\n",
      "\n",
      "   [[[-1.41899198e-01  0.00000000e+00]\n",
      "     [ 4.77471590e-01  0.00000000e+00]\n",
      "     [-2.66540378e-01  0.00000000e+00]]\n",
      "\n",
      "    [[ 0.00000000e+00  0.00000000e+00]\n",
      "     [ 0.00000000e+00  0.00000000e+00]\n",
      "     [ 0.00000000e+00  0.00000000e+00]]]\n",
      "\n",
      "\n",
      "   [[[ 7.92127997e-02  0.00000000e+00]\n",
      "     [-2.66540349e-01  0.00000000e+00]\n",
      "     [ 1.48791626e-01  0.00000000e+00]]\n",
      "\n",
      "    [[ 0.00000000e+00  0.00000000e+00]\n",
      "     [ 0.00000000e+00  0.00000000e+00]\n",
      "     [ 0.00000000e+00  0.00000000e+00]]]]\n",
      "\n",
      "\n",
      "\n",
      "  [[[[ 0.00000000e+00  0.00000000e+00]\n",
      "     [ 0.00000000e+00  0.00000000e+00]\n",
      "     [ 0.00000000e+00  0.00000000e+00]]\n",
      "\n",
      "    [[ 0.00000000e+00 -1.08306492e-02]\n",
      "     [ 0.00000000e+00  3.64436656e-02]\n",
      "     [ 0.00000000e+00 -2.03440562e-02]]]\n",
      "\n",
      "\n",
      "   [[[ 0.00000000e+00  0.00000000e+00]\n",
      "     [ 0.00000000e+00  0.00000000e+00]\n",
      "     [ 0.00000000e+00  0.00000000e+00]]\n",
      "\n",
      "    [[ 0.00000000e+00  3.64436693e-02]\n",
      "     [ 0.00000000e+00 -1.22628011e-01]\n",
      "     [ 0.00000000e+00  6.84549958e-02]]]\n",
      "\n",
      "\n",
      "   [[[ 0.00000000e+00  0.00000000e+00]\n",
      "     [ 0.00000000e+00  0.00000000e+00]\n",
      "     [ 0.00000000e+00  0.00000000e+00]]\n",
      "\n",
      "    [[ 0.00000000e+00 -2.03440562e-02]\n",
      "     [ 0.00000000e+00  6.84549883e-02]\n",
      "     [ 0.00000000e+00 -3.82138342e-02]]]]]\n",
      "\n",
      "\n",
      "\n",
      "\n",
      " [[[[[ 8.96823872e-03  0.00000000e+00]\n",
      "     [-1.05022807e-02  0.00000000e+00]\n",
      "     [-1.19183175e-02  0.00000000e+00]]\n",
      "\n",
      "    [[ 0.00000000e+00  0.00000000e+00]\n",
      "     [ 0.00000000e+00  0.00000000e+00]\n",
      "     [ 0.00000000e+00  0.00000000e+00]]]\n",
      "\n",
      "\n",
      "   [[[-1.05022797e-02  0.00000000e+00]\n",
      "     [ 1.22987237e-02  0.00000000e+00]\n",
      "     [ 1.39569771e-02  0.00000000e+00]]\n",
      "\n",
      "    [[ 0.00000000e+00  0.00000000e+00]\n",
      "     [ 0.00000000e+00  0.00000000e+00]\n",
      "     [ 0.00000000e+00  0.00000000e+00]]]\n",
      "\n",
      "\n",
      "   [[[-1.19183175e-02  0.00000000e+00]\n",
      "     [ 1.39569789e-02  0.00000000e+00]\n",
      "     [ 1.58388168e-02  0.00000000e+00]]\n",
      "\n",
      "    [[ 0.00000000e+00  0.00000000e+00]\n",
      "     [ 0.00000000e+00  0.00000000e+00]\n",
      "     [ 0.00000000e+00  0.00000000e+00]]]]\n",
      "\n",
      "\n",
      "\n",
      "  [[[[ 0.00000000e+00  0.00000000e+00]\n",
      "     [ 0.00000000e+00  0.00000000e+00]\n",
      "     [ 0.00000000e+00  0.00000000e+00]]\n",
      "\n",
      "    [[ 0.00000000e+00  5.51635139e-02]\n",
      "     [ 0.00000000e+00 -6.45993799e-02]\n",
      "     [ 0.00000000e+00 -7.33094141e-02]]]\n",
      "\n",
      "\n",
      "   [[[ 0.00000000e+00  0.00000000e+00]\n",
      "     [ 0.00000000e+00  0.00000000e+00]\n",
      "     [ 0.00000000e+00  0.00000000e+00]]\n",
      "\n",
      "    [[ 0.00000000e+00 -6.45993799e-02]\n",
      "     [ 0.00000000e+00  7.56492764e-02]\n",
      "     [ 0.00000000e+00  8.58491808e-02]]]\n",
      "\n",
      "\n",
      "   [[[ 0.00000000e+00  0.00000000e+00]\n",
      "     [ 0.00000000e+00  0.00000000e+00]\n",
      "     [ 0.00000000e+00  0.00000000e+00]]\n",
      "\n",
      "    [[ 0.00000000e+00 -7.33094066e-02]\n",
      "     [ 0.00000000e+00  8.58491808e-02]\n",
      "     [ 0.00000000e+00  9.74243507e-02]]]]]]\n"
     ]
    }
   ],
   "source": [
    "def hessian(f):\n",
    "    return jacfwd(jacrev(f))\n",
    "\n",
    "H = hessian(fun)(W)\n",
    "print(\"hessian, with shape\", H.shape)\n",
    "print(H)"
   ]
  },
  {
   "cell_type": "markdown",
   "id": "36295980",
   "metadata": {},
   "source": [
    "This shape makes sense: if we start with a function $f : \\mathbb{R}^n \\to \\mathbb{R}^m$, then at a point $x \\in \\mathbb{R}^n$ we expect to get the shapes\n",
    "\n",
    "* $f(x) \\in \\mathbb{R}^m$, the value of $f$ at $x$,\n",
    "* $\\partial f(x) \\in \\mathbb{R}^{m \\times n}$, the Jacobian matrix at $x$,\n",
    "* $\\partial^2 f(x) \\in \\mathbb{R}^{m \\times n \\times n}$, the Hessian at $x$."
   ]
  },
  {
   "cell_type": "markdown",
   "id": "c0fa0dd3",
   "metadata": {},
   "source": [
    "# JVP and VJP"
   ]
  },
  {
   "cell_type": "markdown",
   "id": "92969a86",
   "metadata": {},
   "source": [
    "Mathematically, given a function $f : \\mathbb{R}^n \\to \\mathbb{R}^m$, the Jacobian of $f$ evaluated at an input point $x \\in \\mathbb{R}^n$, denoted $\\partial f(x)$, is often thought of as a matrix in $\\mathbb{R}^m \\times \\mathbb{R}^n$:\n",
    "\n",
    "$\\qquad \\partial f(x) \\in \\mathbb{R}^{m \\times n}$.\n",
    "\n",
    "But we can also think of $\\partial f(x)$ as a linear map, which maps the tangent space of the domain of $f$ at the point $x$ (which is just another copy of $\\mathbb{R}^n$) to the tangent space of the codomain of $f$ at the point $f(x)$ (a copy of $\\mathbb{R}^m$):\n",
    "\n",
    "$\\qquad \\partial f(x) : \\mathbb{R}^n \\to \\mathbb{R}^m$.\n",
    "\n",
    "This map is called the pushforward map.The Jacobian matrix is just the matrix for this linear map in a standard basis.\n",
    "\n",
    "We call that mapping, from $(x, v)$ pairs to output tangent vectors, the *Jacobian-vector product*."
   ]
  },
  {
   "cell_type": "code",
   "execution_count": 15,
   "id": "ab7b4e38",
   "metadata": {},
   "outputs": [
    {
     "name": "stdout",
     "output_type": "stream",
     "text": [
      "Tangent vector of shape (3,2): [[-0.5727056   0.08604095]\n",
      " [-0.3807549  -0.76770204]\n",
      " [ 0.8285016   0.6423712 ]]\n"
     ]
    }
   ],
   "source": [
    "from jax import jvp\n",
    "\n",
    "f = lambda W: predict(W, b, inputs)\n",
    "\n",
    "key, subkey = random.split(key)\n",
    "v = random.normal(subkey, W.shape)\n",
    "print(f\"Tangent vector of shape (3,2): {v}\")\n",
    "\n",
    "# Push forward the vector `v` along `f` evaluated at `W`\n",
    "y, u = jvp(f, (W,), (v,))"
   ]
  },
  {
   "cell_type": "code",
   "execution_count": 16,
   "id": "7dc36cb2",
   "metadata": {},
   "outputs": [
    {
     "name": "stdout",
     "output_type": "stream",
     "text": [
      "Point in the range, batch of five: [[-0.8493234  -2.4673462 ]\n",
      " [-3.1128972   0.24232256]\n",
      " [-3.5851107  -2.900741  ]\n",
      " [-2.0746472   3.8374214 ]\n",
      " [-4.0991116  -1.197246  ]]\n",
      "Pushforward, batch of five: [[-0.08630621 -0.3204592 ]\n",
      " [ 0.03150962  1.00119   ]\n",
      " [-1.3977042  -0.8364033 ]\n",
      " [ 1.6758946   2.8681443 ]\n",
      " [-0.93317103  0.09985101]]\n"
     ]
    }
   ],
   "source": [
    "print(f\"Point in the range, batch of five: {y}\")\n",
    "print(f\"Pushforward, batch of five: {u}\")"
   ]
  },
  {
   "cell_type": "markdown",
   "id": "8ef1e364",
   "metadata": {},
   "source": [
    "Where forward-mode gives us back a function for evaluating Jacobian-vector products, reverse-mode is a way to get back a function for evaluating vector-Jacobian products."
   ]
  },
  {
   "cell_type": "code",
   "execution_count": 17,
   "id": "05a534e3",
   "metadata": {},
   "outputs": [
    {
     "name": "stdout",
     "output_type": "stream",
     "text": [
      "Output shape (5, 2)\n",
      "[[ 1.209467   -0.31576344]\n",
      " [ 1.5915456   1.2171068 ]\n",
      " [-0.06524966  0.62372786]\n",
      " [ 1.2134361  -0.27994543]\n",
      " [-0.18560699 -0.34305805]]\n"
     ]
    }
   ],
   "source": [
    "from jax import vjp\n",
    "\n",
    "y, vjp_fun = vjp(f, W)\n",
    "print(f\"Output shape {y.shape}\")\n",
    "\n",
    "key, subkey = random.split(key)\n",
    "u = random.normal(subkey, y.shape)\n",
    "print(u)"
   ]
  },
  {
   "cell_type": "code",
   "execution_count": 18,
   "id": "1d974a7d",
   "metadata": {},
   "outputs": [
    {
     "name": "stdout",
     "output_type": "stream",
     "text": [
      "Pullback vector (Array([[ 2.7524345 ,  0.7633117 ],\n",
      "       [-3.224447  , -0.62832105],\n",
      "       [ 3.1289852 , -0.9140535 ]], dtype=float32),)\n"
     ]
    }
   ],
   "source": [
    "# Pull back the covector `u` along `f` evaluated at `W`\n",
    "v = vjp_fun(u)\n",
    "print(f\"Pullback vector {v}\")"
   ]
  },
  {
   "cell_type": "markdown",
   "id": "bade3b9b",
   "metadata": {},
   "source": [
    "1. Use %timeit to compare jacfwd and jacrev for a very wide function (n >> m).\n",
    "2. Use %timeit to compare jacfwd and jacrev for a very tall function (n << m).\n",
    "3. Write a routine to differentiate a holomorphic complex valued function of a complex variable."
   ]
  }
 ],
 "metadata": {
  "kernelspec": {
   "display_name": "Python 3 (ipykernel)",
   "language": "python",
   "name": "python3"
  },
  "language_info": {
   "codemirror_mode": {
    "name": "ipython",
    "version": 3
   },
   "file_extension": ".py",
   "mimetype": "text/x-python",
   "name": "python",
   "nbconvert_exporter": "python",
   "pygments_lexer": "ipython3",
   "version": "3.10.6"
  }
 },
 "nbformat": 4,
 "nbformat_minor": 5
}
