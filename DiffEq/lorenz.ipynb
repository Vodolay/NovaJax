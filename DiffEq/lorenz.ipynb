{
 "cells": [
  {
   "cell_type": "code",
   "execution_count": null,
   "metadata": {
    "colab": {
     "base_uri": "https://localhost:8080/"
    },
    "id": "OePJ9hV0dr4v",
    "outputId": "b2d0947d-2c16-4749-950a-ff77001ab3ea"
   },
   "outputs": [],
   "source": [
    "# In case diffrax is npt instaled\n",
    "# ! pip install diffrax"
   ]
  },
  {
   "cell_type": "code",
   "execution_count": null,
   "metadata": {
    "id": "gxzNu5iIdfa6"
   },
   "outputs": [],
   "source": [
    "import time\n",
    "from diffrax import diffeqsolve, ODETerm, Kvaerno5, SaveAt, PIDController\n",
    "import equinox as eqx\n",
    "import jax\n",
    "import jax.numpy as jnp\n",
    "import matplotlib.pyplot as plt"
   ]
  },
  {
   "cell_type": "code",
   "execution_count": null,
   "metadata": {
    "id": "IFNgYcAUeInu"
   },
   "outputs": [],
   "source": [
    "jax.config.update(\"jax_enable_x64\", True)"
   ]
  },
  {
   "cell_type": "code",
   "execution_count": null,
   "metadata": {
    "id": "lf1iCAlLeT-8"
   },
   "outputs": [],
   "source": [
    "class Lorenz(eqx.Module):\n",
    "    s: float\n",
    "    b: float\n",
    "    r: float\n",
    "\n",
    "    def __call__(self, t, y, args):\n",
    "        f0 = self.s * (y[1] - y[0])\n",
    "        f1 = self.r * y[0] - y[1] - y[0] * y[2]\n",
    "        f2 = y[0] * y[1] - self.b * y[2]\n",
    "        return jnp.stack([f0, f1, f2])"
   ]
  },
  {
   "cell_type": "code",
   "execution_count": null,
   "metadata": {
    "id": "5Nku7lWrr6mx"
   },
   "outputs": [],
   "source": [
    "t0 = 0.0\n",
    "t1 = 50.0\n",
    "y0 = jnp.array([1.0, 1.0, 1.0])"
   ]
  },
  {
   "cell_type": "code",
   "execution_count": null,
   "metadata": {
    "id": "Sscl2jFmlDbt"
   },
   "outputs": [],
   "source": [
    "@jax.jit\n",
    "def main(s, b, r):\n",
    "    lorenz = Lorenz(s, b, r)\n",
    "    terms = ODETerm(lorenz)\n",
    "    dt0 = 0.0001\n",
    "    solver = Kvaerno5()\n",
    "    saveat = SaveAt(ts=jnp.linspace(t0, t1, 1000))\n",
    "    stepsize_controller = PIDController(rtol=1e-8, atol=1e-8)\n",
    "    sol = diffeqsolve(\n",
    "        terms,\n",
    "        solver,\n",
    "        t0,\n",
    "        t1,\n",
    "        dt0,\n",
    "        y0,\n",
    "        max_steps=10000,\n",
    "        saveat=saveat,\n",
    "        stepsize_controller=stepsize_controller,\n",
    "    )\n",
    "    return sol"
   ]
  },
  {
   "cell_type": "markdown",
   "metadata": {
    "id": "iYfCe9Ixmr7I"
   },
   "source": [
    "Do and time one iteration to JIT compile everything. Then time the second iteration."
   ]
  },
  {
   "cell_type": "code",
   "execution_count": null,
   "metadata": {
    "colab": {
     "base_uri": "https://localhost:8080/"
    },
    "id": "qHgVDz0VmxcG",
    "outputId": "20e4925e-b1bf-41b9-a4df-69ec942234d7"
   },
   "outputs": [],
   "source": [
    "comp_start = time.time()\n",
    "main(10.0, 8.0/3.0, 28.0)\n",
    "comp_end = time.time()\n",
    "\n",
    "start = time.time()\n",
    "sol = main(10.0, 8.0/3.0, 28.0)\n",
    "end = time.time()\n",
    "\n",
    "print(f\"Compiling and solving took {comp_end - comp_start} seconds.\")\n",
    "print(f\"Solving while compiled took {sol.stats['num_steps']} steps in {end - start} seconds.\")"
   ]
  },
  {
   "cell_type": "code",
   "execution_count": null,
   "metadata": {
    "colab": {
     "base_uri": "https://localhost:8080/",
     "height": 281
    },
    "id": "k6z1Ha-znf_N",
    "outputId": "42b7e95c-1bad-42c2-bdf7-5d79185ebc51"
   },
   "outputs": [],
   "source": [
    "figx = plt.figure()\n",
    "axi = figx.add_subplot(111, xlim=(0, t1), \n",
    "                ylim=(jnp.min(sol.ys[:, 0]), jnp.max(sol.ys[:,0])))\n",
    "plt.plot(sol.ts, sol.ys[:, 0], 'b')\n",
    "plt.title('x - component')\n",
    "plt.show()"
   ]
  },
  {
   "cell_type": "code",
   "execution_count": null,
   "metadata": {
    "colab": {
     "base_uri": "https://localhost:8080/",
     "height": 281
    },
    "id": "Xl5KkELksV7m",
    "outputId": "c4d3b728-6395-419f-f0f8-f75744d18226"
   },
   "outputs": [],
   "source": [
    "figy = plt.figure()\n",
    "axi = figy.add_subplot(111, xlim=(0, t1), \n",
    "                ylim=(jnp.min(sol.ys[:, 1]), jnp.max(sol.ys[:, 1])))\n",
    "plt.plot(sol.ts, sol.ys[:, 1], 'b')\n",
    "plt.title('y - component')\n",
    "plt.show()"
   ]
  },
  {
   "cell_type": "code",
   "execution_count": null,
   "metadata": {
    "colab": {
     "base_uri": "https://localhost:8080/",
     "height": 281
    },
    "id": "ftlauwYTxJu2",
    "outputId": "2dd123b4-199b-4b8e-df36-b956e773f30e"
   },
   "outputs": [],
   "source": [
    "figz = plt.figure()\n",
    "axi = figz.add_subplot(111, xlim=(0, t1), \n",
    "                ylim=(jnp.min(sol.ys[:, 2]), jnp.max(sol.ys[:,2])))\n",
    "plt.plot(sol.ts, sol.ys[:, 2], 'b')\n",
    "plt.title('z - component')\n",
    "plt.show()"
   ]
  },
  {
   "cell_type": "code",
   "execution_count": null,
   "metadata": {
    "colab": {
     "base_uri": "https://localhost:8080/",
     "height": 281
    },
    "id": "acbgEbYvxeKL",
    "outputId": "5d4c8ad5-7ca0-4e30-88f9-1d9243a787c6"
   },
   "outputs": [],
   "source": [
    "figxz = plt.figure()\n",
    "axi = figxz.add_subplot(111,\n",
    "                xlim=(jnp.min(sol.ys[:, 0]), jnp.max(sol.ys[:,0])),\n",
    "                ylim=(jnp.min(sol.ys[:, 2]), jnp.max(sol.ys[:,2])))\n",
    "plt.plot(sol.ys[:, 0], sol.ys[:, 2], 'b')\n",
    "plt.title('x-z components')\n",
    "plt.show()"
   ]
  },
  {
   "cell_type": "code",
   "execution_count": null,
   "metadata": {
    "id": "csT9NVUdx2sa"
   },
   "outputs": [],
   "source": []
  }
 ],
 "metadata": {
  "accelerator": "GPU",
  "colab": {
   "provenance": []
  },
  "gpuClass": "standard",
  "kernelspec": {
   "display_name": "Python 3 (ipykernel)",
   "language": "python",
   "name": "python3"
  },
  "language_info": {
   "codemirror_mode": {
    "name": "ipython",
    "version": 3
   },
   "file_extension": ".py",
   "mimetype": "text/x-python",
   "name": "python",
   "nbconvert_exporter": "python",
   "pygments_lexer": "ipython3",
   "version": "3.10.6"
  }
 },
 "nbformat": 4,
 "nbformat_minor": 1
}
