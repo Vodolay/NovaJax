{
 "cells": [
  {
   "cell_type": "code",
   "execution_count": 1,
   "id": "ead5b7f2",
   "metadata": {},
   "outputs": [],
   "source": [
    "import jax\n",
    "from jax import random\n",
    "import jax.numpy as jnp\n",
    "from flax import linen as nn\n",
    "from flax.training import train_state\n",
    "import optax\n",
    "\n",
    "import numpy as np\n",
    "import tensorflow as tf\n",
    "import tensorflow_datasets as tfds"
   ]
  },
  {
   "cell_type": "code",
   "execution_count": 2,
   "id": "3c66768e",
   "metadata": {},
   "outputs": [],
   "source": [
    "# Make sure tf does not allocate gpu memory.\n",
    "tf.config.experimental.set_visible_devices([], 'GPU')"
   ]
  },
  {
   "cell_type": "code",
   "execution_count": 3,
   "id": "766ffc33",
   "metadata": {},
   "outputs": [],
   "source": [
    "class Encoder(nn.Module):\n",
    "  latents: int\n",
    "\n",
    "  @nn.compact\n",
    "  def __call__(self, x):\n",
    "    x = nn.Dense(500, name='fc1')(x)\n",
    "    x = nn.gelu(x)\n",
    "    x = nn.Dense(200, name='fc2')(x)\n",
    "    x = nn.gelu(x)\n",
    "    mean_x = nn.Dense(self.latents, name='fc2_mean')(x) #Mean of the Gaussian representing x\n",
    "    logvar_x = nn.Dense(self.latents, name='fc2_logvar')(x) #Variances of the diagonal Gaussian representing x\n",
    "    return mean_x, logvar_x"
   ]
  },
  {
   "cell_type": "code",
   "execution_count": 4,
   "id": "7ac5ce00",
   "metadata": {},
   "outputs": [],
   "source": [
    "class Decoder(nn.Module):\n",
    "\n",
    "  @nn.compact\n",
    "  def __call__(self, z):\n",
    "    z = nn.Dense(200, name='fc3')(z)\n",
    "    z = nn.gelu(z)\n",
    "    z = nn.Dense(500, name='fc4')(z)\n",
    "    z = nn.gelu(z)\n",
    "    z = nn.Dense(784, name='fc5')(z)\n",
    "    return z"
   ]
  },
  {
   "cell_type": "code",
   "execution_count": 5,
   "id": "189704c6",
   "metadata": {},
   "outputs": [],
   "source": [
    "class VAE(nn.Module):\n",
    "  latents: int = 32\n",
    "\n",
    "  def setup(self):\n",
    "    self.encoder = Encoder(self.latents)\n",
    "    self.decoder = Decoder()\n",
    "\n",
    "  def __call__(self, x, z_rng):\n",
    "    mean, logvar = self.encoder(x)\n",
    "    z = reparameterize(z_rng, mean, logvar)\n",
    "    recon_x = self.decoder(z) # z is drawn from p(z|x)\n",
    "    return recon_x, mean, logvar\n",
    "\n",
    "  def generate(self, z):\n",
    "    return nn.sigmoid(self.decoder(z)) # z is drawn from p(z)"
   ]
  },
  {
   "cell_type": "code",
   "execution_count": 6,
   "id": "fcaf6929",
   "metadata": {},
   "outputs": [],
   "source": [
    "def reparameterize(rng, mean, logvar):\n",
    "  std = jnp.exp(0.5 * logvar)\n",
    "  eps = random.normal(rng, logvar.shape)\n",
    "  return mean + eps * std"
   ]
  },
  {
   "cell_type": "code",
   "execution_count": 7,
   "id": "4dcd05f1",
   "metadata": {},
   "outputs": [],
   "source": [
    "@jax.vmap\n",
    "def kl_divergence(mean, logvar):\n",
    "  return -0.5 * jnp.sum(1 + logvar - jnp.square(mean) - jnp.exp(logvar))"
   ]
  },
  {
   "cell_type": "code",
   "execution_count": 8,
   "id": "9a9ad1b5",
   "metadata": {},
   "outputs": [],
   "source": [
    "@jax.vmap\n",
    "def binary_cross_entropy_with_logits(logits, labels):\n",
    "  logits = nn.log_sigmoid(logits) #Converting sigmoid logits to probability logits\n",
    "  return -jnp.sum(labels * logits + (1. - labels) * jnp.log(-jnp.expm1(logits)))"
   ]
  },
  {
   "cell_type": "code",
   "execution_count": 9,
   "id": "3fd065ea",
   "metadata": {},
   "outputs": [],
   "source": [
    "def compute_metrics(recon_x, x, mean, logvar):\n",
    "  bce_loss = binary_cross_entropy_with_logits(recon_x, x).mean() #The images are binarized\n",
    "  kld_loss = kl_divergence(mean, logvar).mean()\n",
    "  return {\n",
    "      'bce': bce_loss,\n",
    "      'kld': kld_loss,\n",
    "      'loss': bce_loss + kld_loss\n",
    "  }"
   ]
  },
  {
   "cell_type": "code",
   "execution_count": 10,
   "id": "929ea017",
   "metadata": {},
   "outputs": [],
   "source": [
    "# The dimension of latent space\n",
    "latents = 32"
   ]
  },
  {
   "cell_type": "code",
   "execution_count": 11,
   "id": "9c35ceb5",
   "metadata": {},
   "outputs": [],
   "source": [
    "def model():\n",
    "  return VAE(latents)"
   ]
  },
  {
   "cell_type": "code",
   "execution_count": 12,
   "id": "8fcb217c",
   "metadata": {},
   "outputs": [],
   "source": [
    "@jax.jit\n",
    "def train_step(state, batch, z_rng):\n",
    "  def loss_fn(params):\n",
    "    recon_x, mean, logvar = model().apply({'params': params}, batch, z_rng)\n",
    "\n",
    "    bce_loss = binary_cross_entropy_with_logits(recon_x, batch).mean()\n",
    "    kld_loss = kl_divergence(mean, logvar).mean()\n",
    "    loss = bce_loss + kld_loss\n",
    "    return loss\n",
    "  grads = jax.grad(loss_fn)(state.params)\n",
    "  return state.apply_gradients(grads=grads)"
   ]
  },
  {
   "cell_type": "code",
   "execution_count": 13,
   "id": "00f7374c",
   "metadata": {},
   "outputs": [],
   "source": [
    "@jax.jit\n",
    "def eval(params, images, z, z_rng):\n",
    "  def eval_model(vae):\n",
    "    recon_images, mean, logvar = vae(images, z_rng)\n",
    "    comparison = jnp.concatenate([images[:8].reshape(-1, 28, 28, 1),\n",
    "                                  recon_images[:8].reshape(-1, 28, 28, 1)])\n",
    "\n",
    "    generate_images = vae.generate(z)\n",
    "    generate_images = generate_images.reshape(-1, 28, 28, 1)\n",
    "    metrics = compute_metrics(recon_images, images, mean, logvar)\n",
    "    return metrics, comparison, generate_images\n",
    "\n",
    "  return nn.apply(eval_model, model())({'params': params})"
   ]
  },
  {
   "cell_type": "code",
   "execution_count": 14,
   "id": "9349ffc3",
   "metadata": {},
   "outputs": [],
   "source": [
    "def prepare_image(x):\n",
    "  x = tf.cast(x['image'], tf.float32)\n",
    "  x = tf.reshape(x, (-1,))\n",
    "  return x"
   ]
  },
  {
   "cell_type": "code",
   "execution_count": 15,
   "id": "26c06d80",
   "metadata": {},
   "outputs": [],
   "source": [
    "rng = random.PRNGKey(42)\n",
    "rng, key = random.split(rng)\n",
    "\n",
    "batch_size = 128"
   ]
  },
  {
   "cell_type": "code",
   "execution_count": 16,
   "id": "abac52bc",
   "metadata": {},
   "outputs": [],
   "source": [
    "ds_builder = tfds.builder('binarized_mnist')\n",
    "ds_builder.download_and_prepare()\n",
    "train_ds = ds_builder.as_dataset(split=tfds.Split.TRAIN)\n",
    "train_ds = train_ds.map(prepare_image)\n",
    "train_ds = train_ds.cache()\n",
    "train_ds = train_ds.repeat()\n",
    "train_ds = train_ds.shuffle(50000)\n",
    "train_ds = train_ds.batch(batch_size)\n",
    "train_ds = iter(tfds.as_numpy(train_ds))"
   ]
  },
  {
   "cell_type": "code",
   "execution_count": 17,
   "id": "2b136158",
   "metadata": {},
   "outputs": [],
   "source": [
    "test_ds = ds_builder.as_dataset(split=tfds.Split.TEST)\n",
    "test_ds = test_ds.map(prepare_image).batch(10000)\n",
    "test_ds = np.array(list(test_ds)[0])\n",
    "test_ds = jax.device_put(test_ds)"
   ]
  },
  {
   "cell_type": "code",
   "execution_count": 18,
   "id": "26fa53ee",
   "metadata": {},
   "outputs": [],
   "source": [
    "init_data = jnp.ones((batch_size, 784), jnp.float32)\n",
    "\n",
    "learning_rate = 0.001"
   ]
  },
  {
   "cell_type": "code",
   "execution_count": 19,
   "id": "1ad061ac",
   "metadata": {},
   "outputs": [],
   "source": [
    "state = train_state.TrainState.create(\n",
    "      apply_fn=model().apply,\n",
    "      params=model().init(key, init_data, rng)['params'],\n",
    "      tx=optax.adam(learning_rate),\n",
    "  )"
   ]
  },
  {
   "cell_type": "code",
   "execution_count": 20,
   "id": "982d2d31",
   "metadata": {},
   "outputs": [],
   "source": [
    "rng, z_key, eval_rng = random.split(rng, 3)\n",
    "z = random.normal(z_key, (64, latents))"
   ]
  },
  {
   "cell_type": "code",
   "execution_count": 21,
   "id": "346db8ea",
   "metadata": {},
   "outputs": [],
   "source": [
    "steps_per_epoch = 50000 // batch_size\n",
    "\n",
    "num_epochs = 100"
   ]
  },
  {
   "cell_type": "code",
   "execution_count": 22,
   "id": "ef602bb4",
   "metadata": {
    "scrolled": true
   },
   "outputs": [
    {
     "name": "stdout",
     "output_type": "stream",
     "text": [
      "eval epoch: 1, loss: 128.0564, BCE: 106.7700, KLD: 21.2864\n",
      "eval epoch: 2, loss: 114.0087, BCE: 90.4850, KLD: 23.5237\n",
      "eval epoch: 3, loss: 108.7231, BCE: 84.1354, KLD: 24.5876\n",
      "eval epoch: 4, loss: 105.4193, BCE: 80.5660, KLD: 24.8533\n",
      "eval epoch: 5, loss: 103.8572, BCE: 79.0098, KLD: 24.8474\n",
      "eval epoch: 6, loss: 102.7211, BCE: 77.0946, KLD: 25.6265\n",
      "eval epoch: 7, loss: 101.5894, BCE: 76.1570, KLD: 25.4324\n",
      "eval epoch: 8, loss: 101.1022, BCE: 75.1891, KLD: 25.9132\n",
      "eval epoch: 9, loss: 100.3899, BCE: 74.6876, KLD: 25.7024\n",
      "eval epoch: 10, loss: 99.9691, BCE: 74.2243, KLD: 25.7449\n",
      "eval epoch: 11, loss: 99.7707, BCE: 74.1745, KLD: 25.5962\n",
      "eval epoch: 12, loss: 99.3238, BCE: 73.1925, KLD: 26.1313\n",
      "eval epoch: 13, loss: 99.1763, BCE: 73.5288, KLD: 25.6475\n",
      "eval epoch: 14, loss: 98.7965, BCE: 72.9635, KLD: 25.8330\n",
      "eval epoch: 15, loss: 98.6513, BCE: 72.7428, KLD: 25.9085\n",
      "eval epoch: 16, loss: 98.4433, BCE: 72.5841, KLD: 25.8592\n",
      "eval epoch: 17, loss: 98.2710, BCE: 72.4079, KLD: 25.8631\n",
      "eval epoch: 18, loss: 98.2907, BCE: 71.8462, KLD: 26.4446\n",
      "eval epoch: 19, loss: 97.8506, BCE: 71.5417, KLD: 26.3089\n",
      "eval epoch: 20, loss: 97.7540, BCE: 71.5528, KLD: 26.2012\n",
      "eval epoch: 21, loss: 97.8406, BCE: 71.5259, KLD: 26.3147\n",
      "eval epoch: 22, loss: 97.6157, BCE: 71.3167, KLD: 26.2990\n",
      "eval epoch: 23, loss: 97.4323, BCE: 71.0637, KLD: 26.3685\n",
      "eval epoch: 24, loss: 97.4850, BCE: 71.0278, KLD: 26.4572\n",
      "eval epoch: 25, loss: 97.5403, BCE: 71.2684, KLD: 26.2718\n",
      "eval epoch: 26, loss: 97.6498, BCE: 71.1790, KLD: 26.4708\n",
      "eval epoch: 27, loss: 97.3970, BCE: 70.8406, KLD: 26.5564\n",
      "eval epoch: 28, loss: 97.1277, BCE: 70.6995, KLD: 26.4282\n",
      "eval epoch: 29, loss: 97.2331, BCE: 70.9738, KLD: 26.2593\n",
      "eval epoch: 30, loss: 96.9457, BCE: 70.4170, KLD: 26.5287\n",
      "eval epoch: 31, loss: 97.0981, BCE: 71.1149, KLD: 25.9831\n",
      "eval epoch: 32, loss: 96.9652, BCE: 70.7803, KLD: 26.1849\n",
      "eval epoch: 33, loss: 96.8192, BCE: 70.4233, KLD: 26.3958\n",
      "eval epoch: 34, loss: 97.1663, BCE: 70.9572, KLD: 26.2091\n",
      "eval epoch: 35, loss: 96.9944, BCE: 70.1993, KLD: 26.7952\n",
      "eval epoch: 36, loss: 96.7401, BCE: 70.7486, KLD: 25.9916\n",
      "eval epoch: 37, loss: 97.0651, BCE: 70.5759, KLD: 26.4893\n",
      "eval epoch: 38, loss: 96.6954, BCE: 70.3753, KLD: 26.3201\n",
      "eval epoch: 39, loss: 96.6801, BCE: 69.8353, KLD: 26.8448\n",
      "eval epoch: 40, loss: 96.7085, BCE: 70.5529, KLD: 26.1556\n",
      "eval epoch: 41, loss: 96.6478, BCE: 69.5615, KLD: 27.0863\n",
      "eval epoch: 42, loss: 96.8718, BCE: 70.6609, KLD: 26.2109\n",
      "eval epoch: 43, loss: 96.8265, BCE: 70.5987, KLD: 26.2278\n",
      "eval epoch: 44, loss: 96.4848, BCE: 70.2580, KLD: 26.2268\n",
      "eval epoch: 45, loss: 96.7026, BCE: 70.4447, KLD: 26.2579\n",
      "eval epoch: 46, loss: 96.6061, BCE: 70.2204, KLD: 26.3857\n",
      "eval epoch: 47, loss: 96.5674, BCE: 69.8721, KLD: 26.6953\n",
      "eval epoch: 48, loss: 96.5109, BCE: 69.8737, KLD: 26.6372\n",
      "eval epoch: 49, loss: 96.5809, BCE: 69.9136, KLD: 26.6673\n",
      "eval epoch: 50, loss: 96.5431, BCE: 70.6721, KLD: 25.8710\n",
      "eval epoch: 51, loss: 96.5770, BCE: 70.3872, KLD: 26.1899\n",
      "eval epoch: 52, loss: 96.6078, BCE: 70.2040, KLD: 26.4038\n",
      "eval epoch: 53, loss: 96.4540, BCE: 70.0839, KLD: 26.3701\n",
      "eval epoch: 54, loss: 96.6068, BCE: 69.8449, KLD: 26.7620\n",
      "eval epoch: 55, loss: 96.5145, BCE: 69.7636, KLD: 26.7509\n",
      "eval epoch: 56, loss: 96.5172, BCE: 70.2781, KLD: 26.2391\n",
      "eval epoch: 57, loss: 96.2106, BCE: 69.9910, KLD: 26.2197\n",
      "eval epoch: 58, loss: 96.4946, BCE: 69.7712, KLD: 26.7234\n",
      "eval epoch: 59, loss: 96.3804, BCE: 69.9403, KLD: 26.4401\n",
      "eval epoch: 60, loss: 96.4207, BCE: 69.9501, KLD: 26.4706\n",
      "eval epoch: 61, loss: 96.3922, BCE: 69.9486, KLD: 26.4436\n",
      "eval epoch: 62, loss: 96.5527, BCE: 70.5267, KLD: 26.0260\n",
      "eval epoch: 63, loss: 96.3225, BCE: 69.7158, KLD: 26.6067\n",
      "eval epoch: 64, loss: 96.3629, BCE: 69.6620, KLD: 26.7009\n",
      "eval epoch: 65, loss: 96.5504, BCE: 70.0649, KLD: 26.4855\n",
      "eval epoch: 66, loss: 96.3891, BCE: 70.0715, KLD: 26.3176\n",
      "eval epoch: 67, loss: 96.4718, BCE: 69.9225, KLD: 26.5492\n",
      "eval epoch: 68, loss: 96.6032, BCE: 70.3413, KLD: 26.2619\n",
      "eval epoch: 69, loss: 96.6533, BCE: 70.5511, KLD: 26.1022\n",
      "eval epoch: 70, loss: 96.6048, BCE: 69.8780, KLD: 26.7268\n",
      "eval epoch: 71, loss: 96.4322, BCE: 70.0304, KLD: 26.4018\n",
      "eval epoch: 72, loss: 96.2239, BCE: 69.7318, KLD: 26.4921\n",
      "eval epoch: 73, loss: 96.4184, BCE: 69.6803, KLD: 26.7381\n",
      "eval epoch: 74, loss: 96.5864, BCE: 70.4791, KLD: 26.1073\n",
      "eval epoch: 75, loss: 96.4362, BCE: 70.0244, KLD: 26.4118\n",
      "eval epoch: 76, loss: 96.3710, BCE: 70.1289, KLD: 26.2420\n",
      "eval epoch: 77, loss: 96.4263, BCE: 69.8078, KLD: 26.6185\n",
      "eval epoch: 78, loss: 96.5044, BCE: 69.8291, KLD: 26.6753\n",
      "eval epoch: 79, loss: 96.3863, BCE: 70.0893, KLD: 26.2971\n",
      "eval epoch: 80, loss: 96.4908, BCE: 69.9383, KLD: 26.5526\n",
      "eval epoch: 81, loss: 96.6642, BCE: 70.1651, KLD: 26.4991\n",
      "eval epoch: 82, loss: 96.5235, BCE: 69.7167, KLD: 26.8067\n",
      "eval epoch: 83, loss: 96.3077, BCE: 69.9482, KLD: 26.3595\n",
      "eval epoch: 84, loss: 96.4230, BCE: 69.7516, KLD: 26.6714\n",
      "eval epoch: 85, loss: 96.4112, BCE: 70.0069, KLD: 26.4044\n",
      "eval epoch: 86, loss: 96.7224, BCE: 70.2186, KLD: 26.5038\n",
      "eval epoch: 87, loss: 96.5809, BCE: 70.1756, KLD: 26.4054\n",
      "eval epoch: 88, loss: 96.3913, BCE: 69.9983, KLD: 26.3929\n",
      "eval epoch: 89, loss: 96.5278, BCE: 70.0701, KLD: 26.4577\n",
      "eval epoch: 90, loss: 96.8067, BCE: 70.5682, KLD: 26.2385\n",
      "eval epoch: 91, loss: 96.3836, BCE: 69.6852, KLD: 26.6985\n",
      "eval epoch: 92, loss: 96.4850, BCE: 70.0408, KLD: 26.4442\n",
      "eval epoch: 93, loss: 96.4964, BCE: 69.7106, KLD: 26.7858\n",
      "eval epoch: 94, loss: 96.5574, BCE: 70.1768, KLD: 26.3806\n",
      "eval epoch: 95, loss: 96.6669, BCE: 70.1224, KLD: 26.5445\n",
      "eval epoch: 96, loss: 96.3002, BCE: 69.9639, KLD: 26.3364\n",
      "eval epoch: 97, loss: 96.4754, BCE: 69.9687, KLD: 26.5067\n",
      "eval epoch: 98, loss: 96.6518, BCE: 70.2676, KLD: 26.3842\n",
      "eval epoch: 99, loss: 96.6622, BCE: 69.9160, KLD: 26.7462\n",
      "eval epoch: 100, loss: 96.3865, BCE: 69.6894, KLD: 26.6971\n"
     ]
    }
   ],
   "source": [
    "for epoch in range(num_epochs):\n",
    "    for _ in range(steps_per_epoch):\n",
    "      batch = next(train_ds)\n",
    "      rng, key = random.split(rng)\n",
    "      state = train_step(state, batch, key)\n",
    "\n",
    "    metrics, comparison, sample = eval(state.params, test_ds, z, eval_rng)\n",
    "    \n",
    "    print('eval epoch: {}, loss: {:.4f}, BCE: {:.4f}, KLD: {:.4f}'.format(\n",
    "        epoch + 1, metrics['loss'], metrics['bce'], metrics['kld']))"
   ]
  },
  {
   "cell_type": "code",
   "execution_count": 23,
   "id": "2588ffd2",
   "metadata": {},
   "outputs": [],
   "source": [
    "# Let's visualise the reconstruction from the last epoch\n",
    "import math\n",
    "from PIL import Image"
   ]
  },
  {
   "cell_type": "code",
   "execution_count": 24,
   "id": "82a7f273",
   "metadata": {},
   "outputs": [],
   "source": [
    "def display_image(ndarray, fp, nrow=8, padding=2, pad_value=0.0, format=None):\n",
    "    \"\"\"Make a grid of images.\n",
    "  Args:\n",
    "    ndarray (array_like): 4D mini-batch images of shape (B x H x W x C)\n",
    "    fp - A filename(string) or file object\n",
    "    nrow (int, optional): Number of images displayed in each row of the grid.\n",
    "      The final grid size is ``(B / nrow, nrow)``. Default: ``8``.\n",
    "    padding (int, optional): amount of padding. Default: ``2``.\n",
    "    scale_each (bool, optional): If ``True``, scale each image in the batch of\n",
    "      images separately rather than the (min, max) over all images. Default: ``False``.\n",
    "    pad_value (float, optional): Value for the padded pixels. Default: ``0``.\n",
    "    format(Optional):  If omitted, the format to use is determined from the filename extension.\n",
    "      If a file object was used instead of a filename, this parameter should always be used.\n",
    "  \"\"\"\n",
    "    if not (isinstance(ndarray, jnp.ndarray) or\n",
    "        (isinstance(ndarray, list) and all(isinstance(t, jnp.ndarray) for t in ndarray))):\n",
    "        raise TypeError(f'array_like of tensors expected, got {type(ndarray)}')\n",
    "\n",
    "    ndarray = jnp.asarray(ndarray)\n",
    "\n",
    "    if ndarray.ndim == 4 and ndarray.shape[-1] == 1:  # single-channel images\n",
    "        ndarray = jnp.concatenate((ndarray, ndarray, ndarray), -1)\n",
    "\n",
    "    # make the mini-batch of images into a grid\n",
    "    nmaps = ndarray.shape[0]\n",
    "    xmaps = min(nrow, nmaps)\n",
    "    ymaps = int(math.ceil(float(nmaps) / xmaps))\n",
    "    height, width = int(ndarray.shape[1] + padding), int(ndarray.shape[2] + padding)\n",
    "    num_channels = ndarray.shape[3]\n",
    "    grid = jnp.full((height * ymaps + padding, width * xmaps + padding, num_channels), pad_value).astype(jnp.float32)\n",
    "    k = 0\n",
    "    for y in range(ymaps):\n",
    "      for x in range(xmaps):\n",
    "        if k >= nmaps:\n",
    "          break\n",
    "        grid = grid.at[y * height + padding:(y + 1) * height,\n",
    "                       x * width + padding:(x + 1) * width].set(ndarray[k])\n",
    "        k = k + 1\n",
    "\n",
    "    # Add 0.5 after unnormalizing to [0, 255] to round to nearest integer\n",
    "    ndarr = np.array(jnp.clip(grid * 255.0 + 0.5, 0, 255).astype(jnp.uint8))\n",
    "    im = Image.fromarray(ndarr.copy())\n",
    "    display(im)\n"
   ]
  },
  {
   "cell_type": "code",
   "execution_count": 25,
   "id": "f0e10072",
   "metadata": {
    "scrolled": true
   },
   "outputs": [
    {
     "data": {
      "image/png": "[encoded data removed]",
      "text/plain": [
       "<PIL.Image.Image image mode=RGB size=242x62 at 0x7F30E8173610>"
      ]
     },
     "metadata": {},
     "output_type": "display_data"
    }
   ],
   "source": [
    "display_image(comparison, f'results/reconstruction_{epoch}.png', nrow=8)"
   ]
  },
  {
   "cell_type": "code",
   "execution_count": 26,
   "id": "73b01427",
   "metadata": {},
   "outputs": [
    {
     "data": {
      "image/png": "[encoded data removed]",
      "text/plain": [
       "<PIL.Image.Image image mode=RGB size=242x242 at 0x7F30FC189D20>"
      ]
     },
     "metadata": {},
     "output_type": "display_data"
    }
   ],
   "source": [
    "display_image(sample, f'results/sample_{epoch}.png', nrow=8)"
   ]
  },
  {
   "cell_type": "code",
   "execution_count": null,
   "id": "7f6a6919",
   "metadata": {},
   "outputs": [],
   "source": []
  }
 ],
 "metadata": {
  "kernelspec": {
   "display_name": "Python 3 (ipykernel)",
   "language": "python",
   "name": "python3"
  },
  "language_info": {
   "codemirror_mode": {
    "name": "ipython",
    "version": 3
   },
   "file_extension": ".py",
   "mimetype": "text/x-python",
   "name": "python",
   "nbconvert_exporter": "python",
   "pygments_lexer": "ipython3",
   "version": "3.10.6"
  }
 },
 "nbformat": 4,
 "nbformat_minor": 5
}
