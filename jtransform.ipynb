{
 "cells": [
  {
   "cell_type": "code",
   "execution_count": 1,
   "id": "7830058b",
   "metadata": {},
   "outputs": [],
   "source": [
    "import jax\n",
    "import jax.numpy as jnp\n",
    "import jax.lax as lax"
   ]
  },
  {
   "cell_type": "markdown",
   "id": "f20f5f6e",
   "metadata": {},
   "source": [
    "JAX allows us to transform Python functions. A Python function is first converted to an intermediate language called *jaxpr*. The transformations then work on the *jaxpr* expressions."
   ]
  },
  {
   "cell_type": "code",
   "execution_count": 2,
   "id": "11ea4870",
   "metadata": {},
   "outputs": [],
   "source": [
    "def squarelog(x):\n",
    "  print(f\"printed x: {x}\")\n",
    "  y = jnp.log(x)\n",
    "  z = y**2\n",
    "  return z"
   ]
  },
  {
   "cell_type": "code",
   "execution_count": 3,
   "id": "17dd9544",
   "metadata": {},
   "outputs": [
    {
     "name": "stdout",
     "output_type": "stream",
     "text": [
      "printed x: Traced<ShapedArray(float32[], weak_type=True)>with<DynamicJaxprTrace(level=1/0)>\n"
     ]
    }
   ],
   "source": [
    "sqx = jax.make_jaxpr(squarelog)(1.7)"
   ]
  },
  {
   "cell_type": "code",
   "execution_count": 4,
   "id": "0d52d96e",
   "metadata": {},
   "outputs": [
    {
     "name": "stdout",
     "output_type": "stream",
     "text": [
      "{ \u001b[34m\u001b[22m\u001b[1mlambda \u001b[39m\u001b[22m\u001b[22m; a\u001b[35m:f32[]\u001b[39m. \u001b[34m\u001b[22m\u001b[1mlet\u001b[39m\u001b[22m\u001b[22m b\u001b[35m:f32[]\u001b[39m = log a; c\u001b[35m:f32[]\u001b[39m = integer_pow[y=2] b \u001b[34m\u001b[22m\u001b[1min \u001b[39m\u001b[22m\u001b[22m(c,) }\n"
     ]
    }
   ],
   "source": [
    "print(sqx)"
   ]
  },
  {
   "cell_type": "markdown",
   "id": "99deccc9",
   "metadata": {},
   "source": [
    "JAX generates *jaxpr* by 'tracing': each argument is replaced by a tracer object. Each tracer object records all operations performed on it during the function call. Tracers have no way of recording side-effects. Above the *print()* call is only executed during tracing, and will not appear in the *jaxpr* expression."
   ]
  },
  {
   "cell_type": "markdown",
   "id": "14d8c48a",
   "metadata": {},
   "source": [
    "*jaxpr* only captures the function as executed on the parameters given to it. For a conditional *jaxpr* will only know the branch which is taken (if the condition can be evaluated at all)."
   ]
  },
  {
   "cell_type": "code",
   "execution_count": 5,
   "id": "e0ec0f3c",
   "metadata": {},
   "outputs": [],
   "source": [
    "def condlog(x):\n",
    "    if x.ndim == 1:\n",
    "        y = jnp.log(x)\n",
    "        z = y**2\n",
    "        return z\n",
    "    elif x.ndim == 2:\n",
    "        return x + 1000\n",
    "    else:\n",
    "        print(\"No can do\")"
   ]
  },
  {
   "cell_type": "code",
   "execution_count": 6,
   "id": "517b661e",
   "metadata": {},
   "outputs": [],
   "source": [
    "dim1 = jax.make_jaxpr(condlog)(jnp.array([1.43, 1.72, 2.28]))"
   ]
  },
  {
   "cell_type": "code",
   "execution_count": 7,
   "id": "ab646f34",
   "metadata": {},
   "outputs": [
    {
     "name": "stdout",
     "output_type": "stream",
     "text": [
      "{ \u001b[34m\u001b[22m\u001b[1mlambda \u001b[39m\u001b[22m\u001b[22m; a\u001b[35m:f32[3]\u001b[39m. \u001b[34m\u001b[22m\u001b[1mlet\n",
      "    \u001b[39m\u001b[22m\u001b[22mb\u001b[35m:f32[3]\u001b[39m = log a\n",
      "    c\u001b[35m:f32[3]\u001b[39m = integer_pow[y=2] b\n",
      "  \u001b[34m\u001b[22m\u001b[1min \u001b[39m\u001b[22m\u001b[22m(c,) }\n"
     ]
    }
   ],
   "source": [
    "print(dim1)"
   ]
  },
  {
   "cell_type": "code",
   "execution_count": 8,
   "id": "14aae6d3",
   "metadata": {},
   "outputs": [],
   "source": [
    "dim2 = jax.make_jaxpr(condlog)(jnp.array([[1.43, 1.72], [3.15, 2.28]]))"
   ]
  },
  {
   "cell_type": "code",
   "execution_count": 9,
   "id": "4187fcf5",
   "metadata": {},
   "outputs": [
    {
     "name": "stdout",
     "output_type": "stream",
     "text": [
      "{ \u001b[34m\u001b[22m\u001b[1mlambda \u001b[39m\u001b[22m\u001b[22m; a\u001b[35m:f32[2,2]\u001b[39m. \u001b[34m\u001b[22m\u001b[1mlet\u001b[39m\u001b[22m\u001b[22m b\u001b[35m:f32[2,2]\u001b[39m = add a 1000.0 \u001b[34m\u001b[22m\u001b[1min \u001b[39m\u001b[22m\u001b[22m(b,) }\n"
     ]
    }
   ],
   "source": [
    "print(dim2)"
   ]
  },
  {
   "cell_type": "code",
   "execution_count": 10,
   "id": "e75fa545",
   "metadata": {},
   "outputs": [
    {
     "name": "stdout",
     "output_type": "stream",
     "text": [
      "No can do\n"
     ]
    }
   ],
   "source": [
    "dim0 = jax.make_jaxpr(condlog)(2.7)"
   ]
  },
  {
   "cell_type": "code",
   "execution_count": 11,
   "id": "81c71dbf",
   "metadata": {},
   "outputs": [
    {
     "name": "stdout",
     "output_type": "stream",
     "text": [
      "{ \u001b[34m\u001b[22m\u001b[1mlambda \u001b[39m\u001b[22m\u001b[22m; a\u001b[35m:f32[]\u001b[39m. \u001b[34m\u001b[22m\u001b[1mlet\u001b[39m\u001b[22m\u001b[22m  \u001b[34m\u001b[22m\u001b[1min \u001b[39m\u001b[22m\u001b[22m() }\n"
     ]
    }
   ],
   "source": [
    "print(dim0)"
   ]
  },
  {
   "cell_type": "markdown",
   "id": "d2f99a3d",
   "metadata": {},
   "source": [
    "## JIT-ing a function"
   ]
  },
  {
   "cell_type": "markdown",
   "id": "8d5252d8",
   "metadata": {},
   "source": [
    "Since Python is an interpreted language the code for *SELU* below will be sending one operation at a time to the accelerator. This 'limits' the ability of the XLA comiler to otimize the execution."
   ]
  },
  {
   "cell_type": "code",
   "execution_count": 12,
   "id": "a5af622a",
   "metadata": {},
   "outputs": [
    {
     "name": "stdout",
     "output_type": "stream",
     "text": [
      "318 µs ± 86.9 µs per loop (mean ± std. dev. of 7 runs, 1 loop each)\n"
     ]
    }
   ],
   "source": [
    "def selu(x, alpha=1.67, lambda_=1.05):\n",
    "  return lambda_ * jnp.where(x > 0, x, alpha * jnp.exp(x) - alpha)\n",
    "\n",
    "x = jnp.arange(1000000)\n",
    "%timeit selu(x).block_until_ready()"
   ]
  },
  {
   "cell_type": "markdown",
   "id": "74ac2c0c",
   "metadata": {},
   "source": [
    "Let's allow the XLA compiler to analyse and optimize the code. The first call of *selu_jit* is to do the tracing and translation to XLA HLO. The code is subsequently subjected to target (backend) independent and target-dependent optimizations."
   ]
  },
  {
   "cell_type": "code",
   "execution_count": 13,
   "id": "fab6e3b2",
   "metadata": {},
   "outputs": [
    {
     "name": "stdout",
     "output_type": "stream",
     "text": [
      "60.3 µs ± 457 ns per loop (mean ± std. dev. of 7 runs, 10,000 loops each)\n"
     ]
    }
   ],
   "source": [
    "selu_jit = jax.jit(selu)\n",
    "\n",
    "# Warm up\n",
    "selu_jit(x).block_until_ready()\n",
    "\n",
    "%timeit selu_jit(x).block_until_ready()"
   ]
  },
  {
   "cell_type": "markdown",
   "id": "65372f8c",
   "metadata": {},
   "source": [
    "Subsequent calls to *selu_jit* will use the optimized compiled code, skipping the Python implementation entirely."
   ]
  },
  {
   "cell_type": "markdown",
   "id": "6c3af7f5",
   "metadata": {},
   "source": [
    "### So why can't we *jit* everything?"
   ]
  },
  {
   "cell_type": "code",
   "execution_count": 14,
   "id": "2c95168e",
   "metadata": {},
   "outputs": [],
   "source": [
    "def absval(x):\n",
    "    print(type(x))\n",
    "    if x >= 0:\n",
    "        return x\n",
    "    else:\n",
    "        return -x\n",
    "\n",
    "absval_jit = jax.jit(absval)"
   ]
  },
  {
   "cell_type": "code",
   "execution_count": 15,
   "id": "d17d79e0",
   "metadata": {},
   "outputs": [],
   "source": [
    "# Uncomment to see the error message.\n",
    "# absval_jit(3.2)"
   ]
  },
  {
   "cell_type": "markdown",
   "id": "c239f133",
   "metadata": {},
   "source": [
    "For *jax.jit* the default tracer object is *ShapedArray*. Each tracer has a concrete shape and dtype (and we are allowed to condition on these), but no concrete value. The compiled function will work on all possible inputs with the same shape."
   ]
  },
  {
   "cell_type": "markdown",
   "id": "0bfb9cc5",
   "metadata": {},
   "source": [
    "We can relax the traceability constraints in multiple ways. For example using *static_argnums* argument to *jit*, we can specify to trace on concrete (instead of abstract) values on some of the arguments."
   ]
  },
  {
   "cell_type": "code",
   "execution_count": 16,
   "id": "652f736a",
   "metadata": {},
   "outputs": [],
   "source": [
    "absval_con = jax.jit(absval, static_argnums=(0,))"
   ]
  },
  {
   "cell_type": "code",
   "execution_count": 17,
   "id": "1c682073",
   "metadata": {},
   "outputs": [
    {
     "name": "stdout",
     "output_type": "stream",
     "text": [
      "<class 'float'>\n",
      "3.2\n"
     ]
    }
   ],
   "source": [
    "print(absval_con(-3.2))"
   ]
  },
  {
   "cell_type": "markdown",
   "id": "70d956c5",
   "metadata": {},
   "source": [
    "The next example involves a loop which is statically unrolled."
   ]
  },
  {
   "cell_type": "code",
   "execution_count": 18,
   "id": "b52727a5",
   "metadata": {},
   "outputs": [],
   "source": [
    "def summer(x, n):\n",
    "  y = 0.\n",
    "  for i in range(n):\n",
    "    y = y + x[i]\n",
    "  return y\n",
    "\n",
    "summer_jit = jax.jit(summer, static_argnums=(1,))"
   ]
  },
  {
   "cell_type": "code",
   "execution_count": 19,
   "id": "195ec739",
   "metadata": {},
   "outputs": [
    {
     "data": {
      "text/plain": [
       "Array(10., dtype=float32, weak_type=True)"
      ]
     },
     "execution_count": 19,
     "metadata": {},
     "output_type": "execute_result"
    }
   ],
   "source": [
    "summer_jit(jnp.array([1,2,3,4,5,6,7,8,9,0]), 4)"
   ]
  },
  {
   "cell_type": "markdown",
   "id": "fb736400",
   "metadata": {},
   "source": [
    "## Structured control flow primitives"
   ]
  },
  {
   "cell_type": "markdown",
   "id": "b3f3a309",
   "metadata": {},
   "source": [
    "JAX has structured control flow primitives which allow to avoid recompilation with traceable control flow that avoids unrolling large loops. To capture a conditional expression for dynamic execution, one must use *jax.lax.switch()* or *jax.lax.cond()*"
   ]
  },
  {
   "cell_type": "code",
   "execution_count": 20,
   "id": "3f608aa4",
   "metadata": {},
   "outputs": [],
   "source": [
    "@jax.jit\n",
    "def one_of_three(index, arg):\n",
    "  return lax.switch(index, [lambda x: x + 1.,\n",
    "                            lambda x: x - 2.,\n",
    "                            lambda x: x + 3.], arg)"
   ]
  },
  {
   "cell_type": "code",
   "execution_count": 21,
   "id": "1b72b1f4",
   "metadata": {},
   "outputs": [
    {
     "data": {
      "text/plain": [
       "Array(10., dtype=float32, weak_type=True)"
      ]
     },
     "execution_count": 21,
     "metadata": {},
     "output_type": "execute_result"
    }
   ],
   "source": [
    "one_of_three(2, 7)"
   ]
  },
  {
   "cell_type": "code",
   "execution_count": 22,
   "id": "c54f2c00",
   "metadata": {},
   "outputs": [
    {
     "data": {
      "text/plain": [
       "Array(19., dtype=float32, weak_type=True)"
      ]
     },
     "execution_count": 22,
     "metadata": {},
     "output_type": "execute_result"
    }
   ],
   "source": [
    "one_of_three(0, 18)"
   ]
  },
  {
   "cell_type": "code",
   "execution_count": 23,
   "id": "c9210571",
   "metadata": {},
   "outputs": [
    {
     "name": "stdout",
     "output_type": "stream",
     "text": [
      "{ \u001b[34m\u001b[22m\u001b[1mlambda \u001b[39m\u001b[22m\u001b[22m; a\u001b[35m:i32[]\u001b[39m b\u001b[35m:f32[]\u001b[39m. \u001b[34m\u001b[22m\u001b[1mlet\n",
      "    \u001b[39m\u001b[22m\u001b[22mc\u001b[35m:f32[]\u001b[39m = pjit[\n",
      "      jaxpr={ \u001b[34m\u001b[22m\u001b[1mlambda \u001b[39m\u001b[22m\u001b[22m; d\u001b[35m:i32[]\u001b[39m e\u001b[35m:f32[]\u001b[39m. \u001b[34m\u001b[22m\u001b[1mlet\n",
      "          \u001b[39m\u001b[22m\u001b[22mf\u001b[35m:i32[]\u001b[39m = convert_element_type[new_dtype=int32 weak_type=False] d\n",
      "          g\u001b[35m:i32[]\u001b[39m = clamp 0 f 2\n",
      "          h\u001b[35m:f32[]\u001b[39m = cond[\n",
      "            branches=(\n",
      "              { \u001b[34m\u001b[22m\u001b[1mlambda \u001b[39m\u001b[22m\u001b[22m; i\u001b[35m:f32[]\u001b[39m. \u001b[34m\u001b[22m\u001b[1mlet\u001b[39m\u001b[22m\u001b[22m j\u001b[35m:f32[]\u001b[39m = add i 1.0 \u001b[34m\u001b[22m\u001b[1min \u001b[39m\u001b[22m\u001b[22m(j,) }\n",
      "              { \u001b[34m\u001b[22m\u001b[1mlambda \u001b[39m\u001b[22m\u001b[22m; k\u001b[35m:f32[]\u001b[39m. \u001b[34m\u001b[22m\u001b[1mlet\u001b[39m\u001b[22m\u001b[22m l\u001b[35m:f32[]\u001b[39m = sub k 2.0 \u001b[34m\u001b[22m\u001b[1min \u001b[39m\u001b[22m\u001b[22m(l,) }\n",
      "              { \u001b[34m\u001b[22m\u001b[1mlambda \u001b[39m\u001b[22m\u001b[22m; m\u001b[35m:f32[]\u001b[39m. \u001b[34m\u001b[22m\u001b[1mlet\u001b[39m\u001b[22m\u001b[22m n\u001b[35m:f32[]\u001b[39m = add m 3.0 \u001b[34m\u001b[22m\u001b[1min \u001b[39m\u001b[22m\u001b[22m(n,) }\n",
      "            )\n",
      "            linear=(False,)\n",
      "          ] g e\n",
      "        \u001b[34m\u001b[22m\u001b[1min \u001b[39m\u001b[22m\u001b[22m(h,) }\n",
      "      name=one_of_three\n",
      "    ] a b\n",
      "  \u001b[34m\u001b[22m\u001b[1min \u001b[39m\u001b[22m\u001b[22m(c,) }\n"
     ]
    }
   ],
   "source": [
    "# jax.lax provides the *cond* primitive (operation)\n",
    "# The first operand of this primitive is the branch index\n",
    "\n",
    "print(jax.make_jaxpr(one_of_three)(1, 5.))"
   ]
  },
  {
   "cell_type": "markdown",
   "id": "56e36bac",
   "metadata": {},
   "source": [
    "The signatures of these conditionals are:\n",
    "\n",
    "*lax.switch(index: int, branches: Sequence[A -> B], operand: A) -> B*\n",
    "\n",
    "*lax.cond(pred: bool, true_body: A -> B, false_body: A -> B, operand: A) -> B*"
   ]
  },
  {
   "cell_type": "markdown",
   "id": "2f6754eb",
   "metadata": {},
   "source": [
    "To capture a loop for dynamic execution the operations *jax.lax.while_loop()* and *jax.lax.fori_loop()* are available."
   ]
  },
  {
   "cell_type": "code",
   "execution_count": 24,
   "id": "da07695a",
   "metadata": {},
   "outputs": [],
   "source": [
    "@jax.jit\n",
    "def adder(arg, n):\n",
    "  ones = jnp.ones(arg.shape)\n",
    "  return lax.fori_loop(0, n,\n",
    "                       lambda i, carry: carry + ones, ones)"
   ]
  },
  {
   "cell_type": "code",
   "execution_count": 25,
   "id": "661cfdb8",
   "metadata": {},
   "outputs": [
    {
     "data": {
      "text/plain": [
       "Array([5., 5., 5.], dtype=float32)"
      ]
     },
     "execution_count": 25,
     "metadata": {},
     "output_type": "execute_result"
    }
   ],
   "source": [
    "adder(jnp.ones(3), 4)"
   ]
  },
  {
   "cell_type": "markdown",
   "id": "19640ae5",
   "metadata": {},
   "source": [
    "Dynamic loops use the *while* primitive. Notice also the XLA_call primitive *pjit*."
   ]
  },
  {
   "cell_type": "code",
   "execution_count": 26,
   "id": "aacad469",
   "metadata": {},
   "outputs": [
    {
     "name": "stdout",
     "output_type": "stream",
     "text": [
      "{ \u001b[34m\u001b[22m\u001b[1mlambda \u001b[39m\u001b[22m\u001b[22m; a\u001b[35m:f32[2]\u001b[39m b\u001b[35m:i32[]\u001b[39m. \u001b[34m\u001b[22m\u001b[1mlet\n",
      "    \u001b[39m\u001b[22m\u001b[22mc\u001b[35m:f32[2]\u001b[39m = pjit[\n",
      "      jaxpr={ \u001b[34m\u001b[22m\u001b[1mlambda \u001b[39m\u001b[22m\u001b[22m; d\u001b[35m:f32[2]\u001b[39m e\u001b[35m:i32[]\u001b[39m. \u001b[34m\u001b[22m\u001b[1mlet\n",
      "          \u001b[39m\u001b[22m\u001b[22mf\u001b[35m:f32[2]\u001b[39m = broadcast_in_dim[broadcast_dimensions=() shape=(2,)] 1.0\n",
      "          _\u001b[35m:i32[]\u001b[39m _\u001b[35m:i32[]\u001b[39m g\u001b[35m:f32[2]\u001b[39m = while[\n",
      "            body_jaxpr={ \u001b[34m\u001b[22m\u001b[1mlambda \u001b[39m\u001b[22m\u001b[22m; h\u001b[35m:f32[2]\u001b[39m i\u001b[35m:i32[]\u001b[39m j\u001b[35m:i32[]\u001b[39m k\u001b[35m:f32[2]\u001b[39m. \u001b[34m\u001b[22m\u001b[1mlet\n",
      "                \u001b[39m\u001b[22m\u001b[22ml\u001b[35m:i32[]\u001b[39m = add i 1\n",
      "                m\u001b[35m:f32[2]\u001b[39m = add k h\n",
      "              \u001b[34m\u001b[22m\u001b[1min \u001b[39m\u001b[22m\u001b[22m(l, j, m) }\n",
      "            body_nconsts=1\n",
      "            cond_jaxpr={ \u001b[34m\u001b[22m\u001b[1mlambda \u001b[39m\u001b[22m\u001b[22m; n\u001b[35m:i32[]\u001b[39m o\u001b[35m:i32[]\u001b[39m p\u001b[35m:f32[2]\u001b[39m. \u001b[34m\u001b[22m\u001b[1mlet\n",
      "                \u001b[39m\u001b[22m\u001b[22mq\u001b[35m:bool[]\u001b[39m = lt n o\n",
      "              \u001b[34m\u001b[22m\u001b[1min \u001b[39m\u001b[22m\u001b[22m(q,) }\n",
      "            cond_nconsts=0\n",
      "          ] f 0 e f\n",
      "        \u001b[34m\u001b[22m\u001b[1min \u001b[39m\u001b[22m\u001b[22m(g,) }\n",
      "      name=adder\n",
      "    ] a b\n",
      "  \u001b[34m\u001b[22m\u001b[1min \u001b[39m\u001b[22m\u001b[22m(c,) }\n"
     ]
    }
   ],
   "source": [
    "print(jax.make_jaxpr(adder)(jnp.zeros(2), 6))"
   ]
  },
  {
   "cell_type": "markdown",
   "id": "e26aabdf",
   "metadata": {},
   "source": [
    "## Summary"
   ]
  },
  {
   "cell_type": "markdown",
   "id": "091ebe84",
   "metadata": {},
   "source": [
    "\\begin{split}\n",
    "\\begin{array} {r|rr}\n",
    "\\hline \\\n",
    "\\textrm{construct}\n",
    "& \\textrm{jit}\n",
    "& \\textrm{grad} \\\\\n",
    "\\hline \\\n",
    "\\textrm{if} & ❌ & ✔ \\\\\n",
    "\\textrm{for} & ✔u & ✔\\\\\n",
    "\\textrm{while} & ✔u & ✔\\\\\n",
    "\\textrm{lax.cond} & ✔ & ✔\\\\\n",
    "\\textrm{lax.while_loop} & ✔ & \\textrm{fwd}\\\\\n",
    "\\textrm{lax.fori_loop} & ✔ & \\textrm{fwd}\\\\\n",
    "\\textrm{lax.scan} & ✔ & ✔\\\\\n",
    "\\hline\n",
    "\\end{array}\n",
    "\\end{split}\n",
    "\n",
    "*u* - unrolls the loop"
   ]
  },
  {
   "cell_type": "code",
   "execution_count": null,
   "id": "14509a2e",
   "metadata": {},
   "outputs": [],
   "source": []
  }
 ],
 "metadata": {
  "kernelspec": {
   "display_name": "Python 3 (ipykernel)",
   "language": "python",
   "name": "python3"
  },
  "language_info": {
   "codemirror_mode": {
    "name": "ipython",
    "version": 3
   },
   "file_extension": ".py",
   "mimetype": "text/x-python",
   "name": "python",
   "nbconvert_exporter": "python",
   "pygments_lexer": "ipython3",
   "version": "3.10.6"
  }
 },
 "nbformat": 4,
 "nbformat_minor": 5
}
