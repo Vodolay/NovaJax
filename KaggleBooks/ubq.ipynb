{
 "cells": [
  {
   "cell_type": "code",
   "execution_count": 1,
   "id": "b78c8c05",
   "metadata": {
    "execution": {
     "iopub.execute_input": "2022-04-18T02:03:57.320317Z",
     "iopub.status.busy": "2022-04-18T02:03:57.313892Z",
     "iopub.status.idle": "2022-04-18T02:03:57.325278Z",
     "shell.execute_reply": "2022-04-18T02:03:57.325862Z",
     "shell.execute_reply.started": "2022-04-18T02:03:08.121040Z"
    },
    "papermill": {
     "duration": 0.025495,
     "end_time": "2022-04-18T02:03:57.326164",
     "exception": false,
     "start_time": "2022-04-18T02:03:57.300669",
     "status": "completed"
    },
    "tags": []
   },
   "outputs": [
    {
     "name": "stdout",
     "output_type": "stream",
     "text": [
      "['/kaggle/working', '/kaggle/lib/kagglegym', '/kaggle/lib', '/kaggle/input/ubiquant-market-prediction', '/opt/conda/lib/python37.zip', '/opt/conda/lib/python3.7', '/opt/conda/lib/python3.7/lib-dynload', '', '/root/.local/lib/python3.7/site-packages', '/opt/conda/lib/python3.7/site-packages', '/src/bq-helper', '/opt/conda/lib/python3.7/site-packages/IPython/extensions', '/root/.ipython', '/kaggle/input/packagist']\n"
     ]
    }
   ],
   "source": [
    "import sys\n",
    "sys.path.append('/kaggle/input/packagist')\n",
    "print(sys.path)"
   ]
  },
  {
   "cell_type": "code",
   "execution_count": 2,
   "id": "d00d5143",
   "metadata": {
    "_cell_guid": "b1076dfc-b9ad-4769-8c92-a6c4dae69d19",
    "_uuid": "8f2839f25d086af736a60e9eeb907d3b93b6e0e5",
    "execution": {
     "iopub.execute_input": "2022-04-18T02:03:57.349957Z",
     "iopub.status.busy": "2022-04-18T02:03:57.349190Z",
     "iopub.status.idle": "2022-04-18T02:04:03.562870Z",
     "shell.execute_reply": "2022-04-18T02:04:03.562092Z",
     "shell.execute_reply.started": "2022-04-18T02:03:08.134186Z"
    },
    "papermill": {
     "duration": 6.227378,
     "end_time": "2022-04-18T02:04:03.563025",
     "exception": false,
     "start_time": "2022-04-18T02:03:57.335647",
     "status": "completed"
    },
    "tags": []
   },
   "outputs": [],
   "source": [
    "import copy\n",
    "import numpy as np\n",
    "import pandas as pd\n",
    "\n",
    "from pytorch_forecasting import TemporalFusionTransformer"
   ]
  },
  {
   "cell_type": "code",
   "execution_count": 3,
   "id": "8624c454",
   "metadata": {
    "execution": {
     "iopub.execute_input": "2022-04-18T02:04:03.587019Z",
     "iopub.status.busy": "2022-04-18T02:04:03.586178Z",
     "iopub.status.idle": "2022-04-18T02:04:21.653500Z",
     "shell.execute_reply": "2022-04-18T02:04:21.654565Z",
     "shell.execute_reply.started": "2022-04-18T02:03:10.489370Z"
    },
    "papermill": {
     "duration": 18.082812,
     "end_time": "2022-04-18T02:04:21.654840",
     "exception": false,
     "start_time": "2022-04-18T02:04:03.572028",
     "status": "completed"
    },
    "tags": []
   },
   "outputs": [
    {
     "name": "stderr",
     "output_type": "stream",
     "text": [
      "/opt/conda/lib/python3.7/site-packages/sklearn/base.py:333: UserWarning: Trying to unpickle estimator StandardScaler from version 1.0.2 when using version 1.0.1. This might lead to breaking code or invalid results. Use at your own risk. For more info please refer to:\n",
      "https://scikit-learn.org/stable/modules/model_persistence.html#security-maintainability-limitations\n",
      "  UserWarning,\n"
     ]
    }
   ],
   "source": [
    "tuft = TemporalFusionTransformer.load_from_checkpoint('/kaggle/input/checkpoint0/best.ckpt')"
   ]
  },
  {
   "cell_type": "code",
   "execution_count": 4,
   "id": "3c31883c",
   "metadata": {
    "execution": {
     "iopub.execute_input": "2022-04-18T02:04:21.679553Z",
     "iopub.status.busy": "2022-04-18T02:04:21.678612Z",
     "iopub.status.idle": "2022-04-18T02:04:21.700597Z",
     "shell.execute_reply": "2022-04-18T02:04:21.701168Z",
     "shell.execute_reply.started": "2022-04-18T02:03:25.141866Z"
    },
    "papermill": {
     "duration": 0.036878,
     "end_time": "2022-04-18T02:04:21.701372",
     "exception": false,
     "start_time": "2022-04-18T02:04:21.664494",
     "status": "completed"
    },
    "tags": []
   },
   "outputs": [],
   "source": [
    "import ubiquant # host's lib\n",
    "env = ubiquant.make_env()   # initialize the environment\n",
    "iter_test = env.iter_test()    # an iterator which loops over the test set and sample submission"
   ]
  },
  {
   "cell_type": "code",
   "execution_count": 5,
   "id": "51849289",
   "metadata": {
    "execution": {
     "iopub.execute_input": "2022-04-18T02:04:21.723407Z",
     "iopub.status.busy": "2022-04-18T02:04:21.722741Z",
     "iopub.status.idle": "2022-04-18T02:04:21.728876Z",
     "shell.execute_reply": "2022-04-18T02:04:21.729389Z",
     "shell.execute_reply.started": "2022-04-18T02:03:25.154393Z"
    },
    "papermill": {
     "duration": 0.018686,
     "end_time": "2022-04-18T02:04:21.729555",
     "exception": false,
     "start_time": "2022-04-18T02:04:21.710869",
     "status": "completed"
    },
    "tags": []
   },
   "outputs": [],
   "source": [
    "i = -1\n",
    "tester = pd.DataFrame()\n",
    "bester = pd.DataFrame()"
   ]
  },
  {
   "cell_type": "code",
   "execution_count": 6,
   "id": "d2d97246",
   "metadata": {
    "execution": {
     "iopub.execute_input": "2022-04-18T02:04:21.751269Z",
     "iopub.status.busy": "2022-04-18T02:04:21.750624Z",
     "iopub.status.idle": "2022-04-18T02:04:26.373670Z",
     "shell.execute_reply": "2022-04-18T02:04:26.372877Z",
     "shell.execute_reply.started": "2022-04-18T02:03:25.164019Z"
    },
    "papermill": {
     "duration": 4.634898,
     "end_time": "2022-04-18T02:04:26.373838",
     "exception": false,
     "start_time": "2022-04-18T02:04:21.738940",
     "status": "completed"
    },
    "tags": []
   },
   "outputs": [
    {
     "name": "stdout",
     "output_type": "stream",
     "text": [
      "This version of the API is not optimized and should not be used to estimate the runtime of your code on the hidden test set.\n"
     ]
    }
   ],
   "source": [
    "for (test_df, sample_prediction_df) in iter_test:\n",
    "    #print(sample_prediction_df)\n",
    "    #print(type(sample_prediction_df.iloc[0,1]))\n",
    "    #print('\\n')\n",
    "    i += 1\n",
    "    if 'time_id' not in test_df.columns:\n",
    "        test_df['time_id'] = test_df['row_id'].apply(lambda x: int(x.split('_')[0]))\n",
    "    test_df.investment_id = test_df.investment_id.astype(str)\n",
    "    test_df['target'] = 0\n",
    "    uni = list(test_df.investment_id.unique())\n",
    "    \n",
    "    if i == 0:\n",
    "        tester = test_df\n",
    "        initime = test_df['time_id'][0]\n",
    "        # print(initime)\n",
    "    else: \n",
    "        frames = [tester, test_df]\n",
    "        tester = pd.concat(frames, ignore_index=True)\n",
    "        tester = tester[tester['time_id'] >= initime + i - 9]\n",
    "    \n",
    "    bester = tester.loc[tester['investment_id'].isin(uni)].copy()\n",
    "    buba = bester[\"investment_id\"].value_counts()\n",
    "    if buba.min() == 1:\n",
    "        # print(buba)\n",
    "        for invid in uni:\n",
    "            if buba[invid] == 1:\n",
    "                muma = bester[bester['investment_id'] == invid].copy()\n",
    "                muma.at[muma.index[0], 'time_id'] -= 1\n",
    "                dframes = [bester, muma]\n",
    "                bester = pd.concat(dframes, ignore_index=True)\n",
    "    \n",
    "    coda = tuft.predict(bester, return_index=True)\n",
    "    coda[1]['row_id'] = coda[1]['time_id'].astype(str) + '_' + coda[1]['investment_id'].astype(str)\n",
    "    coda[1]['target'] = coda[0].numpy().astype(np.float64)\n",
    "    pup = sample_prediction_df.merge(coda[1], how='left', on='row_id')\n",
    "    \n",
    "    sample_prediction_df['target'] = pup['target_y']\n",
    "    #print(sample_prediction_df)\n",
    "    #print(type(sample_prediction_df.iloc[0,1]))\n",
    "    #print('\\n')\n",
    "    env.predict(sample_prediction_df)"
   ]
  },
  {
   "cell_type": "code",
   "execution_count": null,
   "id": "ee2aad3c",
   "metadata": {
    "papermill": {
     "duration": 0.009133,
     "end_time": "2022-04-18T02:04:26.392828",
     "exception": false,
     "start_time": "2022-04-18T02:04:26.383695",
     "status": "completed"
    },
    "tags": []
   },
   "outputs": [],
   "source": []
  }
 ],
 "metadata": {
  "kernelspec": {
   "display_name": "Python 3",
   "language": "python",
   "name": "python3"
  },
  "language_info": {
   "codemirror_mode": {
    "name": "ipython",
    "version": 3
   },
   "file_extension": ".py",
   "mimetype": "text/x-python",
   "name": "python",
   "nbconvert_exporter": "python",
   "pygments_lexer": "ipython3",
   "version": "3.7.12"
  },
  "papermill": {
   "default_parameters": {},
   "duration": 40.259689,
   "end_time": "2022-04-18T02:04:27.714854",
   "environment_variables": {},
   "exception": null,
   "input_path": "__notebook__.ipynb",
   "output_path": "__notebook__.ipynb",
   "parameters": {},
   "start_time": "2022-04-18T02:03:47.455165",
   "version": "2.3.3"
  }
 },
 "nbformat": 4,
 "nbformat_minor": 5
}
