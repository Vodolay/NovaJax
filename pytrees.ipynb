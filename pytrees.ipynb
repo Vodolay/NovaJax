{
 "cells": [
  {
   "cell_type": "code",
   "execution_count": 1,
   "id": "fde76269",
   "metadata": {},
   "outputs": [],
   "source": [
    "import jax\n",
    "import jax.numpy as jnp"
   ]
  },
  {
   "cell_type": "markdown",
   "id": "b8445786",
   "metadata": {},
   "source": [
    "A pytree is a container of leaf elements and/or more pytrees. Standard containers include lists, tuples, dictionaries. Users registered containers are also allowed. A leaf elements is anything which is not a pytree."
   ]
  },
  {
   "cell_type": "code",
   "execution_count": 2,
   "id": "a5d61a43",
   "metadata": {},
   "outputs": [],
   "source": [
    "example_trees = [\n",
    "    [1, 2, ('a', 'b')],\n",
    "    (11, (12, 13), ()),\n",
    "    [{'evergreen': 'fir', 'deciduous': ('oak', 'maple')}, {'mammal': 'wolverine'}],\n",
    "    {'a': 2, 'b': (2, 3)},\n",
    "    jnp.array([1, 2, 3]),\n",
    "]"
   ]
  },
  {
   "cell_type": "code",
   "execution_count": 3,
   "id": "45a86eac",
   "metadata": {},
   "outputs": [
    {
     "name": "stdout",
     "output_type": "stream",
     "text": [
      "[1, 2, ('a', 'b')]                            has 4 leaves: [1, 2, 'a', 'b']\n",
      "(11, (12, 13), ())                            has 3 leaves: [11, 12, 13]\n",
      "[{'evergreen': 'fir', 'deciduous': ('oak', 'maple')}, {'mammal': 'wolverine'}] has 4 leaves: ['oak', 'maple', 'fir', 'wolverine']\n",
      "{'a': 2, 'b': (2, 3)}                         has 3 leaves: [2, 2, 3]\n",
      "Array([1, 2, 3], dtype=int32)                 has 1 leaves: [Array([1, 2, 3], dtype=int32)]\n"
     ]
    }
   ],
   "source": [
    "for pytree in example_trees:\n",
    "  leaves = jax.tree_util.tree_leaves(pytree)\n",
    "  print(f\"{repr(pytree):<45} has {len(leaves)} leaves: {leaves}\")"
   ]
  },
  {
   "cell_type": "markdown",
   "id": "6a5e2062",
   "metadata": {},
   "source": [
    "jax.tree_map applies a function to the leaves"
   ]
  },
  {
   "cell_type": "code",
   "execution_count": 4,
   "id": "4ad7c446",
   "metadata": {},
   "outputs": [],
   "source": [
    "init_tree = [\n",
    "    [1, 2, [3, 4]],\n",
    "    (10, 20),\n",
    "    {\"k1\": 5, \"k2\": 3}\n",
    "]"
   ]
  },
  {
   "cell_type": "code",
   "execution_count": 5,
   "id": "64d7d8a3",
   "metadata": {},
   "outputs": [
    {
     "data": {
      "text/plain": [
       "[[1, 4, [9, 16]], (100, 400), {'k1': 25, 'k2': 9}]"
      ]
     },
     "execution_count": 5,
     "metadata": {},
     "output_type": "execute_result"
    }
   ],
   "source": [
    "modified_tree = jax.tree_map(lambda x: x**2, init_tree)\n",
    "modified_tree"
   ]
  },
  {
   "cell_type": "markdown",
   "id": "fa62dfdd",
   "metadata": {},
   "source": [
    "And we can even tree_map multiple trees. Of course the structure of the inputs must match."
   ]
  },
  {
   "cell_type": "code",
   "execution_count": 6,
   "id": "12c81adb",
   "metadata": {},
   "outputs": [
    {
     "data": {
      "text/plain": [
       "[[6, 14, [24, 36]], (150, 500), {'k1': 50, 'k2': 24}]"
      ]
     },
     "execution_count": 6,
     "metadata": {},
     "output_type": "execute_result"
    }
   ],
   "source": [
    "jax.tree_map(lambda x,y: 5*x+y, init_tree, modified_tree)"
   ]
  },
  {
   "cell_type": "markdown",
   "id": "48b304ac",
   "metadata": {},
   "source": [
    "We can also view the pytree structure of arbitrary objects. These structures are coded in a treedef object."
   ]
  },
  {
   "cell_type": "code",
   "execution_count": 7,
   "id": "aa31de3b",
   "metadata": {},
   "outputs": [
    {
     "name": "stdout",
     "output_type": "stream",
     "text": [
      "PyTreeDef([[*, *, [*, *]], (*, *), {'k1': *, 'k2': *}])\n"
     ]
    }
   ],
   "source": [
    "print(jax.tree_util.tree_structure(init_tree))"
   ]
  },
  {
   "cell_type": "code",
   "execution_count": 8,
   "id": "e5c4cf16",
   "metadata": {},
   "outputs": [],
   "source": [
    "arr = (jnp.zeros((2,3)), jnp.ones((3,4)))"
   ]
  },
  {
   "cell_type": "code",
   "execution_count": 9,
   "id": "fc541b4f",
   "metadata": {},
   "outputs": [
    {
     "name": "stdout",
     "output_type": "stream",
     "text": [
      "PyTreeDef((*, *))\n"
     ]
    }
   ],
   "source": [
    "print(jax.tree_util.tree_structure(arr))"
   ]
  },
  {
   "cell_type": "markdown",
   "id": "b885fc3f",
   "metadata": {},
   "source": [
    "When JAX flattens a pytree it will produce a list of leaves and a treedef object that encodes the structure of the original value. The treedef can then be used to construct a matching structured value after transforming the leaves."
   ]
  },
  {
   "cell_type": "code",
   "execution_count": 10,
   "id": "1ca99df7",
   "metadata": {},
   "outputs": [
    {
     "name": "stdout",
     "output_type": "stream",
     "text": [
      "Leaves [1, 2, 3, 4, 10, 20, 5, 3], Tree PyTreeDef([[*, *, [*, *]], (*, *), {'k1': *, 'k2': *}])\n"
     ]
    }
   ],
   "source": [
    "flat, tree = jax.tree_util.tree_flatten(init_tree)\n",
    "print(f\"Leaves {flat}, Tree {tree}\")"
   ]
  },
  {
   "cell_type": "code",
   "execution_count": 11,
   "id": "3f6855dc",
   "metadata": {},
   "outputs": [
    {
     "name": "stdout",
     "output_type": "stream",
     "text": [
      "transformed_flat=[7, 14, 21, 28, 70, 140, 35, 21]\n"
     ]
    }
   ],
   "source": [
    "transformed_flat = list(map(lambda v: v * 7, flat))\n",
    "print(f\"{transformed_flat=}\")"
   ]
  },
  {
   "cell_type": "code",
   "execution_count": 12,
   "id": "4e050c42",
   "metadata": {},
   "outputs": [
    {
     "name": "stdout",
     "output_type": "stream",
     "text": [
      "[[7, 14, [21, 28]], (70, 140), {'k1': 35, 'k2': 21}]\n"
     ]
    }
   ],
   "source": [
    "reconstructed = jax.tree_util.tree_unflatten(tree, transformed_flat)\n",
    "print(reconstructed)"
   ]
  },
  {
   "cell_type": "markdown",
   "id": "6e3908d6",
   "metadata": {},
   "source": [
    "And we can define our own custom pytree containers to serve as nodes. As part of the definition we have to indicate how to flatten and how to unflatten the container."
   ]
  },
  {
   "cell_type": "code",
   "execution_count": 13,
   "id": "6707088d",
   "metadata": {},
   "outputs": [],
   "source": [
    "from jax.tree_util import register_pytree_node_class\n",
    "\n",
    "@register_pytree_node_class\n",
    "class MyNode:\n",
    "  def __init__(self, name: str, a: int, b: int, c: str):\n",
    "    self.name = name\n",
    "    self.a = a\n",
    "    self.b = b\n",
    "    self.c = c\n",
    "    \n",
    "  def __repr__(self):\n",
    "    return \"MyNode(Name={}, a={}, b={}, c={})\".format(self.name, self.a, self.b, self.c)\n",
    "    \n",
    "  def tree_flatten(self):\n",
    "    flat_contents = [self.a, self.b, self.c]\n",
    "    aux_data = self.name #The name is not a child\n",
    "    return flat_contents, aux_data\n",
    "  \n",
    "  @classmethod\n",
    "  def tree_unflatten(cls, aux_data, flat_contents):\n",
    "    return MyNode(aux_data, *flat_contents)"
   ]
  },
  {
   "cell_type": "code",
   "execution_count": 14,
   "id": "d4120953",
   "metadata": {},
   "outputs": [
    {
     "name": "stdout",
     "output_type": "stream",
     "text": [
      "MyNode(Name=Alice, a=1, b=2, c=Flax)\n"
     ]
    }
   ],
   "source": [
    "print(MyNode('Alice', 1, 2, 'Flax'))"
   ]
  },
  {
   "cell_type": "code",
   "execution_count": 15,
   "id": "c2a31992",
   "metadata": {},
   "outputs": [
    {
     "data": {
      "text/plain": [
       "[1, 2, 'Flax', 4, 5, 'Linen']"
      ]
     },
     "execution_count": 15,
     "metadata": {},
     "output_type": "execute_result"
    }
   ],
   "source": [
    "jax.tree_util.tree_leaves([\n",
    "    MyNode('Alice', 1, 2, 'Flax'),\n",
    "    MyNode('Bob', 4, 5, 'Linen')\n",
    "])"
   ]
  },
  {
   "cell_type": "code",
   "execution_count": 16,
   "id": "9cf0ddc8",
   "metadata": {},
   "outputs": [
    {
     "data": {
      "text/plain": [
       "[11, 22, 'FlaxLinen']"
      ]
     },
     "execution_count": 16,
     "metadata": {},
     "output_type": "execute_result"
    }
   ],
   "source": [
    "Alice_and_Bob = jax.tree_map(lambda x,y: x+y, \n",
    "    MyNode('Alice', 1, 2, 'Flax'),\n",
    "    MyNode('Alice', 10, 20, 'Linen')) #The custom data must match\n",
    "jax.tree_util.tree_leaves(Alice_and_Bob)"
   ]
  },
  {
   "cell_type": "code",
   "execution_count": 17,
   "id": "a73e0910",
   "metadata": {},
   "outputs": [
    {
     "data": {
      "text/plain": [
       "'Alice'"
      ]
     },
     "execution_count": 17,
     "metadata": {},
     "output_type": "execute_result"
    }
   ],
   "source": [
    "Alice_and_Bob.name"
   ]
  },
  {
   "cell_type": "markdown",
   "id": "717cb25b",
   "metadata": {},
   "source": [
    "jax.tree_utils treats None as a node without children, not as a leaf:"
   ]
  },
  {
   "cell_type": "code",
   "execution_count": 18,
   "id": "252b6e35",
   "metadata": {},
   "outputs": [
    {
     "data": {
      "text/plain": [
       "[False]"
      ]
     },
     "execution_count": 18,
     "metadata": {},
     "output_type": "execute_result"
    }
   ],
   "source": [
    "jax.tree_util.tree_leaves([None, (), False])"
   ]
  },
  {
   "cell_type": "code",
   "execution_count": null,
   "id": "5a138522",
   "metadata": {},
   "outputs": [],
   "source": []
  }
 ],
 "metadata": {
  "kernelspec": {
   "display_name": "Python 3 (ipykernel)",
   "language": "python",
   "name": "python3"
  },
  "language_info": {
   "codemirror_mode": {
    "name": "ipython",
    "version": 3
   },
   "file_extension": ".py",
   "mimetype": "text/x-python",
   "name": "python",
   "nbconvert_exporter": "python",
   "pygments_lexer": "ipython3",
   "version": "3.10.6"
  }
 },
 "nbformat": 4,
 "nbformat_minor": 5
}
